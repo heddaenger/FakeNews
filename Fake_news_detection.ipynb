{
  "nbformat": 4,
  "nbformat_minor": 0,
  "metadata": {
    "colab": {
      "provenance": [],
      "gpuType": "T4",
      "include_colab_link": true
    },
    "kernelspec": {
      "name": "python3",
      "display_name": "Python 3"
    },
    "language_info": {
      "name": "python"
    },
    "accelerator": "GPU"
  },
  "cells": [
    {
      "cell_type": "markdown",
      "metadata": {
        "id": "view-in-github",
        "colab_type": "text"
      },
      "source": [
        "<a href=\"https://colab.research.google.com/github/heddaenger/FakeNews/blob/main/Fake_news_detection.ipynb\" target=\"_parent\"><img src=\"https://colab.research.google.com/assets/colab-badge.svg\" alt=\"Open In Colab\"/></a>"
      ]
    },
    {
      "cell_type": "code",
      "execution_count": 1,
      "metadata": {
        "id": "8N-73iWgzFbW",
        "colab": {
          "base_uri": "https://localhost:8080/"
        },
        "outputId": "f8bd1748-37f7-4b60-e7ad-3211d0600c56"
      },
      "outputs": [
        {
          "output_type": "stream",
          "name": "stderr",
          "text": [
            "[nltk_data] Downloading package punkt to /root/nltk_data...\n",
            "[nltk_data]   Package punkt is already up-to-date!\n",
            "[nltk_data] Downloading package stopwords to /root/nltk_data...\n",
            "[nltk_data]   Package stopwords is already up-to-date!\n"
          ]
        }
      ],
      "source": [
        "from typing import Callable # Extra: read about type hints: https://docs.python.org/3/library/typing.html\n",
        "import warnings\n",
        "\n",
        "\n",
        "# needs to run before importing pandas. Silences a harmless pandas FutureWarning\n",
        "warnings.simplefilter(action='ignore', category=FutureWarning)\n",
        "\n",
        "import pandas as pd\n",
        "import spacy\n",
        "import nltk\n",
        "from nltk.corpus import stopwords as nltk_stopwords\n",
        "from nltk.tokenize import word_tokenize\n",
        "import string\n",
        "from scipy.sparse import csr_matrix\n",
        "import plotly.express as px\n",
        "from sklearn.feature_extraction.text import CountVectorizer, TfidfVectorizer, TfidfTransformer\n",
        "from sklearn.model_selection import train_test_split\n",
        "from sklearn.linear_model import LogisticRegression\n",
        "from sklearn.metrics import classification_report, confusion_matrix, roc_curve, auc, precision_recall_curve, f1_score\n",
        "from sklearn.metrics import classification_report\n",
        "from sklearn.ensemble import RandomForestClassifier\n",
        "from sklearn.model_selection import GridSearchCV, RandomizedSearchCV\n",
        "from sklearn.pipeline import make_pipeline\n",
        "from sklearn.preprocessing import StandardScaler, PolynomialFeatures\n",
        "import numpy as np\n",
        "\n",
        "nltk.download('punkt')\n",
        "nltk.download('stopwords')\n",
        "\n",
        "# disable in-cell scientific notation\n",
        "pd.options.display.float_format = '{:.0f}'.format\n",
        "\n",
        "# set plotly as the plotting backend for pandas\n",
        "pd.options.plotting.backend = \"plotly\""
      ]
    },
    {
      "cell_type": "code",
      "source": [
        "#Load data\n",
        "class CSVLoader:\n",
        "    \"\"\" Load a CSV file into a pandas DataFrame.\"\"\"\n",
        "\n",
        "    @staticmethod\n",
        "    def fetch(path : str, **kwargs) -> pd.DataFrame:\n",
        "        return pd.read_csv(path, **kwargs)\n",
        "\n",
        "    def load(self, path : str, prep_func : Callable | None, **kwargs) -> pd.DataFrame:\n",
        "        data = self.fetch(path, **kwargs)\n",
        "        if isinstance(prep_func, Callable):\n",
        "            return prep_func(data)\n",
        "        return data"
      ],
      "metadata": {
        "id": "sqxWj0Ot7fAf"
      },
      "execution_count": 2,
      "outputs": []
    },
    {
      "cell_type": "code",
      "source": [
        "from google.colab import drive\n",
        "drive.mount('/content/drive')"
      ],
      "metadata": {
        "colab": {
          "base_uri": "https://localhost:8080/"
        },
        "id": "8sVziYED9spN",
        "outputId": "fb869357-1dd5-4b63-e1be-aabdfa82bbdc"
      },
      "execution_count": 3,
      "outputs": [
        {
          "output_type": "stream",
          "name": "stdout",
          "text": [
            "Drive already mounted at /content/drive; to attempt to forcibly remount, call drive.mount(\"/content/drive\", force_remount=True).\n"
          ]
        }
      ]
    },
    {
      "cell_type": "code",
      "source": [
        "def preprocess_emotions(df: pd.DataFrame) -> pd.DataFrame:\n",
        "    \"\"\" A data preparation function for the fake news dataset.\"\"\"\n",
        "    return (\n",
        "        df\n",
        "        .drop(columns=['Unnamed: 0'], errors='ignore')\n",
        "        .astype({\"text\": 'string', \"label\": 'category'})\n",
        "    )\n",
        "\n",
        "dataf = CSVLoader().load(\n",
        "    path='/content/drive/MyDrive/train.csv',\n",
        "    prep_func=preprocess_emotions\n",
        ")"
      ],
      "metadata": {
        "id": "w1uE1Rj79vNe"
      },
      "execution_count": 4,
      "outputs": []
    },
    {
      "cell_type": "code",
      "source": [
        "dataf.head()"
      ],
      "metadata": {
        "id": "zdmZ6Sqh_GDj",
        "colab": {
          "base_uri": "https://localhost:8080/",
          "height": 206
        },
        "outputId": "dc16e404-be6d-46ae-ad6f-6a0a93456988"
      },
      "execution_count": 5,
      "outputs": [
        {
          "output_type": "execute_result",
          "data": {
            "text/plain": [
              "   id                                              title              author  \\\n",
              "0   0  House Dem Aide: We Didn’t Even See Comey’s Let...       Darrell Lucus   \n",
              "1   1  FLYNN: Hillary Clinton, Big Woman on Campus - ...     Daniel J. Flynn   \n",
              "2   2                  Why the Truth Might Get You Fired  Consortiumnews.com   \n",
              "3   3  15 Civilians Killed In Single US Airstrike Hav...     Jessica Purkiss   \n",
              "4   4  Iranian woman jailed for fictional unpublished...      Howard Portnoy   \n",
              "\n",
              "                                                text label  \n",
              "0  House Dem Aide: We Didn’t Even See Comey’s Let...     1  \n",
              "1  Ever get the feeling your life circles the rou...     0  \n",
              "2  Why the Truth Might Get You Fired October 29, ...     1  \n",
              "3  Videos 15 Civilians Killed In Single US Airstr...     1  \n",
              "4  Print \n",
              "An Iranian woman has been sentenced to ...     1  "
            ],
            "text/html": [
              "\n",
              "  <div id=\"df-e5bad4aa-73cb-45e3-ba85-7189e44e358a\" class=\"colab-df-container\">\n",
              "    <div>\n",
              "<style scoped>\n",
              "    .dataframe tbody tr th:only-of-type {\n",
              "        vertical-align: middle;\n",
              "    }\n",
              "\n",
              "    .dataframe tbody tr th {\n",
              "        vertical-align: top;\n",
              "    }\n",
              "\n",
              "    .dataframe thead th {\n",
              "        text-align: right;\n",
              "    }\n",
              "</style>\n",
              "<table border=\"1\" class=\"dataframe\">\n",
              "  <thead>\n",
              "    <tr style=\"text-align: right;\">\n",
              "      <th></th>\n",
              "      <th>id</th>\n",
              "      <th>title</th>\n",
              "      <th>author</th>\n",
              "      <th>text</th>\n",
              "      <th>label</th>\n",
              "    </tr>\n",
              "  </thead>\n",
              "  <tbody>\n",
              "    <tr>\n",
              "      <th>0</th>\n",
              "      <td>0</td>\n",
              "      <td>House Dem Aide: We Didn’t Even See Comey’s Let...</td>\n",
              "      <td>Darrell Lucus</td>\n",
              "      <td>House Dem Aide: We Didn’t Even See Comey’s Let...</td>\n",
              "      <td>1</td>\n",
              "    </tr>\n",
              "    <tr>\n",
              "      <th>1</th>\n",
              "      <td>1</td>\n",
              "      <td>FLYNN: Hillary Clinton, Big Woman on Campus - ...</td>\n",
              "      <td>Daniel J. Flynn</td>\n",
              "      <td>Ever get the feeling your life circles the rou...</td>\n",
              "      <td>0</td>\n",
              "    </tr>\n",
              "    <tr>\n",
              "      <th>2</th>\n",
              "      <td>2</td>\n",
              "      <td>Why the Truth Might Get You Fired</td>\n",
              "      <td>Consortiumnews.com</td>\n",
              "      <td>Why the Truth Might Get You Fired October 29, ...</td>\n",
              "      <td>1</td>\n",
              "    </tr>\n",
              "    <tr>\n",
              "      <th>3</th>\n",
              "      <td>3</td>\n",
              "      <td>15 Civilians Killed In Single US Airstrike Hav...</td>\n",
              "      <td>Jessica Purkiss</td>\n",
              "      <td>Videos 15 Civilians Killed In Single US Airstr...</td>\n",
              "      <td>1</td>\n",
              "    </tr>\n",
              "    <tr>\n",
              "      <th>4</th>\n",
              "      <td>4</td>\n",
              "      <td>Iranian woman jailed for fictional unpublished...</td>\n",
              "      <td>Howard Portnoy</td>\n",
              "      <td>Print \n",
              "An Iranian woman has been sentenced to ...</td>\n",
              "      <td>1</td>\n",
              "    </tr>\n",
              "  </tbody>\n",
              "</table>\n",
              "</div>\n",
              "    <div class=\"colab-df-buttons\">\n",
              "\n",
              "  <div class=\"colab-df-container\">\n",
              "    <button class=\"colab-df-convert\" onclick=\"convertToInteractive('df-e5bad4aa-73cb-45e3-ba85-7189e44e358a')\"\n",
              "            title=\"Convert this dataframe to an interactive table.\"\n",
              "            style=\"display:none;\">\n",
              "\n",
              "  <svg xmlns=\"http://www.w3.org/2000/svg\" height=\"24px\" viewBox=\"0 -960 960 960\">\n",
              "    <path d=\"M120-120v-720h720v720H120Zm60-500h600v-160H180v160Zm220 220h160v-160H400v160Zm0 220h160v-160H400v160ZM180-400h160v-160H180v160Zm440 0h160v-160H620v160ZM180-180h160v-160H180v160Zm440 0h160v-160H620v160Z\"/>\n",
              "  </svg>\n",
              "    </button>\n",
              "\n",
              "  <style>\n",
              "    .colab-df-container {\n",
              "      display:flex;\n",
              "      gap: 12px;\n",
              "    }\n",
              "\n",
              "    .colab-df-convert {\n",
              "      background-color: #E8F0FE;\n",
              "      border: none;\n",
              "      border-radius: 50%;\n",
              "      cursor: pointer;\n",
              "      display: none;\n",
              "      fill: #1967D2;\n",
              "      height: 32px;\n",
              "      padding: 0 0 0 0;\n",
              "      width: 32px;\n",
              "    }\n",
              "\n",
              "    .colab-df-convert:hover {\n",
              "      background-color: #E2EBFA;\n",
              "      box-shadow: 0px 1px 2px rgba(60, 64, 67, 0.3), 0px 1px 3px 1px rgba(60, 64, 67, 0.15);\n",
              "      fill: #174EA6;\n",
              "    }\n",
              "\n",
              "    .colab-df-buttons div {\n",
              "      margin-bottom: 4px;\n",
              "    }\n",
              "\n",
              "    [theme=dark] .colab-df-convert {\n",
              "      background-color: #3B4455;\n",
              "      fill: #D2E3FC;\n",
              "    }\n",
              "\n",
              "    [theme=dark] .colab-df-convert:hover {\n",
              "      background-color: #434B5C;\n",
              "      box-shadow: 0px 1px 3px 1px rgba(0, 0, 0, 0.15);\n",
              "      filter: drop-shadow(0px 1px 2px rgba(0, 0, 0, 0.3));\n",
              "      fill: #FFFFFF;\n",
              "    }\n",
              "  </style>\n",
              "\n",
              "    <script>\n",
              "      const buttonEl =\n",
              "        document.querySelector('#df-e5bad4aa-73cb-45e3-ba85-7189e44e358a button.colab-df-convert');\n",
              "      buttonEl.style.display =\n",
              "        google.colab.kernel.accessAllowed ? 'block' : 'none';\n",
              "\n",
              "      async function convertToInteractive(key) {\n",
              "        const element = document.querySelector('#df-e5bad4aa-73cb-45e3-ba85-7189e44e358a');\n",
              "        const dataTable =\n",
              "          await google.colab.kernel.invokeFunction('convertToInteractive',\n",
              "                                                    [key], {});\n",
              "        if (!dataTable) return;\n",
              "\n",
              "        const docLinkHtml = 'Like what you see? Visit the ' +\n",
              "          '<a target=\"_blank\" href=https://colab.research.google.com/notebooks/data_table.ipynb>data table notebook</a>'\n",
              "          + ' to learn more about interactive tables.';\n",
              "        element.innerHTML = '';\n",
              "        dataTable['output_type'] = 'display_data';\n",
              "        await google.colab.output.renderOutput(dataTable, element);\n",
              "        const docLink = document.createElement('div');\n",
              "        docLink.innerHTML = docLinkHtml;\n",
              "        element.appendChild(docLink);\n",
              "      }\n",
              "    </script>\n",
              "  </div>\n",
              "\n",
              "\n",
              "<div id=\"df-481b036e-f6ad-45a5-850f-94d897459b31\">\n",
              "  <button class=\"colab-df-quickchart\" onclick=\"quickchart('df-481b036e-f6ad-45a5-850f-94d897459b31')\"\n",
              "            title=\"Suggest charts\"\n",
              "            style=\"display:none;\">\n",
              "\n",
              "<svg xmlns=\"http://www.w3.org/2000/svg\" height=\"24px\"viewBox=\"0 0 24 24\"\n",
              "     width=\"24px\">\n",
              "    <g>\n",
              "        <path d=\"M19 3H5c-1.1 0-2 .9-2 2v14c0 1.1.9 2 2 2h14c1.1 0 2-.9 2-2V5c0-1.1-.9-2-2-2zM9 17H7v-7h2v7zm4 0h-2V7h2v10zm4 0h-2v-4h2v4z\"/>\n",
              "    </g>\n",
              "</svg>\n",
              "  </button>\n",
              "\n",
              "<style>\n",
              "  .colab-df-quickchart {\n",
              "      --bg-color: #E8F0FE;\n",
              "      --fill-color: #1967D2;\n",
              "      --hover-bg-color: #E2EBFA;\n",
              "      --hover-fill-color: #174EA6;\n",
              "      --disabled-fill-color: #AAA;\n",
              "      --disabled-bg-color: #DDD;\n",
              "  }\n",
              "\n",
              "  [theme=dark] .colab-df-quickchart {\n",
              "      --bg-color: #3B4455;\n",
              "      --fill-color: #D2E3FC;\n",
              "      --hover-bg-color: #434B5C;\n",
              "      --hover-fill-color: #FFFFFF;\n",
              "      --disabled-bg-color: #3B4455;\n",
              "      --disabled-fill-color: #666;\n",
              "  }\n",
              "\n",
              "  .colab-df-quickchart {\n",
              "    background-color: var(--bg-color);\n",
              "    border: none;\n",
              "    border-radius: 50%;\n",
              "    cursor: pointer;\n",
              "    display: none;\n",
              "    fill: var(--fill-color);\n",
              "    height: 32px;\n",
              "    padding: 0;\n",
              "    width: 32px;\n",
              "  }\n",
              "\n",
              "  .colab-df-quickchart:hover {\n",
              "    background-color: var(--hover-bg-color);\n",
              "    box-shadow: 0 1px 2px rgba(60, 64, 67, 0.3), 0 1px 3px 1px rgba(60, 64, 67, 0.15);\n",
              "    fill: var(--button-hover-fill-color);\n",
              "  }\n",
              "\n",
              "  .colab-df-quickchart-complete:disabled,\n",
              "  .colab-df-quickchart-complete:disabled:hover {\n",
              "    background-color: var(--disabled-bg-color);\n",
              "    fill: var(--disabled-fill-color);\n",
              "    box-shadow: none;\n",
              "  }\n",
              "\n",
              "  .colab-df-spinner {\n",
              "    border: 2px solid var(--fill-color);\n",
              "    border-color: transparent;\n",
              "    border-bottom-color: var(--fill-color);\n",
              "    animation:\n",
              "      spin 1s steps(1) infinite;\n",
              "  }\n",
              "\n",
              "  @keyframes spin {\n",
              "    0% {\n",
              "      border-color: transparent;\n",
              "      border-bottom-color: var(--fill-color);\n",
              "      border-left-color: var(--fill-color);\n",
              "    }\n",
              "    20% {\n",
              "      border-color: transparent;\n",
              "      border-left-color: var(--fill-color);\n",
              "      border-top-color: var(--fill-color);\n",
              "    }\n",
              "    30% {\n",
              "      border-color: transparent;\n",
              "      border-left-color: var(--fill-color);\n",
              "      border-top-color: var(--fill-color);\n",
              "      border-right-color: var(--fill-color);\n",
              "    }\n",
              "    40% {\n",
              "      border-color: transparent;\n",
              "      border-right-color: var(--fill-color);\n",
              "      border-top-color: var(--fill-color);\n",
              "    }\n",
              "    60% {\n",
              "      border-color: transparent;\n",
              "      border-right-color: var(--fill-color);\n",
              "    }\n",
              "    80% {\n",
              "      border-color: transparent;\n",
              "      border-right-color: var(--fill-color);\n",
              "      border-bottom-color: var(--fill-color);\n",
              "    }\n",
              "    90% {\n",
              "      border-color: transparent;\n",
              "      border-bottom-color: var(--fill-color);\n",
              "    }\n",
              "  }\n",
              "</style>\n",
              "\n",
              "  <script>\n",
              "    async function quickchart(key) {\n",
              "      const quickchartButtonEl =\n",
              "        document.querySelector('#' + key + ' button');\n",
              "      quickchartButtonEl.disabled = true;  // To prevent multiple clicks.\n",
              "      quickchartButtonEl.classList.add('colab-df-spinner');\n",
              "      try {\n",
              "        const charts = await google.colab.kernel.invokeFunction(\n",
              "            'suggestCharts', [key], {});\n",
              "      } catch (error) {\n",
              "        console.error('Error during call to suggestCharts:', error);\n",
              "      }\n",
              "      quickchartButtonEl.classList.remove('colab-df-spinner');\n",
              "      quickchartButtonEl.classList.add('colab-df-quickchart-complete');\n",
              "    }\n",
              "    (() => {\n",
              "      let quickchartButtonEl =\n",
              "        document.querySelector('#df-481b036e-f6ad-45a5-850f-94d897459b31 button');\n",
              "      quickchartButtonEl.style.display =\n",
              "        google.colab.kernel.accessAllowed ? 'block' : 'none';\n",
              "    })();\n",
              "  </script>\n",
              "</div>\n",
              "    </div>\n",
              "  </div>\n"
            ],
            "application/vnd.google.colaboratory.intrinsic+json": {
              "type": "dataframe",
              "variable_name": "dataf",
              "summary": "{\n  \"name\": \"dataf\",\n  \"rows\": 20800,\n  \"fields\": [\n    {\n      \"column\": \"id\",\n      \"properties\": {\n        \"dtype\": \"number\",\n        \"std\": 6004,\n        \"min\": 0,\n        \"max\": 20799,\n        \"num_unique_values\": 20800,\n        \"samples\": [\n          14649,\n          9231,\n          6473\n        ],\n        \"semantic_type\": \"\",\n        \"description\": \"\"\n      }\n    },\n    {\n      \"column\": \"title\",\n      \"properties\": {\n        \"dtype\": \"string\",\n        \"num_unique_values\": 19803,\n        \"samples\": [\n          \"Florida Republicans Voting for Hillary Clinton \\u00b7 Guardian Liberty Voice\",\n          \"\\u2018Weekend Warriors\\u2019 Show Survival Benefits - The New York Times\",\n          \"Part 6, Democratic Network Money: Commons Money that Works for Us, Instead of Us Working for It\"\n        ],\n        \"semantic_type\": \"\",\n        \"description\": \"\"\n      }\n    },\n    {\n      \"column\": \"author\",\n      \"properties\": {\n        \"dtype\": \"category\",\n        \"num_unique_values\": 4201,\n        \"samples\": [\n          \"AARGH63\",\n          \"Dave Kehr\",\n          \"Patrick Healy\"\n        ],\n        \"semantic_type\": \"\",\n        \"description\": \"\"\n      }\n    },\n    {\n      \"column\": \"text\",\n      \"properties\": {\n        \"dtype\": \"string\",\n        \"num_unique_values\": 20386,\n        \"samples\": [\n          \"Multan a un ultrasur por lanzar a un jugador del Bar\\u00e7a al campo durante el partido Madrid-Legia EL PARTIDO SE CONSIDERABA DE ALTO RIESGO PARA LOS JUGADORES DEL BARCELONA Real Madrid \\nUn jugador barcelonista golpe\\u00f3 a varios jugadores durante el encuentro de la Champions que tuvo lugar ayer entre el Real Madrid y el Legia Varsovia despu\\u00e9s de ser arrojado desde la grada por un hincha madridista. \\nEl portero del Legia, muy molesto, intent\\u00f3 devolver el jugador a las gradas de una patada y se encar\\u00f3 con los Ultrasur, que ya preparaban a otro jugador para echarlo al campo y entorpecer el encuentro. En esta ocasi\\u00f3n pretend\\u00edan prenderlo con un mechero antes de lanzarlo al c\\u00e9sped. \\nLas autoridades han vuelto a pedir a los aficionados que dejen de lanzar cosas al campo como botellas, monedas y jugadores del Barcelona. El dispositivo de seguridad no puedo hacer nada por evitar que algunos hinchas introdujeran a jugadores barcelonistas a la grada, pues los llevaban camuflados dentro de bocadillos de gran tama\\u00f1o. \\nEl partido pudo ser reanudado cuando el \\u00e1rbitro apart\\u00f3 a un rinc\\u00f3n del c\\u00e9sped al jugador barcelonista.\",\n          \"Written by Jacob G. Hornberger   As US officials continue to accuse Russia of meddling with the US presidential election, an accusation that they have provided no evidence whatsoever to support, let\\u2019s review some of the US government\\u2019s history of meddling with elections in others countries.1. In 1951, the democratically elected parliament of Iran elected a man named Mohammad Mossadegh to be Iran\\u2019s prime minister. Mossadegh angered British Empire officials by nationalizing British oil interests in the country.British officials then turned to the CIA for assistance. In 1953, the CIA secretly fomented a violent coup in Iran, which succeeded in ousting Mossadegh from power and making the Shah of Iran the supreme unelected dictator of the country.To fortify the Shah\\u2019s dictatorial hold on power, the CIA helped organize and train the his domestic police force, the Savak, which was essentially a combination of the CIA, the NSA, and the military. Part of the CIA\\u2019s training involved teaching Savak agents the art of torture.For the next 26 years, the Iranian people suffered under one of the most brutal and tyrannical dictatorships in the world, one that US officials fully supported and called an ally and friend of the United States.In 1979, Iranians successfully revolted against the Shah\\u2019s regime and ousted him from power. One result was not a restoration of the democratic system that had elected Mossadegh but rather another brutal dictatorship, this time a religious one. Another result is the bad relations between the Iran and US governments that continues to exist today.2. In 1951, the Guatemalan people democratically elected a man named Jacobo Arbenz to be their president. Arbenz, however, was not satisfactory to US officials, especially the national-security branch of the government, specifically the Pentagon and the CIA. The reason that US officials opposed Arbenz was that he was a socialist, and US officials considered a socialist president of Guatemala to be a threat to \\u201cnational security\\u201d here in the United States.In 1954 \\u2014 one year after the coup in Iran, the CIA fomented a violent military coup that succeeded in removing Arbenz from power and replacing him with one of the most brutal unelected military dictators in Latin American history, a man named Carlos Castillo Armas. The CIA had a kill list prepared for the coup, which Arbenz was able to escape by fleeing the country before Castillo was able to get him. The CIA\\u2019s destruction of Guatemala\\u2019s democratic system threw the nation into a 30-year civil war that ended up killing millions of Guatemalan people, especially many of the poor.3. In 1960 a man named Patrice Lamumba was elected Congo\\u2019s first prime minister after independence from Belgium. Lamumba spoke out against Western imperialism and refused to take sides in the Cold War, which caused the CIA to conclude that he was a threat to \\u201cnational security.\\u201d The CIA orchestrated the assassination of Lamumba, which ended up taking place on January 17, 1961, just three days before President Kennedy, who liked Lamumba and who would have ordered the CIA to stand down, was to be sworn into office.4. In 1970 a man named Salvador Allende received a plurality of votes in the presidential election in Chile. Pursuant to the Chilean constitution, the election was thrown into the national congress. President Richard Nixon, his national-security team, the Pentagon, and the CIA concluded that because Allende believed in communism and socialism, he posed a grave threat to \\u201cnational security\\u201d here in the United States. The CIA attempted to bribe members of the congress to vote against Allende. It also orchestrated the kidnapping of the head of Chile\\u2019s armed forces, Gen Rene Schneider, who opposed a US military coup in his country, especially since a coup would violate the country\\u2019s constitution. The kidnapping attempt on Schneider left him dead.The CIA then fomented a coup that took place on 9/11 1973 that violently ousted Allende from power and left him dead. Replacing him was army Gen. Augusto Pinochet, one of the most brutal unelected military dictators in history. By the time Pinochet\\u2019s 17-year reign of military terror came to an end in 1990, he and his CIA-supported goons had incarcerated, raped, tortured, or killed tens of thousands of innocent people \\u2014 that is, people whose only \\u201ccrime\\u201d was believing in socialism \\u2014 with the full support of the CIA, Pentagon, Nixon, and his \\u201cnational security\\u201d team.Of course, there are also the more recent support of regime-change operations that ousted democratically elected presidents that the US government disapproved of, such as in Ukraine and Egypt.And then there is the long list of countries where unelected dictators were targeted for regime change by the US national security state and, where successful, replaced with a brutal unelected pro-US dictator. Cuba, Indonesia, Iraq, Libya, and Syria all come to mind.US officials need to keep in mind that when they point their accusatory index finger at Russia for supposedly meddling in the US presidential election, US officials have, at the same time, three fingers pointing back at themselves. Reprinted with permission from the Future of Freedom Foundation . Related\",\n          \"When hearing of an establishment called the Black and Blue Steakhouse, one could reasonably surmise that some, or at the very least one, extremely tough person could be found somewhere in there. Well, the three terrorists who attacked London Bridge over the weekend found the Black and Blue Steakhouse, and they found the toughest man in the house. [Or, maybe more to the point, he found them.  Roy Larner, 47, is a huge fan of the South East London soccer team Millwall F. C. The team is known as the Lions, and when   terrorists entered the Black and Blue to kill innocent people, Larner let them know who is the true king of the jungle. After the terrorists entered, with obvious bad intentions, Larner sprang into action: \\u201cLike an idiot I shouted back at them. I thought, \\u2018I need to take the p*** out of these b*****s.\\u2019 \\u201cI took a few steps towards them and said, \\u2018F*** you, I\\u2019m Millwall.\\u2019 So they started attacking me. \\u201cI stood in front of them trying to fight them off. Everyone else ran to the back. I was on my own against all three of them, that\\u2019s why I got hurt so much. It was just me, trying to grab them with my bare hands and hold on. I was swinging. \\u201cI got stabbed and sliced eight times. They got me in my head, chest and both hands. There was blood everywhere. \\u201cThey were saying, \\u2018Islam, Islam!\\u2019 I said again, \\u2018F*** you, I\\u2019m Millwall!\\u2019 \\u201cIt was the worst thing I could have done as they carried on attacking me. \\u201cLuckily, none of the blows were straight at me or I\\u2019d be dead. \\u201d A petition has begun, with the aim of awarding Larner with the George Cross for bravery. The award is the second highest commendation granted by Great Britain. Looking at his scars, it\\u2019s really hard to imagine that he won\\u2019t get it. If Millwall is looking for a new slogan, they may have found it. \\u201cF*** you, I\\u2019m Millwall!\\u201d has a nice ring to it. Follow Dylan Gwinn on Twitter: @themightygwinn\"\n        ],\n        \"semantic_type\": \"\",\n        \"description\": \"\"\n      }\n    },\n    {\n      \"column\": \"label\",\n      \"properties\": {\n        \"dtype\": \"category\",\n        \"num_unique_values\": 2,\n        \"samples\": [\n          0,\n          1\n        ],\n        \"semantic_type\": \"\",\n        \"description\": \"\"\n      }\n    }\n  ]\n}"
            }
          },
          "metadata": {},
          "execution_count": 5
        }
      ]
    },
    {
      "cell_type": "code",
      "source": [
        "dataf.info()"
      ],
      "metadata": {
        "id": "6V60AACuNuwu",
        "colab": {
          "base_uri": "https://localhost:8080/"
        },
        "outputId": "573c74e5-06f4-4f8c-d385-b88a0d54d434"
      },
      "execution_count": 6,
      "outputs": [
        {
          "output_type": "stream",
          "name": "stdout",
          "text": [
            "<class 'pandas.core.frame.DataFrame'>\n",
            "RangeIndex: 20800 entries, 0 to 20799\n",
            "Data columns (total 5 columns):\n",
            " #   Column  Non-Null Count  Dtype   \n",
            "---  ------  --------------  -----   \n",
            " 0   id      20800 non-null  int64   \n",
            " 1   title   20242 non-null  object  \n",
            " 2   author  18843 non-null  object  \n",
            " 3   text    20761 non-null  string  \n",
            " 4   label   20800 non-null  category\n",
            "dtypes: category(1), int64(1), object(2), string(1)\n",
            "memory usage: 670.6+ KB\n"
          ]
        }
      ]
    },
    {
      "cell_type": "code",
      "source": [
        "dataf.isnull().sum()"
      ],
      "metadata": {
        "id": "M6ovO1ssM_PL",
        "colab": {
          "base_uri": "https://localhost:8080/"
        },
        "outputId": "59a4bc54-0f73-41ad-c95f-e0e413dc06be"
      },
      "execution_count": 7,
      "outputs": [
        {
          "output_type": "execute_result",
          "data": {
            "text/plain": [
              "id           0\n",
              "title      558\n",
              "author    1957\n",
              "text        39\n",
              "label        0\n",
              "dtype: int64"
            ]
          },
          "metadata": {},
          "execution_count": 7
        }
      ]
    },
    {
      "cell_type": "code",
      "source": [
        "dataf.duplicated().sum()"
      ],
      "metadata": {
        "id": "SzZCjrbLR1wU",
        "colab": {
          "base_uri": "https://localhost:8080/"
        },
        "outputId": "045bfd06-0aa0-49bf-88c3-ba3eb93bf75e"
      },
      "execution_count": 8,
      "outputs": [
        {
          "output_type": "execute_result",
          "data": {
            "text/plain": [
              "0"
            ]
          },
          "metadata": {},
          "execution_count": 8
        }
      ]
    },
    {
      "cell_type": "code",
      "source": [
        "df = dataf.dropna()"
      ],
      "metadata": {
        "id": "hUMqxV1EOUH9"
      },
      "execution_count": 9,
      "outputs": []
    },
    {
      "cell_type": "code",
      "source": [
        "df.isnull().sum()"
      ],
      "metadata": {
        "id": "JawfDyvLO5It",
        "colab": {
          "base_uri": "https://localhost:8080/"
        },
        "outputId": "f7ea784d-6614-45ac-aaa6-4872ddc4ca7d"
      },
      "execution_count": 10,
      "outputs": [
        {
          "output_type": "execute_result",
          "data": {
            "text/plain": [
              "id        0\n",
              "title     0\n",
              "author    0\n",
              "text      0\n",
              "label     0\n",
              "dtype: int64"
            ]
          },
          "metadata": {},
          "execution_count": 10
        }
      ]
    },
    {
      "cell_type": "code",
      "source": [
        "# And example of a violin plot\n",
        "df.assign(text_len=lambda d: d.text.str.len())[[\"text_len\", \"label\"]].plot(\n",
        "    kind='violin',\n",
        "    y='text_len',\n",
        "    color='label',\n",
        "    title='Text Length Distribution',\n",
        "    template='simple_white',\n",
        "    labels=dict(text_len=\"Text Length\"),\n",
        "    box=True\n",
        ")"
      ],
      "metadata": {
        "id": "q5h_Q_EMAXjY",
        "colab": {
          "base_uri": "https://localhost:8080/",
          "height": 542
        },
        "outputId": "2f042af9-4b0a-4c8f-9773-084119ee1604"
      },
      "execution_count": 11,
      "outputs": [
        {
          "output_type": "display_data",
          "data": {
            "text/html": [
              "<html>\n",
              "<head><meta charset=\"utf-8\" /></head>\n",
              "<body>\n",
              "    <div>            <script src=\"https://cdnjs.cloudflare.com/ajax/libs/mathjax/2.7.5/MathJax.js?config=TeX-AMS-MML_SVG\"></script><script type=\"text/javascript\">if (window.MathJax && window.MathJax.Hub && window.MathJax.Hub.Config) {window.MathJax.Hub.Config({SVG: {font: \"STIX-Web\"}});}</script>                <script type=\"text/javascript\">window.PlotlyConfig = {MathJaxConfig: 'local'};</script>\n",
              "        <script charset=\"utf-8\" src=\"https://cdn.plot.ly/plotly-2.24.1.min.js\"></script>                <div id=\"e7d30d7d-cfe8-485a-92fc-cb11939f8820\" class=\"plotly-graph-div\" style=\"height:525px; width:100%;\"></div>            <script type=\"text/javascript\">                                    window.PLOTLYENV=window.PLOTLYENV || {};                                    if (document.getElementById(\"e7d30d7d-cfe8-485a-92fc-cb11939f8820\")) {                    Plotly.newPlot(                        \"e7d30d7d-cfe8-485a-92fc-cb11939f8820\",                        [{\"alignmentgroup\":\"True\",\"box\":{\"visible\":true},\"hovertemplate\":\"label=1\\u003cbr\\u003eText Length=%{y}\\u003cextra\\u003e\\u003c\\u002fextra\\u003e\",\"legendgroup\":\"1\",\"marker\":{\"color\":\"#1F77B4\"},\"name\":\"1\",\"offsetgroup\":\"1\",\"orientation\":\"v\",\"scalegroup\":\"True\",\"showlegend\":true,\"x0\":\" \",\"xaxis\":\"x\",\"y\":[4930,7692,3237,938,2854,1618,34204,2685,7847,4647,2626,20807,18950,4371,3347,5882,5214,1445,8849,9202,367,2193,9590,1997,1160,7696,27696,1580,1,1673,202,1749,3293,5566,167,3288,2801,1064,8676,4858,4966,462,18329,839,5715,2285,3892,2626,2031,6624,519,599,2026,7772,26381,4707,194,248,1413,1,1548,17,7155,12481,4615,6305,636,2143,3503,11849,28066,2706,2011,6204,2508,3141,731,231,2307,768,6718,1236,1511,7448,1000,4391,2786,772,8905,1753,2644,642,1005,7490,1398,3531,4445,418,4967,8540,196,4997,1,5510,21232,9001,3943,7481,11222,4076,8672,5514,7171,5377,2040,1229,10331,116,8573,3706,1358,169,3860,3592,1937,6204,216,3404,4877,2763,9670,957,4711,1755,341,1125,4552,12316,1210,5898,3694,2354,1200,1553,4560,1247,3127,199,158,3441,6976,9741,2558,1230,1767,1349,92561,5406,8084,10734,1,3017,4077,11628,216,1655,3324,154,42,5093,4120,4204,2975,5889,68208,1427,4899,1441,54,2342,27073,842,2756,5189,198,4727,5271,522,2185,1789,4273,2896,6014,1254,21605,6298,11039,3018,929,3893,16534,829,1195,1805,307,6662,9885,12564,2481,197,7487,7450,1,6002,1009,3935,1670,20316,2802,4083,2637,279,1246,759,1282,10314,2036,1161,5785,6736,4518,4828,4449,6988,686,1144,5979,2358,4865,4791,4707,6862,1716,6112,2776,781,28266,14595,200,6638,3915,6705,2798,222,856,3343,2123,5118,3348,1185,8515,1678,9065,11639,1458,4341,2084,11720,899,6069,2416,1001,1445,13934,1620,1887,5352,3817,9144,806,14754,337,1859,764,8025,6683,860,12102,9309,5409,8735,3754,2948,2447,6933,2760,453,575,4027,3903,6958,197,1923,2796,6553,191,2435,1973,1694,961,2972,5850,1567,1683,3314,3117,643,2605,2250,1138,2251,6447,261,7985,1,1284,3977,918,11745,13256,4842,2649,5357,3621,315,2,3092,2341,3418,332,195,1597,3050,4561,442,1309,1,2032,8475,1108,302,1308,9304,4371,2158,1,422,5480,23737,2862,2341,1650,3660,3148,4989,535,2085,1900,3572,3440,927,2306,4396,1965,48,2722,11225,9432,8089,7069,3988,3896,4729,9429,1740,26238,2253,3318,6758,3730,2520,2217,4723,1197,288,1622,2629,3531,85,7343,1920,1502,10974,718,1341,5651,14074,5416,689,338,4347,1417,3043,4767,2225,3358,1141,3018,3414,3526,4697,6140,2122,1496,19367,3077,7506,2784,818,3784,6745,4897,507,26449,950,11752,113,3180,1080,2508,6856,19090,1109,4922,1863,28445,5206,3448,2161,6420,2246,7533,11189,4146,8918,1492,2163,6374,2714,9435,1080,1390,756,7214,11711,4571,3260,278,11175,3153,5707,4941,997,7383,4646,4017,11974,965,9049,1902,19385,2101,1580,1859,2798,6207,201,3705,988,198,2426,5325,295,212,1471,621,404,811,1940,560,1348,3683,1570,5064,7085,14511,8579,13645,476,553,904,9084,46610,1449,1388,7084,5682,840,13785,2414,203,1154,2704,1336,5323,2481,62,3187,2317,2572,394,2258,172,8015,3802,1855,4395,4284,4749,6184,1848,2017,2778,5029,2776,2323,1621,3501,517,2678,1570,442,1040,4236,13873,3755,2672,434,6311,6130,2291,8647,1253,3816,7134,1276,2533,1182,2877,5016,9653,1629,296,2200,9707,1256,3813,1790,2746,2763,1851,707,8341,1181,527,7516,5025,1656,11618,2862,17098,5931,15849,139,12937,1,2103,428,6673,10166,1789,1708,4701,5804,199,2261,5979,1445,1973,123,1839,993,1091,1985,1347,2118,1493,2422,3116,3487,178,3740,3646,2421,3035,3823,4789,747,577,1218,4320,1196,2787,1556,52289,27697,3855,4494,6759,3558,18336,1979,2340,567,3982,19615,1012,1037,3607,661,6117,260,4201,1990,4158,6356,5299,3020,1638,1214,471,8692,1484,5450,2148,513,4124,4477,5908,3967,4860,3129,2486,450,2055,443,797,162,201,11052,8790,2351,5269,4456,5888,3407,2132,11218,1408,2087,989,3649,4916,3891,12604,4786,188,243,3468,2837,1685,213,2754,4011,1665,81,8980,3925,1390,479,3713,6779,4226,887,4070,3848,5564,1270,11582,352,2615,2406,934,1046,2605,5011,4021,199,2576,3443,9743,1043,1969,1105,88,5838,2406,438,4942,9611,1044,328,6410,7369,7653,4369,5645,8105,210,5061,27540,1036,5898,1329,3322,5430,7216,2949,4716,1340,1373,5380,2120,1004,1558,10432,4009,12705,2166,8574,1124,199,5598,6207,189,1107,1241,788,6061,1121,253,2544,167,20136,4044,2378,6178,4809,3427,1091,5795,3355,2933,54,17151,1387,6618,533,51587,1931,561,4147,10745,147,6558,144,4106,1577,7518,6171,180,2182,3313,2487,2161,22608,1758,6653,1,3142,4230,688,232,6610,5564,4139,7478,4131,3163,18696,2694,398,3074,93,3669,8777,4955,1116,992,2815,2362,5805,1168,1608,200,4529,1550,5380,1,15033,4837,13094,6530,1946,8779,797,5921,3667,6018,4589,10848,6455,3114,5259,203,2076,179,5643,3939,9312,768,48,1065,2289,7380,9133,6538,2151,2908,1064,6511,2160,2705,9267,47171,1363,4322,7240,282,7595,2570,3184,4011,4175,1438,1109,3749,1236,3294,854,2589,3540,2091,158,26922,2857,176,2461,2321,1,1541,1808,199,149,133,3656,4290,9425,3099,1726,4123,3867,150,13607,165,132,6667,1434,176,7465,724,2381,604,3364,2322,1120,3839,2692,1224,927,4767,1757,6493,1443,12631,3510,2527,166,114,9080,2397,2335,5609,4872,55,10855,5843,2245,1313,7339,2178,4325,137,11848,19361,5951,5803,1197,10631,5527,5733,2044,17015,738,2018,1214,2930,199,1353,1686,27873,2913,9802,331,2220,442,8074,864,4734,7886,674,7219,64,10758,786,2518,3810,484,4050,27712,1973,1872,3657,1512,1461,813,6657,4348,3519,4499,774,3759,2261,2369,13,633,8587,9222,1959,3178,3783,727,7427,11447,2760,1,373,1979,3306,2712,528,2473,73,6262,5157,9193,1753,124,1764,2411,12716,1191,473,18652,4000,1053,8737,1681,3389,96869,2619,2170,6126,76,15438,1224,1245,2560,628,435,495,11849,11258,4911,3607,3925,4364,3683,6765,3480,939,1631,5536,2444,3329,2292,1988,2986,3512,1294,3776,1479,4675,9215,1566,1963,3206,348,3807,2227,2270,3898,871,12092,6756,2884,2383,4660,1143,1631,1656,2070,10738,333,4691,3073,2952,11340,232,14738,8875,627,4019,2295,4599,10675,6608,9801,565,2224,11945,295,3179,1543,1485,4085,10398,444,5778,513,2136,10671,3052,7702,5770,1749,1120,9034,2901,5655,17803,1496,3793,6179,918,3848,1928,1180,1480,900,2347,4307,750,2985,6056,22585,76,2753,3042,1119,873,3760,10175,3976,715,1560,6826,1760,519,8030,6404,3092,3056,1634,9157,5032,568,7362,2352,7568,3637,2126,2898,1551,1704,4661,569,5284,710,405,12367,5456,3024,2492,3966,3781,774,510,6783,2112,30723,1607,2621,8574,1863,6953,1808,5931,202,120,2114,130,2767,1048,3487,2530,18320,54,7312,3821,1088,2290,197,3196,854,1312,3142,799,3220,150,4165,4374,728,2171,906,66,1197,1039,6561,190,3694,1481,409,390,2206,62,2352,6014,6789,3921,1007,2698,1653,3004,6725,734,1,536,1,2424,11694,251,7642,1302,1740,1126,910,3723,3586,2011,9009,150,10270,2178,8860,1630,1718,10125,4293,2764,3730,788,2610,1302,1445,3170,4117,4129,6224,1208,15970,4120,1213,5481,2603,8498,10322,688,1814,266,9349,4056,2979,1849,5129,319,13497,7512,4610,931,4915,1164,4738,4510,1265,2639,11467,6738,2723,3644,398,7341,62,5824,7770,1969,5600,1681,2376,980,2180,2265,2996,2075,823,2698,1993,5067,1952,2549,6693,8119,191,1294,1914,2812,48274,2073,4098,10122,8432,1919,6315,1700,915,1496,1451,2218,537,1854,6834,4470,6816,3316,2798,1323,755,6640,27873,2238,4394,5371,2972,1067,5549,463,1021,10650,1259,1828,3253,501,1481,5778,1163,3168,3274,6396,7631,1412,371,1630,2736,5380,3816,7419,15968,104,6584,1143,4362,279,3521,2203,6305,93,2412,1035,4636,5287,3671,460,4591,729,6949,4792,522,5133,8542,81,971,5579,5812,10823,4776,1700,6355,2430,4502,5235,4262,2079,3183,992,985,1447,8692,9226,745,3921,879,4121,2664,953,4095,4535,4172,7645,2515,7064,1849,2262,7410,1182,1565,2462,964,1471,3249,6104,5744,1209,6436,45,985,3178,2493,635,12286,5378,42,3592,5710,2235,4687,1445,4362,11998,5180,5329,9340,2963,6945,194,6879,2658,1692,6039,8503,8470,976,2685,2105,6900,1927,3655,3015,358,944,2316,9675,4655,1561,33018,3571,1462,8067,5546,917,5111,4643,18913,509,13497,3477,2622,4369,1,7627,802,629,1877,3741,1427,3475,4790,13496,697,15595,7236,1649,7914,6225,2886,13425,1188,1147,3412,6263,2164,625,4092,5161,5033,6594,2320,3222,14424,10698,197,3715,1930,2748,8173,6411,91,18943,13457,8550,11828,8401,3759,5790,1111,7717,6522,651,5112,3470,1735,3703,1185,1213,3510,2874,1181,1511,12865,978,399,2174,2366,1893,1629,11179,5473,2540,3959,3237,2633,6186,189,2545,424,259,6171,2095,4644,35878,6173,8415,461,3363,2345,442,3109,1466,3503,2080,4124,2374,9053,26193,7949,2180,2611,2655,3992,6386,3925,5973,837,6975,4994,2156,9278,11133,1518,3651,4015,203,2883,96,1973,4330,573,2687,1587,420,7779,3636,1344,1437,1327,1569,2188,3073,2596,2595,1,2161,437,25370,3180,5369,11135,3096,5658,5559,2030,1341,1112,7107,5339,1582,1365,2868,2206,8004,2814,3927,9104,1877,2659,3980,8573,4918,2758,3663,3028,5452,758,5667,1328,1582,331,2562,3419,2369,6764,1489,2286,5470,2693,2080,3134,3212,587,10964,1504,5503,203,7535,1521,1206,7787,2009,3621,32078,1681,432,9119,5637,1380,3123,21956,2569,9695,7422,1409,811,5369,1852,201,4939,7002,7341,1445,457,8148,2041,1191,852,3696,507,1167,1447,3405,1563,2264,3412,27972,1503,383,1621,9530,2649,819,682,2622,660,2984,94,1566,3212,2301,3189,1491,5711,1188,1973,2629,1062,3514,5672,6289,17575,1566,8231,1914,73,2808,3745,2427,3471,1358,1975,1099,5498,3933,3919,4593,4983,1911,7308,1691,1068,2186,12501,2209,5185,57,6846,17789,4947,2767,1597,9375,3128,2867,6633,1530,1604,5751,7019,300,2775,6376,1,4019,410,5718,54,2480,790,1877,1898,1066,4142,2363,197,2400,1362,864,515,4683,389,13930,279,4831,346,3645,3068,8118,4034,1929,54,1692,1381,20776,1794,1965,2015,11840,7144,1939,2722,2768,3883,1739,1631,6352,9612,4495,1073,2915,724,3965,3384,7635,5951,2509,10752,8136,1406,6298,3932,4813,12955,7539,1360,994,300,4148,8046,2290,1086,1312,8698,3680,1,2684,1330,1147,3095,1164,3205,3036,588,3183,3656,1915,196,922,7995,2327,1712,2609,6353,3198,846,304,18193,2779,9079,4406,199,555,201,1567,3138,3294,1102,10944,1368,6426,3787,956,15183,5189,17911,4806,269,1,1213,727,3736,4787,799,4591,977,54,659,2588,2521,532,4064,7615,2720,3860,23009,3084,1525,1197,2639,98698,2407,3012,1,7429,7439,1685,6262,1910,2628,2269,2406,2547,777,3463,266,2031,1421,1973,2935,3056,2463,2424,8679,5466,7271,8733,513,7339,2321,5070,891,3887,7973,2602,6044,7419,898,8374,707,1209,6247,742,1481,807,435,9298,15353,1196,6102,199,1635,1909,9554,650,8634,9138,627,3644,1180,3623,9293,4761,15528,1086,1904,7760,1636,1110,9742,1459,5806,6572,1539,1399,898,4222,9334,1142,13550,2505,4373,6628,662,3715,2108,1783,3327,115,1515,6736,727,2858,1478,3332,5274,782,3615,7570,3980,2021,921,8443,1104,4897,3810,6245,2270,16990,4782,442,1464,4399,3147,2268,1176,3310,315,1753,50229,2907,2359,8421,1427,5270,9598,1034,1321,6796,2172,3529,2014,1435,7397,1550,593,1808,527,3868,13945,280,17057,2589,148,2416,1947,14306,2569,201,2810,54,1701,6392,472,3884,157,8258,8650,1749,1092,1,93,1635,2182,4097,90,4728,5012,5228,1853,1592,614,20074,778,9001,3085,3667,194,3652,5843,938,203,2346,2900,2265,9741,489,279,1584,1368,1813,1784,5914,2137,8575,3208,2737,1200,1524,1485,2538,576,7527,5608,7309,881,8583,144,1782,1152,3166,109,3009,24646,1,1747,1923,5317,2285,5050,12053,4341,1736,2083,2576,6590,10685,3164,2743,413,7553,719,1067,1028,4499,4639,5719,3343,5101,1301,641,1365,2513,2386,5403,8503,312,1070,2440,12343,3217,1186,6585,2251,1266,1118,4241,1587,3109,1353,1402,335,1343,1174,1805,2441,1414,7181,347,1392,8290,2488,2627,18630,1134,1227,11950,8735,555,3867,1001,4476,300,8030,2633,2329,308,1486,2843,3958,25194,577,1918,2209,384,2215,15979,2684,5466,354,15721,4168,670,15689,5428,1067,1056,4801,3579,3005,2267,4200,1792,4417,202,1805,7411,1824,1110,9440,961,2298,307,1405,9767,1069,1228,4977,1813,3454,2039,3128,1051,553,745,3065,10569,722,2595,778,1931,5626,547,509,5625,5454,2339,4330,3142,2520,662,4202,183,363,9553,5402,2466,5562,6681,17060,461,954,3025,3715,1,6232,1926,165,199,1657,93,3999,3835,2848,2403,5775,7193,2822,197,79,4132,732,967,10376,885,2332,5300,5409,3987,3783,2052,3399,6604,505,1084,1,4855,1409,1623,2833,352,4413,6823,6690,2930,2888,150,5299,2928,693,1781,520,780,491,1351,7285,1219,6433,2145,9366,11158,2505,3350,2812,49988,8094,9475,1231,3018,13,6736,201,435,5170,808,3490,1633,1402,741,1877,1539,2758,25789,12726,2035,417,4237,4127,2206,810,24109,4068,3335,1257,5361,1249,7041,15072,2729,1445,201,8823,1256,6927,1613,806,3214,7835,6979,11670,2016,2939,9847,7998,1121,6619,1101,5448,1210,2608,1974,5396,7420,973,6588,3304,3076,1655,1296,1924,1,3808,647,17336,1418,1772,907,3631,5489,853,1412,11529,1751,6519,836,3206,3549,1712,4085,1407,2756,2833,2187,3967,7153,8685,2901,6876,1075,171,260,97,4369,1054,1399,7313,616,1549,4403,7082,706,31944,3574,1106,6031,488,10080,484,4791,1091,3872,1706,433,63,1271,386,3455,93,610,1336,1943,202,605,7238,6530,27823,1194,2302,2863,1973,1801,8177,4780,3513,4306,10409,5474,6941,151,1097,1595,5957,3943,6330,6209,1232,7638,10763,1,170,6437,3987,2145,4551,9619,5333,790,1994,529,1996,1413,60,3059,1959,2948,149,3961,4307,784,2082,203,398,3867,1800,1386,3983,581,2545,10421,2033,3474,2014,1827,4014,1438,4913,12670,2199,4784,4590,7079,9437,613,850,1692,72,12062,376,26056,26773,277,555,6782,1803,1861,2566,1395,9248,2125,17057,813,8656,157,743,7389,10223,4714,4082,6464,1038,2642,4124,3533,11695,3289,5666,3224,2735,1003,3030,15914,2176,54,2113,1625,824,1109,2981,1518,6030,14145,2110,3026,12881,7047,1756,1445,199,15680,3428,4476,2152,2527,1392,9849,6104,2682,18454,2330,3642,12807,2129,1587,476,4783,8479,2565,1,4600,1126,1136,897,1800,2503,999,16084,618,5616,607,3653,277,9495,860,436,1760,4013,3608,2534,9885,3186,1157,3296,2073,1486,4109,12284,1942,1577,1369,54,7779,4188,2321,325,6551,974,2307,981,1569,5159,4333,1683,648,5600,5949,370,4412,1152,4677,6414,2032,1388,6173,6225,2865,1154,50755,1083,504,6853,1501,516,1717,1147,5600,1634,7934,6124,564,3748,1302,3921,463,6527,2240,545,644,294,5977,1513,8471,4775,320,152,3051,2089,201,5287,5775,3253,15605,2604,997,5498,476,1716,7568,9061,595,1555,2064,2231,1642,1617,3588,6841,5759,2687,1922,677,13882,2220,8766,7193,5527,87,963,3353,686,216,998,7721,652,2885,1104,2861,8176,5764,733,3788,398,3372,302,1155,2659,2875,2069,3264,3741,1128,2617,2033,175,1228,1166,2840,5837,3318,9187,4269,629,1396,9564,6696,9084,5100,202,1664,2310,688,17,1982,3256,3990,7652,4001,447,2532,425,2539,1662,6873,4285,23025,2453,2558,73181,5939,775,7844,3073,65874,4957,2879,8799,1943,6408,65,1828,2652,1280,2624,14992,9034,3280,6430,255,9275,3539,224,885,5840,115372,198,1976,3302,1116,11286,1023,1627,2049,1057,10867,1370,3182,1989,2389,354,1873,91,434,2065,596,4276,189,3427,2549,3390,9164,16190,93,1737,4678,2020,977,170,2175,1308,5064,1455,54,1964,1720,3898,1071,4451,12768,5742,605,260,2558,940,5904,1694,3061,1255,7214,8618,1337,203,1992,1785,1445,4740,660,1991,295,17148,5699,3783,4306,1977,2713,3536,1501,3626,7248,2503,1562,473,3723,3012,447,151,1879,247,187,7927,1345,13710,7031,2060,995,4467,1463,732,1082,4093,1780,39887,1393,4019,2680,1603,2041,4700,3996,15057,4882,3592,9601,1434,7744,20064,17387,1577,177,147,2419,1975,5677,8451,6069,4990,705,5066,1090,4706,4246,11091,2545,2167,8798,3206,1302,1803,6275,2255,2389,1209,9173,4222,3343,7036,1265,7896,1293,1320,5849,3948,1690,1765,1556,2319,1836,5336,16169,6578,1003,54,2145,801,2971,1071,137,584,2072,1,3461,1701,7428,572,159,5082,3163,7334,2152,2343,451,8370,3618,387,1445,7024,4527,16917,1934,4159,1668,2448,135,2800,392,194,12779,824,26773,6740,5076,2701,7840,10197,2503,1903,765,6305,485,4698,1474,43892,5889,663,3452,1847,6103,6114,1980,5957,10756,18025,5025,656,8447,17618,1442,2134,2101,1102,6974,2900,473,3513,7404,420,16355,3286,654,1267,3761,11426,565,984,180,8934,4231,1896,3087,645,2823,1105,9863,6895,4758,1973,2209,13908,7050,655,8316,4898,5224,6822,9605,3262,3791,1602,2526,1476,198,4343,6845,1191,2008,624,5189,2924,882,12936,21933,3077,6591,8076,7602,3601,6114,1307,4019,6075,949,4326,1238,6919,1384,26772,4824,2746,3200,193,7939,1567,1,3785,2617,1020,155,2585,10695,7184,829,1061,4622,135,1936,98,2181,1004,1607,6623,5860,2195,54,1285,2656,25021,143,3309,1618,481,5042,1194,8558,4706,3582,1340,19853,1637,4291,373,1343,2493,7007,5180,51,2793,339,2872,6874,5607,2074,181,3824,3103,1587,5519,1224,25841,6018,4348,11444,189,2947,1226,156,2774,10743,3124,6942,10550,3525,1490,3894,2497,1114,278,3896,5293,3262,2923,4126,616,13054,4560,1445,2798,568,3749,3452,3804,1544,4549,4207,11871,6338,54,202,5298,7793,6239,8180,6837,4248,2239,4042,1,2122,2772,4094,2046,1443,2089,3976,7495,554,2692,903,1933,9233,1174,589,3128,1208,180,864,6181,10812,203,1726,1488,9092,1899,521,1749,202,198,4373,34590,115010,9174,8324,8274,1068,822,3009,6574,544,665,1888,79,3193,3576,6489,1252,1198,188,4594,11177,1563,8086,876,1331,198,3946,12913,5120,2039,507,1232,3269,602,3515,3247,1990,4912,2919,1358,2935,4226,1,3086,13109,19681,223,45,809,799,1680,7342,7227,4625,190,9051,130,484,1661,4322,834,8673,172,1016,248,194,1034,294,17438,1225,1839,405,1703,2576,1487,27503,1533,17367,2438,6144,6125,2367,4244,1852,1010,2861,473,1206,297,11486,1779,6204,767,23717,540,3744,200,2486,2535,1449,3536,6402,2782,1430,21975,4097,12363,992,3931,2271,32122,10063,1502,1368,20337,5548,2462,198,3461,623,2136,7995,448,2292,7144,1613,3008,887,855,466,1,1519,6241,19,2348,149,1568,1855,7780,1035,4335,1988,11294,52800,2712,9192,1728,8823,3479,1981,6461,2275,1613,6744,3807,3449,2153,4478,959,2492,2607,65,3575,2616,8018,143,2392,1615,2450,1900,8613,2866,7079,1447,843,1835,15098,3409,2806,5539,2464,3231,2830,2189,1684,889,1546,2164,3078,533,14467,1042,1026,8226,2186,735,184,3744,3773,1483,3453,303,3216,4202,5793,8228,1106,394,5445,5560,4081,1795,8171,962,6024,2397,1033,4089,2740,2995,1776,1236,5479,4180,2461,836,4566,2884,1026,3700,2838,1772,2232,1524,1968,728,437,3327,1856,3084,15914,2756,155,2419,4077,1129,2477,7808,12181,4977,1443,5874,2841,1086,6359,6904,742,734,76,1510,13611,1362,3089,1018,1912,1265,5609,1980,999,688,7002,1963,1152,2779,828,3730,1726,3217,152,1665,3383,8582,7866,2693,6245,6050,188,7042,1143,2489,716,1206,166,2703,2055,1700,3332,2573,4415,26125,221,1741,16934,9334,1537,1129,4735,26163,681,2175,10729,2406,9839,970,202,10216,4431,1178,164,278,1333,2072,1367,5671,15648,901,4333,888,3986,5454,952,3969,831,891,565,1,3208,965,7025,9892,7481,666,7568,5912,3546,44540,5823,4464,1654,7511,1411,102,150,1700,3537,569,1417,603,27823,8339,654,1837,4001,1445,7937,9179,1330,2552,779,4934,1,14408,9627,20602,4637,5530,1672,3926,6674,9450,826,6889,366,7401,4009,1480,2085,4255,2070,1973,2007,2720,2248,6686,2288,2473,4501,4345,408,2712,283,1244,199,12325,117,1472,852,3438,2757,2676,3611,5014,594,2332,3544,3335,166,4499,3455,1575,115,6104,3793,2095,5688,34,6771,2839,1718,1565,3761,7042,1120,328,771,1373,595,1880,7337,3197,1468,1395,6125,5964,4775,7582,949,12278,19035,24604,201,1594,7577,1,13553,1004,935,3084,258,7447,967,4545,2654,145,2015,26948,3491,287,1238,2667,7260,1643,3923,4247,382,5714,4752,1378,603,843,5944,1449,8916,2669,6972,3279,4980,21938,187,9664,2013,56795,7625,4109,11556,4043,201,635,2775,171,6600,47,2095,2889,8249,2257,3875,1991,973,5518,1954,13225,8591,11946,3997,1533,1301,14704,1445,1125,423,8470,9049,2883,328,11124,5060,5465,442,1038,7476,2195,2464,3204,1773,444,1,8802,2658,8398,1930,2271,4863,418,2760,2374,167,54,7895,3097,7961,1116,17,37,120,887,28576,14676,1254,1144,8362,310,8960,1812,1,1269,2436,2886,2360,1314,2466,1205,2193,8460,12641,191,757,8314,5021,398,2099,9233,2731,8290,2458,2500,21929,6131,117,5713,7081,5071,2420,195,21251,1554,4235,146,9391,1509,1495,2696,620,1662,481,1445,2561,935,2251,7219,27503,3846,2566,2752,8769,2918,1744,432,24154,369,1523,3309,2176,1762,6762,3487,2585,3168,1114,2529,3793,16278,4587,4138,716,1283,370,202,17,2821,3004,3219,816,54,2428,2385,757,6245,354,26919,4526,845,3245,223,8744,2286,6094,3908,1363,1250,49,4202,8498,13333,1813,763,3313,196,1241,698,9649,2693,19861,1390,728,4682,1601,24289,1988,5931,3139,1050,7009,9060,18011,2010,1408,9077,993,6312,1,2739,1012,4093,320,4390,7592,1392,175,704,6039,919,524,2037,4892,6679,1426,10362,1036,6450,1730,21428,716,7652,2136,3127,4219,2812,14535,3917,9038,29932,430,374,2028,450,200,8300,1945,7146,3793,888,9377,1884,6498,3444,14788,5461,4337,5478,398,247,970,562,4608,3377,244,253,8740,3959,529,1824,2139,94,2971,4685,2709,1974,2234,1115,8075,3635,14863,1394,3007,4665,4119,1,4535,560,6387,3689,1809,4721,202,7819,4149,8508,9086,3828,7597,3016,2905,4692,1292,2590,5960,4788,3268,1400,1337,4057,4768,4765,398,666,8190,4248,186,1621,2678,6225,819,530,6430,1716,7961,288,2766,2008,11514,2737,6175,15301,3049,12634,3843,732,2007,1451,3636,4513,7110,9507,3426,1632,1045,604,1395,3602,2943,6295,7608,1207,2840,2902,5462,812,2969,4870,7336,4814,198,198,3222,150,4969,5816,9056,787,1876,203,4188,2310,6594,5872,905,1476,203,26773,170,1410,1103,1606,1339,6094,1362,4351,8052,1390,3865,7190,481,13176,3864,2590,11810,8335,1862,2267,2989,198,6149,2139,760,2527,1520,4769,271,1536,9983,5982,11556,1523,1190,2231,1048,2651,2496,1253,144,6665,4063,363,4233,647,2616,6563,5467,2095,44705,5306,29790,4802,552,2913,10778,524,5027,1574,3487,3828,2093,24647,4045,1684,202,1688,1061,1616,1480,2510,1445,6633,2375,4413,861,3538,2202,3473,4682,3676,2517,453,12887,2095,3680,1933,1497,3499,196,2515,1267,4155,1236,4814,453,228,1135,2117,4730,733,160,4152,717,2004,527,1401,2667,2008,6867,1066,2642,1664,1550,8731,5870,3460,2463,160,3368,12864,451,7979,630,2856,7273,3221,523,5355,11134,3862,7212,3551,1525,2257,10630,3657,3614,5827,4859,1766,11625,7263,7541,820,1592,1631,5225,476,7876,11217,145,7258,656,5314,10249,19122,1600,2370,1445,191,1618,118,787,120,996,7883,313,4913,8717,2934,172,1614,1450,17677,40,2092,557,1014,1924,5518,3154,755,6639,5161,4255,187,10114,13363,4529,1,3573,3469,5919,3131,15507,2194,1602,2506,11327,1000,4066,9660,1,6301,13485,1691,2640,18058,9089,5312,2285,5516,32717,2572,3905,13728,1062,2233,1042,8844,4336,3140,6060,1391,3799,896,137,4270,199,246,1440,1111,411,10119,1862,1194,842,1681,200,1693,2285,3022,5289,3137,4256,1087,1328,2015,12240,1636,2235,3805,4083,2455,563,2940,21746,3715,14323,3137,10795,10142,982,1218,8395,3384,6699,3577,435,2755,2848,4503,4147,1148,3725,2301,8470,3342,2486,860,923,6710,267,3477,1162,144,3881,969,9445,1531,9492,1344,7180,1214,688,6071,1167,7109,2735,2156,26328,2483,3143,3526,5643,20190,2655,2557,4221,1324,1605,426,2382,1417,7592,1266,3987,2699,58,1990,3789,1939,218,444,2097,549,4422,1973,1071,243,971,1083,16114,1374,3613,1,4662,1524,11253,156,13199,4026,5458,26861,334,1843,1902,5960,1428,5497,1715,6820,3777,13026,221,8891,28620,7208,7525,12739,7021,2201,2445,5626,4772,2373,3955,2002,1001,3877,1057,474,402,3564,4758,7509,27811,1186,1470,4109,2815,13844,2507,306,7576,1166,2654,1284,9877,1312,1195,1801,11572,5938,3615,1316,510,1228,1124,3970,3617,3582,1643,2964,7233,4057,5378,10281,3187,17323,398,1238,1894,3271,6389,519,9552,6056,1372,5426,4006,534,8300,1621,6461,852,2405,634,1683,3202,54,1149,1434,1997,1896,3820,8874,6986,201,5372,19381,996,11332,3745,6939,8353,1942,399,5434,3605,354,17834,3271,1352,4886,1292,643,2302,2431,1594,5701,2904,2559,8336,946,3953,1461,916,24504,1057,10816,2646,943,104,15436,4566,2014,9055,7296,113,1862,3895,2675,1830,2339,6153,1950,294,8838,4389,1,2107,319,8738,2190,4271,1,1043,2143,1378,1457,2255,805,4315,809,6764,3548,3071,1837,1473,1496,730,11602,370,330,975,760,1201,4341,709,1984,4109,2959,785,54,3822,283,819,1308,1471,4403,120,196,1897,2134,1637,201,7285,3907,1400,2444,4753,1983,7651,4179,2682,4258,1973,1489,1482,1809,1915,4302,795,1628,2404,3952,1966,486,6081,8919,5726,6657,1961,6709,4869,734,10975,1365,1403,596,2939,791,4476,1379,2351,1339,167,2240,1966,1416,14337,10643,10015,1,12632,7763,2599,12581,3933,2558,3138,4440,5118,2565,6925,3050,1932,6663,8381,3515,1705,24022,9613,909,12401,1,583,202,1482,1255,4141,5703,3644,2126,4701,2468,8469,1125,4623,3190,3783,2378,5736,11949,4068,2763,5274,1003,863,2089,1087,1445,6481,1845,4189,6595,7711,13944,4675,152,4982,1973,199,5533,7519,12358,2178,2164,4073,9195,9436,12795,8283,3512,4317,8975,965,6187,3247,12587,15659,2191,576,1095,3355,11256,2568,1335,6422,3681,1435,174,54,173,5811,2263,49,1545,2558,193,3678,3500,19494,1509,4174,6763,4094,4335,10387,2361,2569,3075,404,2791,3205,4822,9607,6248,5628,1251,5776,1467,6253,1205,22177,6584,709,4784,2079,5785,15210,487,772,1508,5880,4219,190,441,4704,8858,2489,1206,296,5091,24059,972,1060,1775,4758,12016,469,847,2027,827,45,950,1036,9789,12153,6547,1030,12066,1608,2731,309,339,2006,3951,4441,10964,5902,9806,25844,4199,5098,3849,3735,610,609,1095,1867,2940,596,4546,1099,1756,4975,3270,3945,3835,5194,1337,16213,1603,6336,1640,637,3624,26106,849,3721,928,292,5619,5912,2221,197,240,2916,111,1142,4347,2337,1390,507,1023,3627,2161,271,616,791,370,2018,1719,14693,7604,94,10591,1350,7689,12,2801,4236,6557,1987,9028,11998,7064,5078,1,1470,2130,1190,1432,6121,1173,321,9585,1925,117,1001,10074,2750,5996,1213,1261,519,1523,13765,6818,4507,2795,6542,1119,105,19258,225,1342,3686,997,1617,4900,2830,6955,5168,499,417,8695,3414,2533,6718,139,12209,192,25209,4425,2758,289,1695,799,1469,13249,1693,1084,1584,2236,464,1338,4017,2390,1317,21081,257,8244,727,3676,1792,1672,5834,521,4732,4554,1738,2608,7122,8132,830,11021,3736,791,1028,7467,10031,6128,3619,6333,1181,1325,322,889,5526,2056,3932,4687,286,6275,2992,879,10581,198,1267,5616,8168,2293,197,888,3725,41063,11514,590,4454,1335,7555,3128,968,6527,19203,8957,2953,7679,9313,10050,2146,318,1632,11979,903,7236,21969,3626,2062,10816,2657,1533,447,2133,4363,1284,125,1155,2216,7709,2963,5552,2067,1450,485,1383,200,2754,4014,7393,615,6937,2078,8353,26381,6328,3521,1,1874,1552,5850,396,4229,1475,1395,1509,2873,8414,8933,6976,2927,370,5636,1703,2854,2643,2036,12652,1440,674,15286,2564,2058,197,285,971,4019,7164,1585,1469,5619,1823,134206,3889,2845,1856,265,203,925,3805,458,10125,1266,3638,1393,5635,7584,5994,580,3759,4883,1653,10024,3295,5920,652,1837,4019,2568,513,2869,9042,3118,1171,1747,3213,2139,93,1550,5234,872,2545,2924,183,1798,4215,7637,2180,8518,3489,13692,1424,6185,64,5639,1,12246,3348,1344,1248,1200,37967,904,7091,4307,3724,3388,979,298,2083,5732,2541,1334,196,279,765,8104,2449,4301,798,3402,4376,3077,3546,779,8667,27697,883,15015,1202,3230,2020,2089,2749,4734,2468,9941,892,13590,12491,1596,4862,1411,2047,8462,4779,1578,188,13454,76,1914,3379,1182,5273,7661,427,917,17021,2263,1,3809,7681,3475,2159,1444,2328,6523,1775,3818,8909,3759,9382,22488,1083,2743,11646,7232,822,5898,8937,1916,2615,4076,4370,2619,9075,4283,2690,183,18752,1482,695,781,6969,13102,1431,4750,788,4893,957,3165,1465,4469,991,1055,3832,3053,12787,3812,3257,4163,4619,1550,3309,2309,179,2930,1304,308,1103,166,1040,159,1214,3436,487,4621,4162,1212,7314,12890,6523,54,6504,4724,8841,1238,52821,1797,4630,657,1361,1517,2677,48558,2532,7417,349,2314,1846,384,2099,2017,2569,1958,2751,1894,7525,6357,2291,2803,7343,2149,2142,15372,7357,6252,1448,446,5172,3301,10889,1973,1037,54,203,6387,6225,1134,1948,2487,147,4088,308,14965,145,4186,754,2787,904,4188,6589,14201,7844,2561,3587,1251,6859,857,6838,203,6386,1256,6318,5068,69,1589,3485,2125,1706,2741,1199,13290,5144,5348,2474,15812,376,2016,199,8407,896,387,720,4513,3087,19,9411,4515,99355,312,3019,2857,4458,3584,7458,2912,8073,4636,1627,1976,5275,2230,993,5751,3824,1254,1354,1129,1586,5094,2367,10034,2177,700,1310,10487,9738,7593,1956,1734,3886,4950,1621,857,1356,3821,7028,5722,27697,19810,2058,2335,3372,3545,8849,4262,487,1039,859,3296,2095,4051,4047,1457,1247,8204,3980,652,10506,7937,203,43,4709,4301,15849,2868,7776,213,4819,3010,444,1298,3879,1727,4104,1266,26861,1436,320,4267,10895,2466,3863,17195,33088,2283,1521,6166,2353,6179,660,1204,6766,1498,6646,4324,8020,2236,888,4403,478,1007,11111,2071,2675,4708,149,1540,923,3492,8229,1658,3354,4399,3148,8226,4325,3587,1428,928,1574,1219,3981,10880,8047,3899,2585,4631,1571,1557,3797,5788,164,2588,113,4526,486,100,15777,996,278,3590,8831,3060,12839,586,3927,5867,2856,782,5368,3821,4095,1528,23430,5407,1137,7975,3663,4197,4743,140,4669,4243,5321,5165,2685,4427,550,1628,2333,1987,15279,687,6758,1472,542,2886,427,6237,8098,7462,4967,11229,549,8481,1546,6479,12936,4973,2245,738,1652,5955,2829,8896,4575,238,1806,7966,4521,4672,610,4427,1222,6621,966,1674,54,1317,6343,315,4316,8039,809,1973,1343,22698,4810,4981,1000,372,202,1682,428,7292,1749,5150,9287,4854,1313,13991,345,9078,12,277,20944,1454,14922,1677,12160,1619,2233,259,1070,6185,4662,959,410,217,616,6555,4330,9614,2548,343,1386,3905,7144,1386,2658,1998,846,815,27298,1610,1496,2040,276,1748,2451,201,5139,984,997,2876,92,3279,11975,2954,203,6919,216,3557,2822,3477,5339,1178,14082,1,1185,350,4239,658,1445,417,12946,5929,1060,2074,5015,1205,787,565,5192,3785,4584,1974,1851,5241,6320,1630,2509,201,3537,390,4987,861,3476,1544,3011,126,2523,666,3717,373,6962,7989,54,138,901,4673,200,5122,27233,6565,2094,777,594,4767,8100,5495,1724,4420,14838,1,730,1899,8799,2124,27196,2193,13708,5607,1720,6304,879,3762,1271,1639,4701,2807,1619,3931,1223,1081,4987,13579,10621,1,6768,2740,8561,1313,615,5657,486,9259,2489,2374,1761,1055,12011,4103,1310,1349,1386,2478,1664,3439,3194,831,7357,5676,1224,1104,5002,9862,154,846,3067,3325,9961,11462,848,2656,7708,4762,1745,1596,4559,792,3358,1200,3357,756,6739,10361,4151,2519,92,2191,3206,1320,4625,5194,1967,1928,4821,6723,153,227,3765,486,3695,5502,1592,565,2119,4150,3113,8339,9379,6120,7805,72,4600,4848,1262,7393,1089,4342,933,448,4502,5470,529,5633,2202,3091,1594,2209,1675,8213,8950,2649,1413,362,2770,6738,5417,2416,2675,154,6652,5532,4270,15002,2227,12539,127,3045,6846,5209,1562,4430,201,2665,2013,5112,7032,23874,802,4611,2215,9481,2583,3176,7374,743,8510,1445,8364,527,2656,4169,14475,10417,6853,1436,1612,1652,1383,3618,4203,9848,1155,3009,1247,15749,1854,1374,9629,4924,627,7335,203,5123,422,4925,3497,6598,5919,1566,3231,6670,435,343,2153,2952,2968,4237,201,2349,4289,8768,7386,2489,1457,2465,3539,1298,1112,1471,3440,3355,6307,2784,1606,5141,1753,13903,7300,6269,7625,8204,3957,4305,312,5913,2573,611,1113,4636,10370,2221,920,928,4195,1521,13407,1937,6776,292,5818,1871,3304,3175,3395,2673,5867,6639,2184,13150,7693,3613,2459,846,2106,331,4336,652,1952,6904,1545,17495,2297,2721,17351,2342,1035,4238,1973,1234,2369,1,1667,2694,889,7121,6291,3181,1558,1579,1501,9330,7320,2446,1941,205,3868,3862,4751,8215,222,2313,202,4750,459,4802,5055,11827,3009,995,2898,3044,2457,4709,54,7269,1754,4455,8544,277,2718,1425,966,1338,1569,677,7416,5030,4758,1279,8713,2800,1445,17284,686,3419,272,2500,3491,841,1795,762,2579,73,4147,2333,3572,774,2334,7661,1065,8157,194,2939,5407,6476,2367,2963,1404,406,5056,11245,203,1394,1865,634,588,935,1177,5499,1652,9915,1973,2020,201,320,7646,164,6600,1911,26890,1973,2039,1372,5842,1455,1210,2837,7914,5951,2131,966,195,1708,296,2982,2027,2817,279,6859,1646,3274,1818,943,153,1153,1,873,391,1754,397,198,522,5626,18661,3282,1041,3945,7046,15010,1159,4207,507,10840,13805,1228,3030,1559,14861,4289,212,1646,10185,886,1696,1714,1973,4835,9188,1393,1377,3202,2568,2697,13556,1062,2493,708,6644,2530,16861,1282,1628,5658,543,1246,1034,1377,715,7875,9280,3478,178,173,2735,2989,1591,930,3314,151,5319,2069,18001,4226,4642,1795,1195,1422,4877,4333,6720,1711,4195,4413,6246,11086,1,3266,5297,4537,4329,7800,1973,1387,1092,2480,992,2143,9023,2727,2397,1301,2419,1492,13958,1596,1699,5146,1183,5798,3437,2267,1685,1423,8290,2574,2507,1792,3242,66,231,3446,1775,2364,796,4410,623,9833,3793,3186,3594,2273,1116,3467,11978,3330,3988,1023,1068,621,359,13387,1374,1084,5358,5098,2296,1,2634,6234,2465,240,1114,396,4172,899,3544,1847,1246,4533,5208,1441,6527,9432,2435,825,857,1190,3604,2105,308,6598,1719,12659,4199,8442,2337,1813,6661,6526,1743,3251,3201,26772,2609,5711,2147,198,16063,4679,3274,3484,2377,1029,5091,15960,3714,195,3961,533,3633,855,2480,336,4801,197,4754,2805,3320,11648,7497,1208,186,3311,2522,1676,1103,1823,1544,123,1973,4263,1778,4918,3929,2481,461,150,1398,4159,5457,43374,4649,2285,2657,4794,129,220,527,2080,792,1768,1249,6463,1131,2500,1625,3423,153,11542,1628,6263,5604,10464,1275,4024,1509,221,2315,2277,6120,149,439,1904,387,4663,2744,386,4837,1266,5651,9409,8798,10292,368,4860,4210,4331,336,2981,8092,2579,2120,2896,1778,1364,2947,4710,827,2191,1973,2240,10281,1834,7343,1309,5495,1033,192,1474,6985,2609,10931,1187,3093,1884,406,1012,634,108,2579,4742,271,184,8778,3060,631,117,8921,398,5235,117,26773,305,3450,15737,1350,4146,6025,2023,150,6718,4462,734,2936,3712,1140,2842,4913,334,8735,4275,1739,7070,4613,11054,2233,1799,456,3768,1151,149,2572,3819,506,434,15609,2288,5215,13912,12556,53,435,2809,4518,2211,8605,818,3163,2511,13746,2401,539,83,1670,2567,2680,1204,1030,386,6013,139,4052,1525,19310,1973,1707,7242,2305,159,1815,1623,6789,5347,249,54,8022,1847,1440,11455,358,12208,1152,912,203,763,695,4549,22065,6181,4684,10069,2950,430,1569,2112,2099,3659,1593,2955,2125,1,2478,406,4417,1363,2610,2064,7258,4090,2480,336,6080,1740,277,3519,4320,1328,6183,5878,4032,4689,1514,1922,14959,9269,198,1671,2938,1982,4388,7296,1973,207,616,2817,3849,3562,8613,1304,3228,1748,1535,2095,5951,641,2041,1,612,14957,561,16253,1148,2283,413,1876,4454,1832,269,545,927,9774,5698,196,3027,3062,1152,202,17959,2614,3234,7717,2275,3546,3474,152,2814,4301,839,1707,2907,131,2481,3121,347,1810,1345,456,3970,11277,5146,1706,247,2801,3343,2016,8343,1930,12516,4347,1191,1302,1037,1244,3644,5695,1112,435,568,1537,3174,5111,2994,3121,21038,6580,2652,654,1863,5214,2208,1988,11904,2584,2758,2806,3316,2723,13912,1189,5474,2188,5872,5554,8349,1038,7710,5172,1075,6131,6865,585,2436,5220,12420,1202,1137,1179,404,79,10022,6284,1822,4054,3726,2983,1,4383,491,1579,294,16615,1973,1,1695,1084,1,8158,1193,1782,7985,6128,63,2171,2031,5476,1438,1123,586,3487,20458,7988,1056,3375,1612,562,4010,2474,8704,2792,1445,2016,2631,522,5694,6470,5619,5856,2453,1212,2055,11608,6733,3251,996,571,1046,2673,11167,4604,6439,168,11621,6427,1,201,1959,951,4112,2326,740,221,1078,484,6189,3243,12939,2092,149,316,52,5008,5815,5995,1657,728,4432,543,3516,2980,4880,8136,5020,188,39735,1799,795,3123,2327,841,1016,2559,604,17385,7595,387,746,2130,5226,4834,4668,3065,153,950,3198,32496,6629,1118,2393,1233,5631,3613,4391,9936,2498,11494,1233,1848,2169,389,7382,172,6765,16852,3433,1193,2136,689,2102,114,2096,2355,5685,4573,3024,4545,2903,1710,4459,907,5717,1075,3216,6744,1215,7791,4207,61,197,10710,6659,123,1575,179,3071,1927,2800,1465,4864,1973,7295,1997,1513,1937,6442,1768,2304,8852,273,398,1289,10879,451,1035,1388,8707,35190,427,2463,1905,8932,561,1922,12831,728,4500,2281,226,3685,2066,88,307,641,492,6738,3165,1868,919,202,315,1588,5729,2802,6912,216,3104,1517,7998,860,3468,6059,3033,1159,14732,1785,5558,372,570,3755,794,1601,1399,1683,10928,6350,711,6215,778,661,54,879,2262,369,41270,4818,2045,5733,868,2239,283,5690,1185,4694,2523,5629,6139,1945,197,455,1123,455,3268,21010,11210,371,1785,13046,92,145,12150,4636,4575,434,201,6623,1538,2709,3809,786,2844,2771,9450,5272,260,2660,7538,3003,8682,1530,9847,3314,198,2663,9846,632,642,1141,4635,2579,4090,2742,5007,4445,8292,45,6795,7530,5199,451,6987,4076,5383,1252,3707,3208,1468,862,299,2473,10233,2802,4126,283,3289,7144,24147,2189,9906,1507,8807,429,2578,1,515,11928,848,1397,2776,2628,3268,9056,4730,6501,2694,6093,314,4188,3153,4754,448,3425,5267,1942,11896,522,9611,4450,9018,4924,302,9140,2884,110,4967,6054,1614,3022,3845,2633,5639,4676,3293,1445,585,6301,453,2091,4711,2710,2373,678,3157,7060,1194,3176,25405,7589,498,4835,887,1675,2400,1031,755,5421,9848,1689,9378,4184,1747,4088,5172,13841,3680,528,14030,16896,1973,2875,612,8678,4505,4795,1423,442,1189,26104,622,1590,8773,1364,6277,1146,2401,187,1545,3644,111,3669,3153,798,190,8009,850,842,1864,3691,14516,67,2590,2969,1445,731,1439,3134,1054,8312,2737,2024,1318,2772,1,2410,2204,6364,8420,197,3031,6664,73679,3547,4125,12515,200,1288,1463,704,162,2516,15377,2223,1973,138,294,1590,1525,2488,2459,2007,4545,1019,1659,2790,1681,1339,9042,3003,294,4737,952,2163,820,5828,6287,4358,1169,1471,5037,1473,2912,2847,4370,1973,1160,5746,1012,2953,6491,1098,1719,5839,3149,2703,12745,3060,201,5178,4124,12642,635,9680,514,2089,10786,5123,967,3250,1067,2734,3406,142,9039,6865,11902,3625,201,18620,2335,3091,473,2185,2709,2338,10902,5142,537,374,1137,15954,7696,12345,965,6513,4581,1117,640,798,3463,447,4806,2204,6209,5640,2056,3833,1001,4053,2032,5340,4577,5896,1210,5094,1879,3926,2152,1681,2178,2059,3504,2988,10221,1445,2504,4679,2220,148,5094,8776,5566,3010,2837,1168,4222,996,2656,4820,17175,668,238,4758,2195,5254,2521,5286,437,1597,5641,4515,2002,2514,1164,3353,2503,725,8838,7180,171,4281,202,1502,4494,2847,1983,1863,833,13708,3797,3219,1637,4000,1107,89,1514,2635,3402,2192,2210,5256,3057,7695,2294,201,3558,2229,5123,8531,1300,1438,1074,1571,8011,845,2025,3053,2991,1484,10518,4215,29,3985,4820,1280,20179,1001,722,4033,328,6051,3175,3681,1393,950,3466,898,11556,4989,3475,7250,7262,1368,1889,3562,3257,9286,7052,5592,1424,155,3124,9947,3933,1534,4902,1387,3390,5425,2468,3642,1809,938,5938,15068,3175,5090,4396,2340,13696,2935,2137,4591,634,4019,1933,334,424,20064,202,54,527,2958,6207,6667,969,580,1698,6909,4675,1,2783,7808,1349,2935,2313,1285,1300,6918,9068,3686,3658,6090,8931,4887,922,1123,6882,5590,9626,4734,573,7447,5557,4330,9,3928,5095,913,4250,2528,13349,8510,142961,1536,371,1072,9099,3777,1189,2814,1454,8305,2461,1235,2043,1445,7157,3868,1399,1379,13656,485,3550,4825,312,1198,370,1135,6003,14688,1464,8551,1,2114,1,568,6179,4486,872,5695,734,8710,3094,79,1832,4740,188,1271,5689,4211,2649,1197,2351,2624,7372,11897,4373,965,31,2485,1,7698,17494,1342,2652,1964,1283,1253,849,6384,1187,1360,1046,22535,219,1200,3708,1599,488,1545,5893,380,15054,1489,3458,695,19815,2280,1236,1191,2082,7787,3095,1109,2438,1745,4598,4483,735,8331,632,1359,2243,3455,2573,963,7056,1179,419,4277,75,8395,437,7675,1657,3832,2343,393,5942,14584,1850,1298,160,12682,25854,4825,14935,196,997,640,2002,1537,2204,7172,1102,7859,1992,4912,199,5666,413,6364,9513,5220,1696,1385,3590,350,1049,17336,4701,2430,446,111,4922,3268,1675,1272,5026,1658,1341,2608,216,4878,25177,7596,9483,3876,1652,3689,5117,3610,644,10475,532,25213,8075,2797,3426,1107,3675,2057,202,4261,6153,1783,316,4742,1,2324,1860,4722,1142,2395,9057,2260,2937,1,750,2504,723,830,1989,22628,3775,2062,3653,995,1019,3307,3944,5318,632,5941,2487,1643,9948,2871,173,2243,10103,5286,7879,3544,2492,874,2274,5216,1445,48,1137,3721,3940,523,199,413,3069,844,286,2316,1947,1771,3514,4879,6166,6066,3881,6172,2344,326,969,3838,600,4796,17,11796,1653,2441,830,43,3154,1867,1282,1834,189,11033,1064,13066,203,7092,2769,1102,2423,2701,3082,7339,2139,3656,6885,483,25956,249,1002,3820,7155,1,17439,201,2727,1475,3064,5450,1888,3881,3591,1032,4108,11529,4583,13953,7583,248,1837,4484,800,2730,178,4501,8937,4629,5985,13127,1609,6779,6777,270,4887,125,149,3894,4842,2665,2925,1306,4154,3483,2141,2997,2939,2366,3045,15454,11029,1966,494,1032,6326,12682,2672,35419,7394,899,10508,2664,1592,7447,3837,1546,1920,24954,1706,14247,1440,11243,4585,3295,161,7273,1490,3599,1670,2529,10595,853,903,2749,1792,8392,2035,1883,2736,3146,2127,3277,1863,1221,1814,2193,1766,1304,9476,574,10904,3743,1824,1325,6503,18004,281,4877,434,2475,27298,2823,193,5341,197,2837,4818,62,175,54,2361,4288,1522,2567,825,196,2304,8996,4860,2643,3224,1773,7043],\"y0\":\" \",\"yaxis\":\"y\",\"type\":\"violin\"},{\"alignmentgroup\":\"True\",\"box\":{\"visible\":true},\"hovertemplate\":\"label=0\\u003cbr\\u003eText Length=%{y}\\u003cextra\\u003e\\u003c\\u002fextra\\u003e\",\"legendgroup\":\"0\",\"marker\":{\"color\":\"#FF7F0E\"},\"name\":\"0\",\"offsetgroup\":\"0\",\"orientation\":\"v\",\"scalegroup\":\"True\",\"showlegend\":true,\"x0\":\" \",\"xaxis\":\"x\",\"y\":[4160,1192,4923,10261,9400,3132,6403,7468,1771,1728,1086,4786,2986,4369,38806,3185,7611,9532,6687,10580,2612,5535,3067,3427,2618,5875,2365,2222,2017,10647,7203,7482,4052,3576,1771,2048,8792,7923,4912,7242,1319,4945,208,12224,1331,7212,4642,5919,7715,1089,5108,1740,8461,8086,5797,5009,2278,3561,2368,3937,8746,1532,6507,2512,4775,5737,5811,8774,7170,8753,4321,3226,704,10200,6638,1770,2785,2162,4190,2936,6909,7465,6472,8296,1967,7815,4351,6323,5533,1093,1167,3709,6440,4933,8734,5395,7677,5259,5185,1978,40708,11603,7156,7406,4977,2105,6367,9724,693,7445,3873,6388,8326,5658,10346,4194,7893,3171,7671,7209,5120,2090,4760,1926,1901,6580,582,4421,5111,7233,1932,435,3818,5778,7461,5741,9693,5079,7506,7840,2342,9552,2613,6524,9330,476,2103,1419,5981,330,5122,4905,871,5064,4707,13258,3712,6639,2002,4204,10807,2149,8862,2790,3900,8215,2069,827,2258,14035,8949,3261,5463,678,9554,8884,8862,7200,6418,5869,3669,3473,1279,3563,3562,5323,3082,1606,3924,4486,5992,2592,9852,6856,19894,6048,2310,7301,1270,5492,1441,7646,745,1256,3605,3927,7439,7390,1987,1258,4015,1837,6742,5314,7092,6332,4041,2915,2533,4051,3838,2839,969,6962,1970,2829,1117,2028,18067,6923,1581,4867,5164,2098,10044,14002,2712,4588,845,34313,1884,6033,4062,4869,3751,1250,7701,3267,4040,9729,2109,8850,2226,1220,2734,3987,27714,2031,4420,7633,8172,6289,4834,3443,7298,3270,6062,3564,5482,7538,7137,3832,2227,6357,7238,6173,5017,1947,50308,9061,1135,1271,4801,2267,3105,8821,5320,1634,5615,1941,2618,4541,1757,7379,5245,2092,2395,8917,3097,5446,7939,1836,3068,7003,5934,705,2728,6120,5500,6039,3516,45245,7339,1732,5765,2964,1601,5088,1840,920,5871,8761,6401,7426,11843,3431,2635,5237,944,6472,7281,1101,11490,4729,1984,3258,1161,2440,1947,6906,1239,9281,6469,3585,8956,15369,2641,6396,5529,9011,5116,5987,1006,2593,8846,935,720,2907,2906,6755,2440,2618,5846,8456,5158,9713,3527,5254,6416,1286,673,6878,2871,7833,3462,6864,8180,2358,986,7371,6278,19706,8172,8947,1920,990,5467,4196,2982,4881,1548,1590,6413,2538,1235,693,8886,5298,9484,9216,3023,2348,4014,3235,5648,4284,5116,4262,5894,2143,2563,6621,17249,8444,3204,7801,5012,1338,4529,4823,9618,3918,6699,7987,6119,5380,2525,8386,5836,7111,8450,5584,3506,2967,15595,4907,2196,1815,2413,11755,2930,1600,1156,2856,9068,998,2350,6756,2450,4521,7293,5162,1624,7656,6697,4293,2850,4133,2200,8727,1571,3957,6895,1960,3751,5746,4410,4446,4909,8201,6524,5443,11739,4835,9919,4220,2759,1446,997,2940,9999,2712,6277,3709,2008,3362,15412,1075,2018,2434,5149,1503,5393,1720,4979,5536,7442,1211,5132,2266,1433,1574,3097,2575,7360,8900,6010,7794,3160,2980,1578,7072,3403,8641,8199,2426,5489,2147,5910,5093,5051,6060,6178,2691,1868,1734,3218,7928,908,3462,7343,5586,2129,5278,5894,937,2197,1603,7376,4721,6490,3983,2325,1169,11546,3762,8320,2657,2115,7357,2131,4327,662,2606,12356,12789,3630,4159,3178,1077,2463,6778,5005,4424,6252,2923,4235,9695,11864,8483,4140,7898,3630,6711,9455,1727,311,2441,2761,6988,6113,11280,5100,12160,2642,6612,2015,1726,2321,2354,1942,1246,7941,9120,3846,4442,1293,4468,4113,8104,4087,7275,8438,10850,5987,24040,4589,372,10233,6448,5929,6630,3608,2599,2110,6042,14684,6578,7041,4925,3108,921,13694,7884,5951,4278,2317,8646,7900,615,1481,4033,3448,1443,2729,7494,3432,10706,6743,6601,5997,8664,27247,2390,3623,6030,8308,2520,3762,7733,921,2932,6066,5296,1850,5084,2090,4679,7894,5220,2678,7624,1631,797,4781,2335,2475,7345,3178,5436,2540,4600,5552,1086,2634,4650,7114,2786,3837,705,9904,8018,8290,2009,1032,4964,6109,1654,2276,5816,6676,5151,8393,1312,4166,1974,532,6950,4596,1509,2255,6629,3696,3209,3170,2629,2588,4589,10653,8533,2058,7046,957,5736,1775,6332,6828,8677,1611,3694,1872,1995,2106,7846,870,4249,2276,1345,11987,5870,6069,2029,2365,5286,9050,10694,5168,7237,2143,2083,5541,3991,2977,1627,7874,5291,13077,6697,4362,2309,3237,871,4036,3220,3249,5461,1087,2785,1206,1480,1138,650,959,2976,6045,6494,2612,14986,5284,7061,3012,6309,41994,4595,1907,2743,5444,3229,616,2344,1486,3466,2281,8691,1615,8321,8892,4133,1857,1031,9300,3354,10116,1453,2821,1662,6786,25726,10693,2168,15312,3509,1735,1153,8665,3121,2422,3538,2666,6596,1642,7737,7391,4637,4697,6895,4241,8126,5480,7217,3259,6375,5180,6363,2999,2961,5179,2199,3791,5044,1948,737,2053,4647,3071,2794,6698,5260,1097,1695,6816,846,2993,2113,9758,4802,2815,1588,1914,5396,10027,1743,4129,5561,1461,2637,1780,2323,3871,2482,6697,949,8034,4285,6122,4494,3724,6500,798,7919,4642,437,8036,7299,1507,4842,2558,6086,14254,1576,5582,1002,3657,24070,6609,717,2480,1812,6598,3810,8920,2838,1712,2045,6313,7723,9106,897,7206,2031,2464,2677,1824,1143,4494,6537,2937,8030,7912,4536,4973,9179,3711,2744,8402,2388,3966,7390,6911,3192,7322,948,7560,1682,6498,3110,3961,2211,6322,2110,7000,6968,6246,7076,695,12319,7894,1431,969,2115,1484,4797,4154,916,6465,469,4718,2696,869,6351,2933,8008,1543,5339,1873,2372,5825,6434,854,2737,1090,8378,3683,7341,6761,2392,4726,8009,7293,1549,12464,3983,2313,9179,6384,6852,5695,4083,7418,1515,7860,6226,1010,4393,2775,1094,3464,2727,2830,2057,10685,3511,6020,9065,4684,5239,51382,2127,4425,3183,1120,9484,2475,1097,4655,988,8090,1451,9036,4004,8673,4353,3915,2925,3204,9456,4208,8601,1930,5206,3521,3589,2108,8321,3652,7453,3584,8383,3273,3001,1278,4144,6078,3882,3913,9525,3310,6008,4483,2894,14742,3179,5461,2151,7817,2091,5889,4302,3041,6604,12884,6129,8941,8451,2909,7388,808,2354,4120,2871,4301,6400,3988,7642,6569,7436,3558,1470,9672,4408,2048,1708,3497,7089,5845,8999,6863,5271,2281,6644,2081,2746,4163,3001,6419,948,3717,2977,6124,10515,2662,31293,2306,1943,6117,5284,5059,1523,8264,4680,7262,4906,2843,830,9923,6437,6856,3665,7988,1133,1864,4136,17190,1438,5974,5068,764,1007,4063,7082,8788,4293,8531,7918,2211,8766,9373,6167,1769,1106,1971,2180,474,5220,5694,6238,7079,2174,5218,4811,5008,4113,1020,4013,2333,1566,11305,2458,6328,5007,212,5412,10488,4073,7252,5613,10828,3463,4065,9382,2025,4435,6396,3605,7185,7080,5366,2137,3051,21250,2317,7625,3019,5692,2251,5465,11213,3038,9843,5260,9151,3848,1687,6552,2523,5367,2727,1570,3755,6779,3182,10206,954,959,5729,5017,7785,5646,4561,2716,8069,3446,5735,3391,7611,3570,7829,8588,1035,8738,6011,3391,862,8830,749,7915,1278,9697,779,3195,3458,1708,1921,5692,1267,5077,6049,6531,1876,3060,2913,2417,370,4046,5147,1852,10974,833,8388,1803,4338,4977,2407,507,3337,2778,1278,11566,5224,4503,3319,5612,1726,7500,7043,1497,4647,9476,1904,2765,1329,5959,2267,11317,4398,5638,12414,8442,6550,4680,2563,4434,2210,2260,1220,3051,1926,2999,14871,6415,5791,6832,4190,2207,5607,1930,4357,16628,4604,2969,4993,6586,797,2079,6457,3860,6469,2423,1421,2845,1000,2105,6212,3310,6226,8923,4706,12329,4991,5181,19038,1180,2092,9047,6439,4436,5437,1943,9814,3440,854,5649,1717,6184,5691,6605,10509,11444,981,7524,6003,4488,1820,3482,7923,722,7598,6397,3499,3566,2128,55746,7697,6540,2267,2325,1309,1685,6327,3044,7060,6988,1740,2136,5650,2065,6483,7395,5811,2052,8068,5325,3717,1387,1691,7890,4073,1825,5726,4541,1214,6707,1849,6875,3273,8771,2724,4563,2810,8296,7783,3729,4803,5227,5759,633,6328,946,5916,2038,5401,5302,7189,11562,8291,3870,1912,3157,4026,9052,920,5936,1451,794,4321,2619,5577,3341,8102,6473,2645,2654,4304,3164,1484,5232,6210,2542,7516,7289,4069,1597,2372,3333,9258,5125,1698,1686,7436,5743,1278,6151,1717,1637,5030,6407,5784,8115,3078,11501,2185,3012,4608,13248,2073,1294,1090,1100,4911,3888,2046,2025,6493,7308,6250,7214,10390,2648,2239,9721,4089,3995,2774,5783,892,2267,1287,5370,2172,1469,2247,4798,2734,2878,904,1156,2069,1250,4350,10957,6098,1487,1471,1533,4725,4767,3967,3039,6081,2912,2952,1603,1579,1875,238,5179,1219,6764,5931,4546,2544,7574,13969,2085,2137,1031,6699,7444,3662,4476,6599,6225,3004,2091,5929,8462,5387,7487,2328,5575,222,2125,3313,386,3546,3727,8745,4913,2031,6073,1997,523,7588,4144,5192,6777,9707,3339,6456,6434,1867,6471,10860,8601,2261,804,4417,4098,6024,1437,8024,8001,6812,2886,2382,1481,1426,3781,2338,1567,5825,2539,9090,1253,7327,5637,10990,9147,811,940,6901,5965,2163,9037,8920,7487,1396,2201,7827,1607,4761,3980,4975,2017,5442,6616,5250,5176,1803,2623,7718,15048,9245,2697,2627,6090,5565,8063,6363,6018,870,6413,5532,1960,5688,1943,9565,2006,1924,11193,1780,7791,2330,5914,2674,9548,4910,4253,1753,6490,1980,4030,2107,9076,2987,6200,1240,3145,3427,1720,4103,4560,3803,6703,8079,1901,6303,7717,5074,3783,10298,2102,6574,3850,7835,2337,3980,5978,4306,2028,601,5460,6474,3999,7969,3803,5155,6648,3735,9802,1357,5293,2143,6495,4065,8185,6810,5813,7369,4405,6754,1619,2026,4134,15023,1416,7967,8183,9849,3690,4791,4923,1813,1733,1475,4340,3855,4773,947,4329,3069,953,4804,773,1606,5243,3782,2260,8817,5123,1668,8018,1176,1853,2668,3831,5303,9206,4964,4274,5761,4995,7931,6514,5125,1914,4503,4571,8995,4828,1813,1518,5215,35566,1031,8518,8515,4387,7913,2380,6528,3548,7888,10170,7892,3132,2270,6948,8609,5587,4343,1265,6030,5750,8732,6763,1876,4409,4968,727,7412,4146,7933,6183,5401,7966,1103,2504,1821,3034,1902,829,7398,1801,6249,2081,1315,985,2596,4491,3302,1222,5064,5496,8371,4813,3407,8397,2791,806,7266,2976,10023,7707,1048,3660,731,220,2344,5364,3902,417,3038,2366,9443,3652,7568,1275,6177,2482,2064,1074,12245,10183,1427,1151,5498,7641,633,15979,6469,2410,3993,2537,815,6861,3744,1227,1402,1675,7158,7322,3707,7469,7862,6892,1271,9651,7561,6418,4764,12546,4046,1725,3494,4768,8327,6987,811,4376,1842,5113,9233,2033,708,1879,3240,5740,2582,7279,704,2379,8982,7044,5227,16311,2213,1528,8263,1750,2041,5667,3556,1737,4197,3533,7126,7508,5214,2224,6214,2546,3629,5750,3498,1018,6885,4794,9145,7290,4363,4283,7299,4858,7362,3495,9936,5392,8734,6460,3059,3244,11106,5188,4327,1882,5239,3287,8377,19373,1243,5188,6349,2595,6860,7217,4323,9115,8224,2625,25299,3306,5307,1894,5908,1828,993,5410,2108,5246,2473,6464,8907,4493,3777,1504,4345,4187,5361,6169,7233,2399,2462,10739,1879,3190,5379,2349,7844,908,3204,4718,3961,9062,3144,6381,5372,2202,4483,6052,769,4991,7691,3211,1929,7722,3131,3853,1358,1738,1318,7518,3821,2331,8303,7627,2976,3180,3811,3738,7111,16487,9405,7631,7049,841,7085,3320,2723,1672,2650,4321,7185,4670,12964,1207,1033,6867,12528,5316,806,3349,20374,7120,1129,1979,2511,1744,391,7038,2410,2675,6595,8292,3337,6054,1779,7110,18182,6622,7096,7154,3276,2325,2528,1725,7559,7210,6569,1222,4669,6938,425,1913,5653,1371,2680,3752,4286,9753,6533,4879,11200,4138,4083,8580,781,3001,6003,6673,7092,4026,3004,5056,1323,6743,2393,4098,1107,25253,2201,5041,3534,5502,8333,1747,6162,8092,8301,12964,8038,6014,6841,38411,8870,7772,2935,536,2322,3502,5956,1703,13573,1906,4662,2469,4267,3615,6913,957,2089,1988,5412,5724,3534,2391,9070,7088,593,6545,6474,2751,2122,8455,3612,2887,9937,4975,6767,1298,1108,8906,7380,8091,1798,5799,10269,7887,2812,399,5161,2611,3061,1483,4042,7724,1074,917,3673,9797,5292,6511,3151,7809,1837,2696,2330,9259,6118,2163,7537,3988,4270,6773,5119,28227,3634,7753,8465,8682,2797,3332,4323,1443,5914,3230,9726,821,9164,906,4889,869,2053,6106,4423,3733,9818,2707,1944,5247,3725,4948,8449,6028,2026,1481,8397,2019,6346,7334,2521,8654,6553,2663,3518,6371,2183,2859,5585,8264,11509,4827,8629,3735,2747,7167,2429,7140,2516,7892,6843,5619,1562,5679,7129,5866,25960,3106,5214,1861,2759,7211,6623,6374,4306,27935,6415,4215,7021,1198,7868,4371,1832,7741,4268,3331,9027,8261,1654,3779,3247,1750,7192,2704,9054,9404,5173,4904,5402,3032,6875,4942,1752,8670,7208,1730,634,6235,9035,5518,7649,2253,4834,8330,4394,3665,7312,6341,9093,4109,3462,9096,2868,1147,12001,12289,6561,5606,6046,4368,7410,3071,7154,4886,1496,2259,886,3226,2513,7937,5122,3870,5833,3280,4008,6982,2588,8434,249,5358,2186,11888,5547,3741,3143,6910,975,2262,6280,4237,10446,5708,1716,1047,1067,2355,5824,1584,8649,4183,4155,1915,5856,4966,8077,1093,1423,2618,4593,1237,6297,1639,947,5526,7347,1033,709,1641,3712,8988,4027,959,3018,7635,3661,2629,5128,8987,2472,5334,4442,1431,2933,3355,7372,3771,8003,3151,1886,1833,3510,1427,3213,9485,2278,3096,6343,1640,6893,7158,6593,17389,3910,8546,10899,4335,7046,4313,7131,7730,5103,5210,3408,2262,5898,2291,6921,4402,6491,1211,7986,4601,13040,1614,4747,6209,5768,5330,4398,6298,4091,8593,18859,3697,1999,14903,6987,7621,6428,3892,8996,7654,7945,6974,5311,2037,3685,2065,3842,5745,952,5738,4500,2622,2432,15880,4551,1737,15569,1453,3185,3090,5349,2264,1483,10768,2033,681,8722,7955,10404,2021,2074,3934,916,4559,1251,5891,2592,897,849,4140,4080,3672,2773,6284,3044,2340,2475,9805,3155,1691,2679,2234,2934,7892,2330,8448,1276,3652,8268,8249,8688,1339,4206,12157,7868,5867,4516,8030,22211,4604,2363,1847,2473,5302,7051,6728,2674,3821,2927,4742,6857,6972,14765,4497,6825,8508,4965,2160,2134,8466,2928,10128,3161,2913,3767,3924,1970,6797,3624,3128,1042,6775,12944,5018,2275,4680,2149,6663,2104,3648,943,4158,1316,15040,5515,8665,6724,7020,7639,2460,10433,401,2460,7650,4777,3026,2861,3843,1781,2031,5844,7419,4960,7971,7053,7747,4976,4346,2515,1946,2265,2481,4159,6280,1789,5250,6940,6531,7389,2900,3489,7656,7169,5902,1936,5687,7194,2186,6055,5402,882,1597,4073,5830,2803,7833,7015,2295,6769,941,1378,2121,8840,3388,1496,1722,903,1831,4946,2454,3377,830,5886,1119,6070,7415,4911,1691,6988,2319,12987,11533,7700,4344,5700,2017,6568,7269,9858,2077,4757,2446,10519,543,9348,4795,4310,9034,8682,1901,4800,1866,5748,3553,5516,9068,8304,1112,7261,5750,1998,6627,2735,7001,7319,5539,2284,5413,2790,1676,779,5501,6536,652,3094,5321,7162,3321,3755,1755,1878,4642,8114,6469,2291,1971,6364,9895,7179,7332,3497,4803,1647,7436,1357,1612,3808,3062,2503,1621,6758,13411,2889,7069,5730,10906,1748,9295,7482,3793,2850,4366,4545,1433,7810,22140,7312,4808,706,2044,4481,5123,4238,3347,8342,5771,7728,1435,5459,4409,9049,2843,7638,1698,5589,9434,3361,6744,7218,2675,3690,1799,5079,4864,6658,7345,3022,4563,5196,1650,3215,2161,7010,2069,8635,2742,3843,5173,3584,24600,1798,5682,6516,1497,7230,4916,7421,5836,5360,7977,1609,2815,1875,5374,5250,9554,1875,3990,2599,5679,5937,4858,8852,2944,1998,5069,2940,10845,2368,23183,2586,2202,7688,5178,7434,832,4989,3168,3814,1942,6886,7462,5935,784,1949,1424,6663,5024,4903,23844,3006,3640,871,3969,7800,1565,1469,7982,7345,6318,6746,5890,7664,946,2768,2260,7324,9990,6640,2452,18626,7822,1948,5059,1028,9669,1707,872,1035,6025,4829,5071,1578,8311,9657,6720,4727,5011,4195,5554,197,7600,5118,1033,1886,9088,5687,4038,4861,9404,2223,5731,1039,5805,7400,1829,6142,8247,4198,3207,657,2553,6920,4101,5739,6328,4196,6949,9086,3220,5039,4048,2520,370,2205,9791,7007,7469,5027,7272,3627,1016,7388,3920,3838,9027,5746,2360,6221,17046,2602,8412,7671,4477,862,1729,6344,1185,7803,4685,6226,5832,6234,2204,1499,8669,4363,7607,14967,758,2580,4246,1574,5616,7129,2855,7023,8654,1519,14952,1575,10221,2770,5391,4714,3879,6708,6314,6608,5917,3145,10866,6063,8860,1712,7227,4548,8679,3886,158,2060,22452,1263,7751,7409,963,6097,7223,1005,2892,5390,5612,10021,2952,9777,1828,5334,7660,7329,7522,5774,3987,4040,7310,2775,779,21931,2408,7306,5829,11112,4917,5378,8648,5610,6918,594,5057,785,6652,6847,4504,2297,7811,9462,2435,6957,3615,5570,1392,7256,1157,4236,6500,1532,11470,7269,8165,8083,3502,2460,1228,6268,1291,1931,563,7845,7390,4283,2296,5534,6331,6319,4567,4395,7574,4617,1879,6133,2673,2930,6508,7747,2048,3320,6570,4114,1722,6342,8309,4256,6894,2057,7335,1650,8357,9289,723,4031,4068,4650,10461,1260,7347,1634,3820,1606,7382,5345,7175,7038,1102,2330,4345,1101,10700,7296,5851,4977,6956,4654,6300,3173,662,2716,3844,1026,6558,2006,2476,6955,4832,1778,1023,6385,3447,1361,11446,3486,27834,2974,15954,3258,6841,17525,5752,5764,5729,6458,3362,1786,15512,5422,3114,5913,2490,1818,6886,1865,1633,3150,6979,5032,5112,1057,6884,4571,4145,2786,6282,5621,2969,3797,5561,4667,3490,1308,2188,6735,4458,5792,4129,4516,5007,4175,6212,5317,4091,2631,2972,7087,5065,7778,6792,4548,1892,4515,4606,2190,599,8083,2087,2593,7560,23443,5118,2040,2564,11246,3770,6580,14741,8862,9987,3179,1830,5660,1203,6205,5193,1458,3893,11907,5884,6830,5745,5166,3469,1916,456,3993,5773,6678,7904,8509,4873,6142,8596,7219,1178,2274,5796,4958,2502,6597,664,1882,6966,3926,3300,6254,2708,552,8591,4157,2122,1560,1434,1294,1570,3180,1731,12113,7087,5473,634,4625,2162,6208,7066,3138,7593,4462,4911,11341,7405,19010,7229,3262,7265,4214,2967,7379,2293,2908,6048,748,6477,1202,7592,8906,2999,7912,4991,2458,10090,658,1716,4460,8265,1714,5129,1228,3445,910,7275,3059,4419,1934,7716,1978,6002,4535,2425,5812,2210,1773,8582,1928,9192,6628,7543,1918,5123,3489,4582,7558,6464,7933,2944,7966,6382,3240,727,1698,20345,4121,2342,27700,5703,22121,5315,9955,2016,699,2098,5996,11662,8140,2637,3299,15120,4410,5091,7111,3410,5350,5694,11252,6649,1823,2182,7606,7249,1803,18235,2951,6624,10853,16320,5707,1012,6349,4321,1043,6446,1319,2289,2594,2081,5077,7456,1882,5386,2031,3672,4115,1156,5157,778,11141,4867,2105,1777,9769,2272,10776,5883,17669,1860,7452,8836,2137,1853,4048,7012,2502,9435,1763,1251,9887,2964,9498,3058,3235,4645,5208,36075,1159,1952,2735,2807,7040,2219,1264,4203,6840,10630,5321,4832,4661,2162,1347,2742,1394,7223,2703,3686,7309,2032,11248,7755,1656,8539,7540,1463,4892,5412,7424,6951,2583,8161,4293,10380,3519,9292,5434,2514,7473,975,4699,2467,2268,4137,8348,6338,4552,1617,7902,7335,3618,4013,7236,6224,3763,9439,3399,4337,3393,1228,3200,6733,14803,6238,1003,1395,4454,7271,8262,5555,1097,2021,7164,6869,1440,1014,2650,2072,6247,8454,1090,10455,2426,7893,16700,2710,7999,5039,3536,2096,5379,9023,3131,4097,1821,6516,11770,8996,2411,4436,16825,3619,1113,2640,3478,3046,10800,8686,2311,6581,1576,5826,3164,4370,25580,3158,2233,3056,1513,9019,5566,5494,1191,1139,5009,7467,3290,4580,7287,1920,1513,5517,4954,8315,4709,5697,1479,1992,1348,2838,2181,10149,5948,14111,5526,7409,5347,2550,8148,6687,8070,3174,8300,724,1988,6736,2403,10591,8109,4518,2186,7052,4198,15451,1584,5779,4162,6333,15786,4195,1427,3407,10914,18935,1504,1657,2052,3797,8818,1559,4581,1765,8387,5613,9285,140,5608,2051,2275,6570,2450,3917,4323,2984,548,7175,2789,8087,5014,10774,9191,2736,5737,906,2489,1974,11949,3551,178,8288,499,3805,6343,3327,4157,3972,6654,838,4764,821,5905,6538,2813,6504,7611,3041,3211,1995,7122,3,3629,580,5296,729,1700,1426,3470,7311,1092,3089,1635,9423,1492,7501,4733,8153,2905,5227,5511,5836,657,935,975,5183,7411,2655,6456,5570,5223,7398,3087,7826,7600,10416,5519,823,3105,953,1046,7896,1255,593,188,10477,8638,2613,2755,7295,2556,8764,1077,10592,1571,1968,2144,1648,2296,7435,13705,7176,595,1793,6340,6572,2946,6417,1997,2850,4068,4610,2383,6070,1320,8529,8646,5174,2344,8060,8076,1973,4032,6685,922,7434,5755,5126,9219,3590,6397,5467,1402,9033,2921,611,7648,8052,3016,5924,5156,7014,4462,4042,3385,4297,6816,2134,3622,735,5387,287,8098,7218,3652,8106,7174,6658,8886,10395,664,8383,3394,5757,6851,6583,16055,3809,2168,19312,10897,6755,1916,1679,621,1865,6697,8289,3498,5018,2766,2804,1791,2280,6436,6581,4854,1771,5324,2892,11400,1876,4668,13235,7335,5293,6201,6537,5757,2143,4447,4851,6450,6814,4131,1911,4217,5951,2694,8593,2226,4541,3757,3384,6522,1420,2201,7789,4705,6025,2212,2715,5285,3572,4590,5530,3326,6413,46386,4694,5193,12790,3711,3431,4740,1497,5996,1663,1611,14380,8363,3208,4158,9204,6802,1093,5215,2304,7127,2795,4405,4252,3732,6113,2823,10059,3763,4287,12097,5862,692,1837,7265,1791,5643,6604,2857,7100,1457,9537,1586,2288,2202,9324,2273,971,2760,3352,3334,9420,7988,1147,1895,5362,6089,2279,3690,3025,5042,3293,4974,8954,911,8702,3389,1807,5937,2262,469,2633,3377,7582,785,5248,5300,7598,6166,2621,661,5941,1290,6854,6054,6941,3416,2349,609,6068,1033,701,8038,1705,1205,1130,7348,4289,4826,500,5943,4595,2219,7217,4663,2584,6397,5770,1330,6738,2325,21693,5835,4849,6195,1079,7753,3385,3632,5657,4587,2797,2146,20978,10730,2602,5581,10853,579,7078,1706,3188,1892,8450,8110,1921,1918,2299,2267,2718,7829,2261,1775,23224,2104,3487,16044,1762,575,5384,6732,8389,2094,1744,808,5163,3889,2070,1168,5898,917,10965,7581,8133,9903,321,27712,2751,7003,1873,1493,2204,5073,3994,1518,1666,879,2579,845,4554,5583,4170,3288,16210,10434,3930,7950,3675,1107,3633,999,10532,2520,3438,8109,5671,3171,15234,42935,1399,3331,6806,7351,2531,3730,6499,6607,5446,27871,35236,6276,8559,1979,6986,4685,2172,3820,408,7055,12445,1991,1940,4873,940,5764,7029,4960,1542,6924,8900,1257,4538,7848,4294,2984,17915,8980,3963,4355,1993,3457,4748,7614,2341,2133,1808,3820,1560,12910,4050,8417,3688,793,6998,8732,2390,1800,2497,5553,6592,8158,540,2843,1886,5367,5222,3234,7007,4075,3970,2260,3325,4822,8262,7545,6474,4047,6834,6117,996,1006,1607,1744,3960,8908,2490,2708,8389,8342,3607,5272,1532,3292,8465,917,606,9866,1295,3663,824,2133,5250,2549,8701,7036,7836,10091,7092,7426,8357,4838,3018,1526,6961,5724,7626,9391,3010,5120,1892,3732,1914,4187,1795,4969,6951,7740,29868,610,710,3396,6839,8820,2197,8729,4022,2400,7017,6704,6972,3784,2487,8155,11398,3356,9230,8591,5147,9001,11222,3195,6720,1989,2707,3019,4567,4296,7240,3739,4702,1900,2853,6409,4753,6835,1202,9145,6033,3889,4578,7847,3553,3730,2108,4286,6593,3551,1766,6028,886,1558,6619,15595,8471,4389,5433,8282,3022,43882,8445,7934,1136,8776,8966,9433,8246,7720,3053,9194,3509,7354,7257,7840,6646,3431,793,6388,3295,1793,7332,5145,8438,1674,6089,4630,5556,1692,7081,10085,5032,5641,6237,6389,3250,6091,2146,181,209,2209,6108,4710,9883,2096,2022,7805,2054,10085,7336,24451,2516,4230,3794,607,2892,6490,3635,6171,2265,4736,7066,2300,7654,4000,7780,2009,1636,3929,1772,1559,4600,18911,7405,6584,2142,3970,6190,14475,8410,3847,4911,2843,3598,760,8083,4308,5197,9297,11906,2669,3516,5835,1146,7131,5578,2744,2611,5366,1755,5094,1583,3360,2521,5452,3685,5389,5216,10334,6903,5416,6657,2188,2012,5537,1945,2500,7125,2057,6415,7567,2385,1639,6460,2074,5430,9468,7266,6487,738,704,9374,4880,3346,10581,6987,4993,6884,4219,8695,3448,1819,7252,5709,5305,6685,2118,10770,2932,2788,15510,7378,1639,3501,9401,1781,1443,2691,768,3868,268,3525,5442,1318,1869,3488,3914,6324,6611,7527,3923,1934,4967,1223,755,2049,2001,7405,5490,789,2499,4477,4123,3680,13588,4883,985,3294,5478,10013,7994,9644,6588,4234,2923,13946,3292,7419,1116,8679,1154,7422,7024,6252,2394,11017,7420,5731,6627,4298,7127,3548,6634,6789,3145,3164,6453,3358,7487,4218,5621,2358,926,4658,4604,4434,7530,7186,7631,6656,5269,6618,1703,7060,739,2730,3051,1615,8493,3132,3749,788,4097,8419,7255,3985,7973,8588,7259,5816,2391,2761,4069,6689,6590,217,11986,7781,7570,4591,6748,9313,9851,1641,845,6063,2010,994,11541,10444,4803,8646,2683,2362,7113,1813,7960,7992,5794,3233,2220,4740,5761,1661,12209,3902,4349,7174,5708,5028,7250,3134,1679,2192,1614,28855,1959,4722,6373,10312,5007,7939,5617,2518,4073,3765,4116,2022,9258,5542,1936,1628,7423,1046,5819,4715,5309,6248,5373,3568,320,3866,2257,7307,8390,2629,6249,9024,3013,7723,748,8411,18056,2118,1609,1140,4050,7718,1730,3267,2429,13598,9096,1793,1635,1097,2479,1535,3110,706,5933,6011,6540,4242,1765,7940,2345,5217,6596,2105,2657,2003,1553,2691,3220,1325,6463,1552,5247,5943,12861,6546,1413,5304,9828,3792,6666,4934,7545,1987,3607,4848,14822,3443,2057,6542,10647,2565,6594,8360,4746,217,7182,911,8329,2220,6999,3480,6340,16866,7102,3196,1712,15031,1561,3990,9321,1718,6800,2768,984,4588,5225,16525,26450,3949,2460,2442,2097,2323,1246,6099,1514,1519,1862,42551,3409,2084,2389,7678,5934,7476,8554,7299,2654,1941,8319,1385,1529,5024,5147,7722,2091,10119,4474,33427,1460,4921,9219,8327,9021,5502,2805,5781,315,10179,7630,4218,6138,8287,4610,8068,26232,4842,8457,7294,4727,7106,1428,766,7935,1873,2654,3618,5521,1480,2577,3632,1288,2304,5298,3984,8186,6274,8211,3687,2195,4844,5346,7663,4455,7532,6722,2808,2411,3675,9766,7796,7388,1082,4714,6114,5400,6200,5505,8336,4722,3177,7241,5682,2099,1714,4881,1562,6874,5805,3399,9000,5767,5025,8214,3860,4253,11137,1037,1921,2355,7679,2709,5342,1950,1602,5122,7478,3692,2081,3823,6564,2365,1523,4523,9469,8415,1636,6154,2410,6794,1667,2221,1662,4314,7306,6528,3907,6457,6231,1637,3418,6154,1810,5353,10488,6276,1389,5707,7003,1873,6234,500,12783,1153,3576,1700,1812,7446,2082,7229,4134,778,3827,2697,6904,9114,4714,5992,9139,2645,2210,1360,2467,5386,3215,14861,2495,3825,511,6990,1202,6965,3722,4458,2132,5233,678,3550,2934,1007,5827,1276,5771,10402,3052,7963,7039,6953,3476,5755,1135,9066,14685,9715,5463,2495,2659,905,779,8284,6295,11027,2530,5683,199,2006,2300,6510,11464,5282,1717,2967,5577,5812,5917,5384,2137,12383,4537,3111,2282,4002,25847,3025,4894,2685,4403,4121,4658,6761,4907,9929,2809,1287,1040,2129,3179,14543,6794,1991,2186,6216,5417,5515,2130,20771,8857,4231,8262,7424,2606,2723,5740,15035,1485,12035,6063,5057,3335,6509,4068,5187,1012,7212,6910,2524,4844,12601,7936,2605,1178,642,1512,3465,6179,5001,597,8732,4832,4438,6046,5522,3205,10641,4647,8912,7171,547,941,1314,3912,8014,2026,826,5641,4638,5209,8003,8156,5390,5358,6372,7997,7898,2117,7930,1655,1585,563,10809,2487,1739,8141,2628,1366,2598,6126,5655,48638,2048,1285,9727,15277,1618,7583,3722,7131,4231,8770,3808,1801,1393,5279,854,1903,7556,8484,15332,2229,4592,1254,2129,1761,10082,1337,5996,3790,6278,1599,6654,3703,8128,40807,8206,1561,2735,3849,1353,2874,2106,2848,9273,5455,9908,44680,1602,5645,8485,5138,6829,2949,4887,6669,5032,4679,3532,8465,3378,7462,2461,4985,7414,6774,7831,14462,4651,7091,2759,6242,762,2181,5850,25990,10105,5584,5804,5618,8767,14068,1013,5321,11765,1939,5255,8127,2034,5613,1636,8158,2448,2060,3457,7320,7184,8044,9430,3057,9257,14926,5137,9829,5801,5842,1109,7755,2428,2665,2314,6661,7394,12950,7979,1461,7160,3951,4606,6226,11069,2097,6182,7951,6371,7001,2331,7101,1440,8310,2270,5268,1493,4037,8135,6112,2382,7374,5794,700,7023,5626,2991,2671,5738,5829,4712,2984,3172,7842,2522,1630,6657,3555,5620,1941,2886,4653,6897,5568,1876,15679,8604,5268,7727,3060,5317,2867,2412,9910,6921,7798,5482,917,5408,11739,6390,3102,9322,2370,2353,11717,6878,5581,12185,3389,5932,3932,4506,5402,250,2383,1599,6913,1902,9502,2291,6680,5791,3771,1498,650,6165,8625,5629,3043,2980,2532,5352,2363,4470,13651,1420,7225,6022,8995,5241,7955,3292,8234,5226,2527,7287,1155,2409,8009,2159,1334,8447,6462,1707,27064,4837,3420,2432,981,2409,6562,6237,629,6276,3604,4013,9343,4473,1784,9251,9875,2208,6953,8983,3912,2475,6360,814,7906,7481,5470,4578,1714,2368,4244,11234,1358,1273,16908,1644,1302,3343,11053,5029,2982,6650,5889,3595,4268,683,2251,3457,3655,6332,4735,2479,3513,5297,4753,6802,2718,1007,6186,773,2742,4186,8796,5227,2356,6739,6614,6554,4525,4524,6853,2586,4119,15115,6011,7806,6922,4331,4234,7106,6525,6255,20697,5670,3506,7163,8133,7420,3691,2722,6020,2306,7381,8493,7971,7521,31007,3085,2279,890,8299,11166,4935,5952,11856,2326,5683,4272,1738,57846,4322,2851,5098,4509,2119,2701,6705,4003,7874,7907,1802,7171,7512,1773,6060,4972,7912,6176,3007,1937,1099,3482,4016,10434,5555,7896,8230,4485,7380,3518,6084,1220,2089,3608,5321,6521,1338,2046,2773,1265,2230,5072,3255,5356,2071,5907,7482,11089,13637,2834,5123,4029,4432,5393,11676,10469,938,4539,5701,8175,1744,7040,1860,6314,718,2720,7501,7679,1222,10213,5973,177,8004,10367,8928,4733,745,3294,17222,5489,1358,4215,7849,2189,7111,3524,6912,5876,2376,8135,5367,9841,840,7697,778,11640,4095,2767,1847,1307,6257,1498,2327,1307,7252,2789,2170,6734,1530,4050,733,3076,9786,2672,3332,5632,4277,8812,7822,3985,7876,2599,2072,1949,3698,1883,947,1656,8910,7326,6662,2334,4424,2041,3901,6988,5358,7918,1377,6950,5913,1148,8932,5931,7435,6470,9768,7604,6052,2587,6949,7525,5106,211,7185,9445,1581,19779,12326,8099,15949,5616,3462,1978,2043,1994,5675,10923,2212,3342,3104,3979,1097,3641,10836,1434,7696,2076,6773,2130,4980,9287,7154,5047,3034,4475,3206,2141,2923,7917,3419,5614,7572,1482,5688,8642,4261,2686,7096,7691,4727,6793,6497,3567,2983,5643,2374,1311,1054,11457,5575,536,3329,6385,1184,1194,6962,510,1546,6598,7855,2952,8038,5005,4091,2247,6232,6481,2468,2144,1227,3035,10438,7277,6896,2842,1798,4241,2560,5604,2667,1468,4283,9160,6207,7876,5876,7290,3267,3462,2676,1183,6454,3270,2637,19569,8507,7468,7578,2798,2102,3627,7090,1137,7748,14208,7213,8372,790,7466,7908,3093,1045,3498,2000,2123,4677,1804,4383,3296,6305,9780,7692,1471,6223,1360,4374,3694,7273,5267,13433,2794,4205,1777,412,8319,3104,2600,3948,3043,6728,4843,5036,1655,13494,5963,751,1439,3949,8863,20039,13088,2238,2521,9597,2029,1066,185,1708,3218,6048,3314,1067,3401,5147,9435,17587,2165,3976,2470,534,5535,5421,3718,2535,5767,4672,7225,6299,3590,809,945,782,6918,4231,2308,8121,9178,2959,3680,772,11280,5514,2267,315,1094,6815,5104,2377,4551,8857,3607,1599,6964,519,1883,4948,7358,6747,2348,914,7084,5136,3621,5853,1219,5575,1707,4088,9627,7272,728,5164,5839,1938,1629,3371,805,4678,3247,9377,5921,5177,6209,1707,3624,8223,5886,10527,959,9093,2240,2413,5903,6914,2324,3052,1205,5524,1452,1665,4660,6112,6210,3208,7513,7967,4885,2672,2395,2032,2164,12613,10170,3602,1191,2357,5744,2419,7117,9040,5679,8986,2524,1315,4589,3175,1921,5641,6416,6955,5149,5345,2154,18397,7515,9962,4209,1908,6783,714,1483,5224,8959,6307,2440,1227,4706,688,3735,1408,2937,10312,2628,12346,4720,2391,2167,3648,1323,3181,11057,3414,10427,3485,5999,2761,5871,1167,7807,2664,8324,2529,184,2411,1614,1118,2890,2494,17542,1471,10380,1271,2878,5715,9493,3502,3804,2721,1937,2522,6713,2759,1148,6653,1977,7154,4190,9129,7262,5157,2144,8683,3071,4755,1163,3016,278,1501,4487,6897,2108,1696,3257,6729,7406,5509,4064,2245,2245,2124,1961,1923,7679,4510,7643,7418,4963,5080,38898,799,1633,5206,2322,6547,1895,2909,6303,7984,9553,8014,8431,3880,4796,3106,6603,5953,6227,4341,873,568,2631,9838,3749,1411,9394,985,8322,7508,8148,8283,25790,6013,5287,8324,63384,7503,8256,4757,2230,28990,6658,5708,582,3624,5244,3003,1442,2561,2748,7553,7913,5663,3618,2434,1977,6684,9063,6349,3933,3926,7771,6273,3526,5523,2334,1722,1259,13016,4893,7923,7597,829,2641,9402,9303,7498,1429,5871,4235,4986,7859,12690,5416,1425,5846,790,3402,1930,6030,3050,7157,5843,951,1650,6089,2282,6749,2173,8900,2735,15885,8488,2682,2753,8574,6111,4296,4501,6283,4556,6310,6268,7943,8190,4764,619,8993,1157,8562,9975,2993,14382,12122,4337,2928,8596,973,1759,1822,2027,6927,5633,3469,834,3978,1013,2710,7030,2715,4729,6924,10207,10064,8706,7630,8911,9422,2082,1352,9502,5145,4709,4697,5188,2959,3336,2235,4110,9120,6961,1336,3379,4534,1406,7874,7141,7274,1378,848,6306,6538,6035,1402,5723,4206,3115,1178,7284,6491,8284,5779,13477,2274,3403,6372,6707,7318,3332,7746,3388,7504,4123,3342,2938,4964,7828,10445,2258,2518,2683,3029,2322,5704,7299,808,852,1808,4820,12628,7744,2422,5845,2377,3669,3208,3770,2325,6234,636,2141,1309,5999,4853,4067,4045,2109,6453,1037,5934,4188,4187,1671,4482,6166,5542,4527,7367,4408,8494,4167,1856,5424,2016,6532,7282,4475,7193,1019,6156,3539,3474,3141,4830,1699,5345,3981,7195,7564,6231,7366,2121,3014,7736,7511,8353,6632,4768,8861,5535,1599,10661,6501,5720,7406,2501,8039,3450,4206,5849,1632,2392,5188,1792,1537,7507,23262,5067,8550,6512,7004,3728,1568,10997,2130,9430,2334,8839,7265,850,1624,1325,2947,8318,1851,7082,2927,1107,5380,21863,4465,2905,6019,3377,5161,2122,6384,5622,8890,5042,1305,3139,51696,8611,8212,1853,4035,5219,4273,1822,9690,1445,8108,8319,7332,6163,5343,981,2243,6573,1880,6691,5059,4655,9240,7195,2717,4562,1572,7501,11229,7594,6743,7139,3732,450,8261,4056,6598,27119,6989,4802,2641,5314,1324,1869,6771,5760,2210,2388,6970,2688,6519,5969,7490,5339,4293,7826,6288,6582,7955,3206,4238,8394,3174,5096,9113,9034,4271,2123,907,3292,3724,4920,3616,5185,5329,10228,9291,3694,1973,7263,7064,4915,5656,2978,6127,8801,3735,5254,3640,1152,5048,3927,2124,3339,1710,8294,1476,9245,5806,2307,1352,3234,3198,5953,12943,2830,2097,6346,6515,3282,2694,2584,1861,1205,1276,8574,4844,2306,4008,7771,1991,1823,5958,11085,1772,7029,5218,1086,1415,1419,4180,8013,7060,3887,3770,1253,1710,7514,5465,4838,2493,4059,9283,644,5173,7636,2163,4406,6678,4651,7153,2553,2106,4011,1037,5995,3751,1203,2618,3715,1725,9476,2381,11633,2157,5191,1555,2265,6141,1938,7249,2451,6150,6007,8742,7519,11240,4540,4298,8703,4938,33417,7468,4319,3120,6587,1744,3350,7217,4313,1323,13642,9329,4916,4997,1511,1544,2519,4680,5152,3990,4121,7837,6774,4251,3957,6649,6924,3452,12043,2541,5456,7431,1486,3981,8273,2785,5343,633,6885,3807,1587,937,5568,6563,4923,7121,12535,2467,2015,7476,6605,5211,3511,20178,6483,2568,2008,8450,14060,4302,5089,7050,6799,6711,3955,7888,3561,2935,6160,8634,7706,2536,16381,3554,1685,1655,5478,8580,6079,3514,9504,3345,1629,8304,873,2849,6520,3122,5548,3236,2886,8570,5700,1558,2067,1520,26306,5346,3524,5306,5547,2427,5231,3522,1522,5712,3424,6992,6672,5144,5616,11669,2016,9126,4376,4614,3027,6547,3168,5006,3872,5905,7688,7203,859,4596,9886,17916,2587,1871,6886,2670,300,611,4460,1557,5980,2520,9698,3507,5777,3446,9247,5509,3624,4960,7973,4738,6094,7497,4397,1896,8823,6831,6922,8294,7522,203,6667,6627,6935,5804,1958,4445,1077,7659,3381,2626,2725,5191,2138,2078,806,4848,2690,1449,12741,8597,2131,12317,13121,2099,1484,1927,8125,916,6260,6622,7045,1803,8659,3296,1124,2219,5493,2226,1585,5184,963,818,5611,5156,5524,7107,9812,5192,2524,23424,998,4519,1692,7862,8321,1877,5378,1986,5338,7641,1171,6188,1973,4812,6395,3486,15941,8382,1371,7495,7780,1808,698,9233,1896,2843,7613,7223,6339,2348,3463,4312,5041,3196,2181,7490,2690,3987,5304,9013,6015,7411,5230,5685,7571,2228,7124,27958,31451,1923,2991,7972,4294,1811,4936,3986,4455,7766,3090,9610,113,6641,4140,4524,7695,3878,6077,7906,1350,6330,3025,2324,4087,1617,7400,4397,4592,6504,3104,6655,5422,1203,6783,9440,4153,5571,4784,2920,1753,764,1294,2412,6670,2691,2322,6864,4896,1529,1694,3964,5430,6609,9505,5390,10541,3647,11061,3374,1949,2393,5363,2139,4132,2198,4372,6833,9390,2308,4388,6506,3080,5366,3655,1915,7071,4070,1046,2530,8436,7487,5947,733,7025,4870,2658,1290,6037,2592,238,1708,2562,3259,7542,4149,35385,2838,6360,3673,4948,14018,5410,5796,4485,5478,2033,3784,4950,8211,2799,7784,7968,2921,5202,3891,4844,3714,7971,2395,7596,1617,5299,3049,3521,8061,5846,5842,2798,6835,4835,1082,8245,7612,6075,8290,8376,2662,1777,4268,3018,7570,1464,1790,10903,7033,5596,9036,7617,3130,8283,7833,3458,4998,2406,7315,1332,7619,5660,3504,2606,7020,1535,694,2426,2363,1299,684,7235,8646,6609,7955,3102,1490,6755,1272,4020,1948,2497,6538,9042,6509,1712,9789,9611,3088,12520,6909,2542,6334,4414,14954,6618,11962,2991,6370,3505,5339,8261,1213,2908,9495,2670,5271,6329,7984,3164,4043,3952,3652,5258,3464,8138,2713,5058,8060,8533,7223,2338,4632,8079,6653,6700,6421,4207,6560,9126,15504,6553,4148,3310,6426,2200,9034,1968,5136,9044,4154,5312,4346,2866,7471,1071,10860,9198,2563,6067,5946,1542,4423,3612,4937,1898,8891,6008,3185,3406,9434,3374,134,5846,5788,2671,2036,8360,7995,2199,3137,8116,9793,3966,1565,18952,5695,5112,6104,3295,3049,6058,5345,3606,3687,1685,7233,11091,3952,3063,1595,5104,8508,4757,8038,3076,5630,6977,5088,4827,6862,5288,4053,9366,5010,2350,3388,5277,10908,5117,8306,3933,3221,2732,2526,7619,4675,1229,742,3069,7739,4327,8355,9630,3666,6466,5078,1115,3941,4575,4952,2294,1911,2225,2846,7204,599,929,26860,6204,2613,2360,6086,25458,85948,6305,6513,2359,3685,3760,3400,1518,6152,3249,2555,4792,3818,4828,7470,20388,8926,717,2928,6511,2302,8395,7141,11873,2330,7303,2102,4828,7562,8069,8399,1895,12065,1839,8063,147,2007,5092,5659,1848,1706,3044,7318,7215,5727,3441,27251,5811,8937,840,3124,3644,4677,1050,1489,2719,6827,3441,5998,4656,7904,8170,5253,3219,2016,1106,10509,6781,8104,7776,7316,1903,2471,3965,14130,6474,5548,3861,6513,11265,8562,2021,3251,1027,6558,780,925,7028,3138,969,3039,4085,4335,1734,3750,4031,2002,6144,3831,7832,6300,2556,6209,7819,5375,12344,4516,1502,1549,7976,4893,7522,6800,1304,4437,11964,5714,10498,4152,2780,16520,2788,2249,11021,1985,1234,5739,18049,6299,772,4635,10873,2430,6531,1909,6994,3579,4733,10072,3449,4671,779,6668,6535,2799,1733,5401,2522,2536,3984,2037,2529,1911,1273,5893,6594,1271,6332,2188,5133,6934,273,4307,2548,6994,6179,7225,2579,9467,3810,3751,2109,9558,2616,6751,1679,5850,4012,9741,4764,4126,6258,3433,4398,5606,6711,2929,7170,1021,1892,3987,4514,3932,3851,10080,3692,4453,7857,2604,4303,4420,8260,982,4423,2579,5103,1182,6431,3238,1381,2796,6734,2013,8590,4282,1065,2227,3318,2259,1338,6378,5130,1561,6547,1830,7939,5143,7554,5110,1742,3328,1814,7066,8398,7873,7567,3497,711,9191,1608,2328,2269,2507,6467,18049,2195,5925,7483,6262,2422,8581,1352,5575,4092,4959,4476,4611,4490,4576,3540,3823,808,4459,5566,1050,3045,6750,4803,5853,5168,5030,7537,2041,961,2942,5397,5711,1272,1895,5670,8991,837,7446,6295,2864,14815,7050,7158,3057,1919,4096,5346,3253,1898,5585,2742,9865,5710,2159,7479,2610,4863,1377,1562,8196,717,1739,8174,810,1364,3044,4177,6993,1906,1375,2359,2669,7580,1466,7257,1847,7100,7720,6097,7722,2070,9491,5040,3808,3274,1529,2243,4704,1595,2822,6417,4802,7779,2727,8280,1871,19207,13492,4063,4351,6528,2615,3446,6269,7372,7041,2882,2903,2600,8284,2330,2107,5704,6484,4872,8191,9644,2447,7088,6409,1699,3490,2219,781,3639,3766,11387,2829,1601,25670,7866,3107,5264,1994,10632,1548,2396,3515,2761,3463,5317,3828,7526,4360,5553,8099,6002,3860,12037,4521,2019,1956,7146,2163,8320,9581,2569,1872,5948,8682,835,10394,9668,29263,1689,3724,3947,916,7118,4910,9458,1396,3373,4396,3812,4700,1824,2585,12370,3481,8559,7527,5170,5230,2237,15326,5477,1397,1553,7745,2638,2008,698,1901,3125,2887,1319,6831,5870,5387,4848,5317,7217,3598,5325,633,5663,4335,1174,8329,3141,4386,5682,1499,1581,2126,1407,2747,10951,3269,1935,5188,3731,7703,2297,11366,6766,2939,5297,3178,666,2711,7626,7218,7030,4108,2332,7256,8408,1547,8252,8474,1809,3503,8179,6857,991,12104,35183,8638,4400,2280,3559,5729,5970,4894,2293,3112,6108,6448,2098,8598,3372,5371,8281,3985,2505,5123,4117,6260,4215,4594,3899,7379,13800,1439,3301,5212,2127,5943,13476,2271,9309,8849,12841,5138,10820,3176,4129,5458,2632,7302,5374,7389,905,218,233,6492,2458,2449,852,5395,5445,2996,7619,2462,1257,2073,1537,7478,6851,3181,7052,2110,7428,5657,3610,5983,2220,7322,2717,7037,7468,4068,2069,3689,7015,7909,5168,6330,8116,1181,5919,3547,6093,1584,5948,7343,3048,3491,5126,4538,1370,5094,8508,7201,1410,10045,1825,3799,2510,6919,5252,1046,1336,10228,4057,2783,2856,1730,5223,7065,2635,2330,3501,5271,925,5591,6405,2521,1827,1670,6064,4488,8332,10456,5195,930,3615,3998,2900,1858,5476,3659,1394,1553,7551,3143,5709,6039,6412,8340,3900,1910,3243,3000,8190,6537,5972,2262,6739,1690,2091,10049,2618,1343,2878,1677,4116,6489,774,6842,1601,9366,2625,6302,5169,6335,10264,792,3185,882,7679,1952,3690,2874,4721,3263,11586,7744,1019,9055,4243,3307,1440,6047,4565,4226,4614,9099,8010,7331,9012,5666,4689,1160,4263,1138,6442,3385,7231,7321,3183,3220,2427,2478,7158,1874,1993,904,5908,11557,3389,4115,7850,1451,6621,1894,4257,8847,5254,3970,1176,1818,2656,1419,4601,5846,11033,4435,6823,6360,3246,8143,815,197,4120,5073,2296,2042,6443,2574,1840,4512,2338,984,1280,2101,2324,6655,1735,4222,1797,3865,7961,2632,1691,10257,1218,6415,2565,1364,4783,1824,6932,11303,6872,1977,7913,6147,7187,3862,7381,680,6203,1624,2449,3831,500,2944,2760,9470,7210,1987,3536,959,5193,4042,11764,7510,6539,2338,7878,8291,1899,6792,1345,14271,3053,2340,7239,2467,6903,2716,2735,2216,7683,1058,769,7279,3059,1311,875,9111,1847,6725,1784,5308,2895,2092,2386,22406,9076,9000,11827,7536,4946,5362,839,5653,4842,6953,7327,2881,5385,8060,2753,4691,2409,6244,8405,2464,4807,4689,5639,5881,3647,8901,4344,6334,3049,1834,3271,7650,1999,7506,10236,4742,2703,7521,6335,4783,9274,4286,4087,1432,5612,888,9613,7163,2183,5003,6449,2866,3654,3750,1363,6089,5113,3646,490,4865,6662,5304,9132,11234,3544,3238,2147,3852,7964,801,7137,4055,2965,6525,6126,7644,4685,6900,11437,4155,1922,1900,10501,2723,3274,8362,5297,7622,5956,3121,1173,3164,1675,4502,5369,8411,3294,5964,1694,7109,2437,3107,2837,7290,3691,7632,7314,2959,4178,2060,4354,5449,5648,6553,10999,2919,8134,12964,2723,2884,3507,6695,4910,3702,1811,3495,4699,539,2064,8021,3161,854,4234,1496,14353,13929,2543,1578,7143,690,1771,3907,8478,7093,6548,2321,6079,11249,5134,1932,563,1916,3058,6787,1968,1517,5525,3117,3125,3741,8460,14281,2941,6547,1308,7595,1925,4737,977,6751,11238,6776,682,3080,3849,8589,227,3753,2138,6437,3882,5594,6906,6258,3762,3515,808,1871,3503,1666,755,547,2003,1506,4643,4879,1141,2195,1947,6055,1891,4157,9121,2045,5257,1098,3235,7849,3270,1041,30805,3177,1609,1973,4035,7886,3949,1821,25735,1551,1832,4343,5038,2459,1929,2446,6766,5333,2396,4333,5824,3154,8805,5377,3354,3903,5237,6892,2510,6042,10972,5616,7883,10591,4413,9381,6411,804,699,1274,2696,5575,9593,3832,5018,2066,32168,5398,1982,2103,2479,3650,5700,5919,2550,3309,421,1984,1001,4962,5425,9181,2695,9912,5987,3116,4382,721,2054,3603,1106,2357,7138,9135,2305,6267,2053,2735,2199,2960,7251,6444,3769,11218,3961,20414,2359,4440,2175,2152,3558,1342,7281,2554,7567,1042,20780,5095,1851,5314,3626,5481,1563,6960,6926,6998,6569,957,461,3096,4859,2322,4400,4590,3224,2847,2696,2980,25828,7154,9102,3930,3263,7996,8365,7366,6674,1860,8594,2780,11658,6850,9042,2736,3941,507,6695,4222,25783,7792,3510,9193,12178,3434,14418,1326,6837,643,4491,5586,4315,7133,1339,2617,7577,7341,8035,1815,5938,8978,7711,8517,1177,2581,1988,2779,3763,2136,3850,6640,5081,2849,7983,5996,2927,1176,2195,6398,5554,8684,1626,2212,4770,2583,7951,7035,5564,7960,7406,1588,2763,11342,1990,46240,2078,6852,4606,7810,4468,5443,4323,2169,7215,5757,2619,8130,1041,5198,5442,8543,1813,1959,4986,3533,6707,4106,7706,2226,2589,4180,5624,1092,2208,4477,9007,3146,5869,4465,4044,3702,6985,2409,670,1407,1888,2436,5004,7446,12665,2831,4674,4553,3076,24181,1737,1969,4358,7434,7653,3408,6511,10462,9472,6992,4154,3077,7196,6992,2307,2240,7176,2238,7465,3700,7776,5946,1964,2325,7217,4367,1780,2164,2631,1872,753,911,2734,2685,6915,6560,5839,7103,2627,6190,4096,3025,4172,6331,8803,2219,7631,2973,1525,982,6323,7214,2878,7924,4478,7159,5275,1372,4268,8766,558,4747,5141,8701,3303,4844,3537,820,3747,2313,6166,4823,5102,5631,6485,8541,2852,15037,3229,4754,8184,3134,2614,3219,1887,1277,921,5813,10773,3567,6533,4857,3216,1843,7792,2129,11865,4942,7720,9643,5944,9097,2625,2239,2069,3672,7445,5148,2674,4189,9230,6896,517,6163,1188,5496,6646,11351,3513,1792,8189,6712,6134,754,1404,5226,2617,1899,6262,6177,4765,7265,2128,4390,8002,8361,1909,4046,8069,1942,4300,4231,4254,6466,2794,11811,685,15104,1663,4666,7257,4876,2833,6280,4998,6538,5943,5097,7912,565,4757,10444,4878,3765,2421,1790,4739,3461,9907,6964,21006,6254,6118,3697,786,12119,7692,5570,3872,9095,7622,2020,9765,2584,2345,2521,4697,8502,1136,1111,718,1368,5452,7959,7401,5962,1482,6908,7313,7514,1305,4704,2132,1054,2639,2774,2828,20693,2335,8437,5032,2043,3507,3141,11701,11267,2087,6795,7464,2970,3505,4643,7773,8267,5674,9208,2154,7152,6002,5389,714,1011,4583,7873,3284,1641,3272,2664,756,2067,1917,2741,15482,6720,195,12552,7552,2553,260,3590,5186,4490,5842,4962,8648,7064,4852,5305,4486,5653,6400,7911,8025,3811,8945,4771,2556,3107,5506,8180,6521,301,2087,3494,7586,3380,8993,10287,5977,9933,7828,7265,8599,7083,4784,8419,1802,9383,2324,3931,7715,2597,5851,4396,7611,1312,4419,6241,2272,2341,5259,1158,6994,2903,8900,2337,534,7525,1832,6875,8778,1800,6132,4900,1412,3073,14309,5871,2162,691,5450,2437,7304,6064,1826,2250,5157,5313,7922,6472,22132,8819,3326,3441,6763,4573,2493,547,2273,8051,4158,5305,1299,2866,5113,1007,5350,3086,6710,1835,4929,3942,4675,11732,2105,9846,1168,5494,1658,10019,276,33463,1528,3524,3746,1160,2891,4064,4857,1572,2480,10594,11065,8315,7104,918,7552,3129,6255,1329,6667,5402,2099,1660,10249,1284,7048,5840,1053,10389,7571,1935,6386,3350,2782,1250,691,4162,6917,3584,3459,5417,10862,4171,2739,5068,5838,9748,7062,7248,6316,6646,9364,7563,5431,4732,3071,6873,7474,5214,8919,5659,7275,4721,2082,7624,8065,2344,5264,943,1463,897,6473,8713,7838,762,3228,1035,6380,32090,7258,9879,6323,6278,5998,3374,6296,7110,860,939,2705,3462,1870,1361,5424,2828,4694,7745,1486,2280,2642,2853,4762,450,4157,6954,4041,540,7375,1530,5420,4303,4538,771,5879,6002,8400,10607,1368,7483,4845,7224,7018,7229,3155,5716,2540,6903,3007,4064,815,1237,6410,5795,6926,3912,5095,564,2927,2349,6772,7816,3657,7129,6662,5205,2088,8459,2310,6690,1800,11229,7527,8744,4077,1048,1998,7195,5168,10385,1544,5312,3151,3729,7348,2447,11634,11159,6170,2700,6151,6453,7084,3935,2912,4513,3169,2007,4601,1075,7655,1661,813,4631,7024,8680,9543,9954,1729,4076,7111,7039,7510,4132,198,26823,46162,841,603,8784,5822,5847,25618,4977,2265,6982,6464,8309,1276,7665,8402,7770,5244,7124,5259,1807,4667,2333,2705,1778,7093,2716,2691,5438,1395,10002,11276,7461,12586,6281,3317,1391,5610,10484,7088,4045,5377,1555,705,2280,9803,2262,6659,8724,1099,4905,4943,3860,1890,2960,4782,3685,4540,7185,4363,8938,3645,4933,2589,4605,1211,3759,7573,2519,1665,2239,6213,9082,3851,2085,4672,7639,7015,6256,7933,1583,1541,2398,3077,6301,8321,5974,955,4299,2889,8095,7411,8810,7232,3952,1016,1015,10105,1645,2927,6194,7761,1223,7512,4737,6014,8210,7805,3022,1339,2111,1744,7627,7775,3721,2451,6876,3718,5153,7271,2277,2645,3374,6488,2176,5078,5899,3164,6973,1090,4624,12538,14788,6592,2624,4548,5213,4379,2023,1390,1565,3576,7601,10638,2601,2339,9852,7394,2675,4205,6763,5305,9353,3534,5472,13183,7618,5848,5453,3060,4683,14731,6831,1419,10662,2848,5845,6839,1467,3937,5624,5993,1344,6089,5888,1688,3611,5284,9598,7951,5446,7223,11299,4895,9777,2457,7724,4519,5837,4645,6745,7433,1734,5874,3773,8866,4079,7702,3015,5452,1788,4375,3896,1362,7683,7288,5090,7375,3352,8348,2243,1328,1663,7906,6035,2618,3052,2941,4464,2689,18941,1993,2371,5483,2999,2617,7780,2691,6644,1843,5626,4339,5594,816,4975,7372,8416,823,2532,2138,2441,1179,2750,6977,7786,6258,7608,3790,8759,8824,10129,6236,1264,2362,5166,5809,2593,1391,5390,6911,3191,4735,5768,4424,10186,3424,2348,3859,3788,6930,1885,2143,1333,6535,5789,10866,7097,754,6057,5333,6610,6030,7352,3902,2872,1103,11181,5404,7910,4616,911,2555,1271,3875,2996,7837,7156,2676,1071,1429,8339,1076,5472,2663,8059,7939,5236,2524,8128,5611,9168,5710,4884,1904,3576,4547,2926,9376,3843,7684,6892,1209,3004,2151,3761,3311,3930,7752,1310,11465,5797,7653,8867,6030,10900,1439,2686,7700,2075,8424,7926,4612,8932,2483,7592,680,3253,6108,7157,7720,4117,3362,2006,15740,35384,1027,8454,3157,1923,7603,4742,4075,7286,4240,1793,7463,2138,9392,4165,3544,6684,3469,5686,2750,6311,3787,1916,3356,4937,4754,2777,5930,6528,7252,5545,5749,777,882,797,6344,2062,2928,2560,1474,8354,936,880,10325,11331,7028,20611,737,7416,895,6264,5646,2145,3051,7492,5062,2953,3909,5957,6957,2437,7492,8396,7969,10372,3704,7561,4042,1741,7102,1702,9438,9533,5434,4804,8984,3561,4165,4942,7467,2158,4495,6056,1593,5488,8087,5346,3144,1675,2087,2074,5576,2804,6047,7080,8050,900,8685,7192,6332,6327,3529,7147,4499,809,1768,5750,5193,2652,4109,2694,6711,2746,6207,5127,8161,2158,6374,1629,6393,3048,1255,1830,4064,7390,5474,7322,2149,9663,1742,6222,1003,16522,16643,4893,3588,4113,440,8784,4708,7006,1161,3157,3430,519,4622,1948,2173,7783,6206,2997,4253,3868,1758,5670,1490,5059,7383,5056,4384,3413,1168,4276,1986,4138,7891,3873,9824,8390,3561,4993,8207,3968,2229,342,7270,808,4174,4856,5778,5883,2312,5510,3073,4650,7125,8354,16506,7696,2178,7047,7667,9897,4472,3042,2082,2143,1970,1741,1179,8250,1568,1396,2435,3080,2864,10917,7292,1148,1217,6428,7960,510,6572,2291,5769,5921,5205,6139,2026,8224,8120,5094,1853,3476,6160,2407,8348,7794,6875,7391,3069,5173,4167,5436,4524,4728,5386,7559,20499,4277,1759,2519,9251,13,3780,2099,3305,894,1484,3373,4161,6397,2304,12779,5626,3507,7095,13531,1185,7417,5551,2734,1562,1784,7665,4897,6104,1217,9075,5935,733,4515,5691,8845,4177,2697,5544,1990,20393,2553,15266,3454,777,3969,8605,6296,3779,7038,5153,3440,6072,7674,5952,1385,5288,3644,2948,3375,2569,8799,3520,5669,7221,10195,1266,5561,5254,489,6705,4377,7005,5138,7286,7909,23162,7058,6641,2733,690,6730,3015,8344,699,3015,5582,1382,1394,6394,2773,3752,1653,5137,1893,4074,2484,3654,1808,1621,6212,5902,4441,1517,1236,7646,1679,1542,3059,7053,1054,2366,3927,616,10627,7629,3930,8899,6490,3466,1074,5022,4980,8690,3226,7203,11958,2529,1841,8845,9158,3334,3738,7921,7086,8496,2172,4730,653,6792,7952,5743,5407,2480,6353,7049,18516,13981,2159,937,5010,2629,6337,2722,7209,2251,2985,4399,14761,1482,6136,2541,5626,5567,11698,7431,9417,5303,6394,1455,3352,1819,6677,3086,1374,6560,3216,2830,6941,4635,3861,3818,2084,5214,3179,3233,7815,6997,5395,6880,8194,8295,7405,2281,7576,5614,16361,1836,5359,6934,6610,5682,8249,1342,8058,6797,885,2785,6808,6703,3551,7420,4505,912,687,8126,2590,2766,5062,2753,4499,5134,5831,2207,6321,5607,6920,7533,10263,8568,7263,23976,6624,4832,5727,1172,2135,9447,1431,7761,2059,7644,2705,1616,4625,3102,15464,6214,6024,1666,5045,690,4764,7252,1702,8734,6895,7723,5092,2227,3210,7814,7592,6579,4366,2342,2539,2687,2193,1390,5843,6853,3235,17632,2102,3608,6483,2673,5671,1064,934,1457,2125,425,2405,2565,9003,3379,3196,9308,18008,251,5921,6255,7202,435,6580,5709,5295,4677,5178,1989,15359,3902,3141,3104,28237,1593,5959,6672,2724,26556,8972,4188,36481,1790,6082,10596,3332,819,1468,1858,6389,2225,9132,2457,2113,4013,3455,1080,861,1851,4078,7948,2457,8227,1869,6626,4161,8435,5136,5660,7933,8968,3261,3225,10959,1113,3803,13834,976,820,1456,10149,4344,1268,636,2581,4920,6732,6218,809,7431,4635,9660,9406,1578,2421,1831,8590,2751,2926,5718,9284,2681,2769,8020,5461,906,7178,6978,2312,35824,5696,2116,12138,7997,2362,7537,5280,7697,6122,2615,3286,5171,1142,3349,4937,3241,3789,2529,5942,4900,1976,6043,3714,15028,2814,5332,4148,2364,7053,2819,2740,5404,10683,16554,7123,8705,3413,1688,2206,7713,6122,10184,2889,4737,10598,4032,4040,8413,8519,6534,3220,1264,5226,5656,6194,8467,7296,2864,8023,2316,6775,6850,1572,1199,5709,33131,1467,6841,1401,9094,3655,1474,8194,2690,1089,2997,11848,2733,2738,5593,2165,3197,2538,4790,2085,223,1777,7173,3303,8885,2911,8143,686,4539,6551,2571,1427,2679,4185,5420,2521,3279,179,3261,781,5419,3054,5139,9228,2088,10041,6446,5294,12705,1232,4392,5897,1937,740,919,3781,8948,6694,9628,10923,2126,6481,1565,15964,1544,3391,2550,8542,10448,6139,7964,5842,2275,396,1334,4049,3531,9269,8572,5284,20169,8438,1632,4790,8102,6695,999,4611,8266,5849,2500,10035,3941,1294,8389,950,5947,7567,2635,10441,3187,2009,1195,2954,3325,5222,3894,7029,2224,2819,3656,11096,6804,9606,5162,2457,1377,6299,723,2710,2239,4796,4961,8982,4059,2593,10796,7339,7787,4804,4844,4290,4435,2924,2358,9334,5375,4280,9792,2040,10117,5562,7640,8616,7428,1925,1210,2076,7103,4645,2669,2507,3003,2329,1578,7397,2078,3310,9911,15432,1884,870,12499,4369,6186,7091,1991,6589,4712,1519,2578,2644,4357,2877,2137,5200,6447,5958,2313,2145,4760,2321,1833,4780,6251,8187,9579,2899,3989,727,6654,3126,4639,6903,3247,1804,4499,505,7090,5136,4380,6123,1702,8655,4201,3598,3651,5659,3196,4726,9488,4143,6151,3467,7133,7142,2627,7555,2426,9224,1997,6005,4922,5312,9137,1210,4293,1700,2804,4831,31757,5122,6580,5038,1371,9404,4022,1955,9690,17095,4165,4209,2442,4111,1420,3996,4946,2733,2658,5479,18987,3328,3027,7045,8130,1653,1644,3329,7020,2372,1574,1068,3293,4255,1027,10083,7438,2216,2447,6339,5008,3526,5233,5573,3755,6450,3243,214,3773,2719,1365,6215,3148,3445,7581,10899,5785,8461,1535,5371,3805,3696,4965,4743,3103,704,4054,5440,1682,3463,4098,7203,7702,5917,3715,8140,4998,7827,2853,1072,16369,2278,7619,3222,8987,8422,2457,7717,911,3043,6675,1157,1712,496,255,3606,9554,5276,6234,4333,9352,9968,2915,2113,7039,7335,7771,7047,2154,8231,4758,2162,3366,3020,10089,788,6031,7113,5309,1942,758,6628,3118,7887,8203,2052,4911,4477,9232,1507,8472,4356,1367,3292,6452,8170,2160,14257,4709,6380,2255,440,10052,2674,2826,9552,5569,6470,5053,3879,653,5122,7465,1593,7893,9439,9415,1529,6640,5734,2645,3599,10415,2780,4860,5472,4599,6942,2954,4280,4071,4600,5327,3971,3411,7331,6878,5330,5849,2795,3522,7632,601,1431,10210,2817,2927,7521,10653,7642,5611,8753,1147,8487,5428,8382,3546,8129,2878,7272,2896,6718,3717,3148,2300,7958,5054,4546,8363,2907,10155,2994,5095,1091,27084,2942,1039,1756,431,7699,12249,4847,539,11630,2992,32210,4213,3449,8013,8134,3038,8070,3610,5151,3822,1544,4708,10558,9368,3134,2383,1796,3379,4762,5390,1572,5796,9840,5129,4883,7298,1232,4141,5466,8736,7218,8007,5790,4525,7892,46972,5393,3919,4911,2843,1684,2136,6555,2926,7316,6095,2061,1634,6512,3150,6513,6137,1051,6995,8892,2719,3959,7243,3490,4606,3567,4669,15518,7591,625,2064,8529,2046,1840,2672,1078,12188,9146,2047,7735,7986,1969,5577,4987,14527,2925,6934,3869,915,9412,2982,3639,8606,2105,829,8102,6017,5338,8531,6374,8899,1283,2082,5079,4877,947,13828,6864,4510,5268,9469,4411,3966,764,4726,871,3318,1269,6409,4098,5959,3917,5469,9210,2172,6043,9112,2069,6977,9760,4631,7460,5177,7528,715,9402,1796,2288,10247,276,10046,7858,6758,4582,916,4505,10552,2871,2427,5886,6093,4779,1729,1071,4395,2975,1750,8254,3774,7860,3979,3709,1923,7200,1423,1552,2881,1468,18178,8751,9106,1068,4747,5065,803,2157,3223,6132,2008,4123,4122,3348,4388,7027,5681,1795,2307,3503,3634,2664,1814,6059,4799],\"y0\":\" \",\"yaxis\":\"y\",\"type\":\"violin\"}],                        {\"template\":{\"data\":{\"barpolar\":[{\"marker\":{\"line\":{\"color\":\"white\",\"width\":0.5},\"pattern\":{\"fillmode\":\"overlay\",\"size\":10,\"solidity\":0.2}},\"type\":\"barpolar\"}],\"bar\":[{\"error_x\":{\"color\":\"rgb(36,36,36)\"},\"error_y\":{\"color\":\"rgb(36,36,36)\"},\"marker\":{\"line\":{\"color\":\"white\",\"width\":0.5},\"pattern\":{\"fillmode\":\"overlay\",\"size\":10,\"solidity\":0.2}},\"type\":\"bar\"}],\"carpet\":[{\"aaxis\":{\"endlinecolor\":\"rgb(36,36,36)\",\"gridcolor\":\"white\",\"linecolor\":\"white\",\"minorgridcolor\":\"white\",\"startlinecolor\":\"rgb(36,36,36)\"},\"baxis\":{\"endlinecolor\":\"rgb(36,36,36)\",\"gridcolor\":\"white\",\"linecolor\":\"white\",\"minorgridcolor\":\"white\",\"startlinecolor\":\"rgb(36,36,36)\"},\"type\":\"carpet\"}],\"choropleth\":[{\"colorbar\":{\"outlinewidth\":1,\"tickcolor\":\"rgb(36,36,36)\",\"ticks\":\"outside\"},\"type\":\"choropleth\"}],\"contourcarpet\":[{\"colorbar\":{\"outlinewidth\":1,\"tickcolor\":\"rgb(36,36,36)\",\"ticks\":\"outside\"},\"type\":\"contourcarpet\"}],\"contour\":[{\"colorbar\":{\"outlinewidth\":1,\"tickcolor\":\"rgb(36,36,36)\",\"ticks\":\"outside\"},\"colorscale\":[[0.0,\"#440154\"],[0.1111111111111111,\"#482878\"],[0.2222222222222222,\"#3e4989\"],[0.3333333333333333,\"#31688e\"],[0.4444444444444444,\"#26828e\"],[0.5555555555555556,\"#1f9e89\"],[0.6666666666666666,\"#35b779\"],[0.7777777777777778,\"#6ece58\"],[0.8888888888888888,\"#b5de2b\"],[1.0,\"#fde725\"]],\"type\":\"contour\"}],\"heatmapgl\":[{\"colorbar\":{\"outlinewidth\":1,\"tickcolor\":\"rgb(36,36,36)\",\"ticks\":\"outside\"},\"colorscale\":[[0.0,\"#440154\"],[0.1111111111111111,\"#482878\"],[0.2222222222222222,\"#3e4989\"],[0.3333333333333333,\"#31688e\"],[0.4444444444444444,\"#26828e\"],[0.5555555555555556,\"#1f9e89\"],[0.6666666666666666,\"#35b779\"],[0.7777777777777778,\"#6ece58\"],[0.8888888888888888,\"#b5de2b\"],[1.0,\"#fde725\"]],\"type\":\"heatmapgl\"}],\"heatmap\":[{\"colorbar\":{\"outlinewidth\":1,\"tickcolor\":\"rgb(36,36,36)\",\"ticks\":\"outside\"},\"colorscale\":[[0.0,\"#440154\"],[0.1111111111111111,\"#482878\"],[0.2222222222222222,\"#3e4989\"],[0.3333333333333333,\"#31688e\"],[0.4444444444444444,\"#26828e\"],[0.5555555555555556,\"#1f9e89\"],[0.6666666666666666,\"#35b779\"],[0.7777777777777778,\"#6ece58\"],[0.8888888888888888,\"#b5de2b\"],[1.0,\"#fde725\"]],\"type\":\"heatmap\"}],\"histogram2dcontour\":[{\"colorbar\":{\"outlinewidth\":1,\"tickcolor\":\"rgb(36,36,36)\",\"ticks\":\"outside\"},\"colorscale\":[[0.0,\"#440154\"],[0.1111111111111111,\"#482878\"],[0.2222222222222222,\"#3e4989\"],[0.3333333333333333,\"#31688e\"],[0.4444444444444444,\"#26828e\"],[0.5555555555555556,\"#1f9e89\"],[0.6666666666666666,\"#35b779\"],[0.7777777777777778,\"#6ece58\"],[0.8888888888888888,\"#b5de2b\"],[1.0,\"#fde725\"]],\"type\":\"histogram2dcontour\"}],\"histogram2d\":[{\"colorbar\":{\"outlinewidth\":1,\"tickcolor\":\"rgb(36,36,36)\",\"ticks\":\"outside\"},\"colorscale\":[[0.0,\"#440154\"],[0.1111111111111111,\"#482878\"],[0.2222222222222222,\"#3e4989\"],[0.3333333333333333,\"#31688e\"],[0.4444444444444444,\"#26828e\"],[0.5555555555555556,\"#1f9e89\"],[0.6666666666666666,\"#35b779\"],[0.7777777777777778,\"#6ece58\"],[0.8888888888888888,\"#b5de2b\"],[1.0,\"#fde725\"]],\"type\":\"histogram2d\"}],\"histogram\":[{\"marker\":{\"line\":{\"color\":\"white\",\"width\":0.6}},\"type\":\"histogram\"}],\"mesh3d\":[{\"colorbar\":{\"outlinewidth\":1,\"tickcolor\":\"rgb(36,36,36)\",\"ticks\":\"outside\"},\"type\":\"mesh3d\"}],\"parcoords\":[{\"line\":{\"colorbar\":{\"outlinewidth\":1,\"tickcolor\":\"rgb(36,36,36)\",\"ticks\":\"outside\"}},\"type\":\"parcoords\"}],\"pie\":[{\"automargin\":true,\"type\":\"pie\"}],\"scatter3d\":[{\"line\":{\"colorbar\":{\"outlinewidth\":1,\"tickcolor\":\"rgb(36,36,36)\",\"ticks\":\"outside\"}},\"marker\":{\"colorbar\":{\"outlinewidth\":1,\"tickcolor\":\"rgb(36,36,36)\",\"ticks\":\"outside\"}},\"type\":\"scatter3d\"}],\"scattercarpet\":[{\"marker\":{\"colorbar\":{\"outlinewidth\":1,\"tickcolor\":\"rgb(36,36,36)\",\"ticks\":\"outside\"}},\"type\":\"scattercarpet\"}],\"scattergeo\":[{\"marker\":{\"colorbar\":{\"outlinewidth\":1,\"tickcolor\":\"rgb(36,36,36)\",\"ticks\":\"outside\"}},\"type\":\"scattergeo\"}],\"scattergl\":[{\"marker\":{\"colorbar\":{\"outlinewidth\":1,\"tickcolor\":\"rgb(36,36,36)\",\"ticks\":\"outside\"}},\"type\":\"scattergl\"}],\"scattermapbox\":[{\"marker\":{\"colorbar\":{\"outlinewidth\":1,\"tickcolor\":\"rgb(36,36,36)\",\"ticks\":\"outside\"}},\"type\":\"scattermapbox\"}],\"scatterpolargl\":[{\"marker\":{\"colorbar\":{\"outlinewidth\":1,\"tickcolor\":\"rgb(36,36,36)\",\"ticks\":\"outside\"}},\"type\":\"scatterpolargl\"}],\"scatterpolar\":[{\"marker\":{\"colorbar\":{\"outlinewidth\":1,\"tickcolor\":\"rgb(36,36,36)\",\"ticks\":\"outside\"}},\"type\":\"scatterpolar\"}],\"scatter\":[{\"fillpattern\":{\"fillmode\":\"overlay\",\"size\":10,\"solidity\":0.2},\"type\":\"scatter\"}],\"scatterternary\":[{\"marker\":{\"colorbar\":{\"outlinewidth\":1,\"tickcolor\":\"rgb(36,36,36)\",\"ticks\":\"outside\"}},\"type\":\"scatterternary\"}],\"surface\":[{\"colorbar\":{\"outlinewidth\":1,\"tickcolor\":\"rgb(36,36,36)\",\"ticks\":\"outside\"},\"colorscale\":[[0.0,\"#440154\"],[0.1111111111111111,\"#482878\"],[0.2222222222222222,\"#3e4989\"],[0.3333333333333333,\"#31688e\"],[0.4444444444444444,\"#26828e\"],[0.5555555555555556,\"#1f9e89\"],[0.6666666666666666,\"#35b779\"],[0.7777777777777778,\"#6ece58\"],[0.8888888888888888,\"#b5de2b\"],[1.0,\"#fde725\"]],\"type\":\"surface\"}],\"table\":[{\"cells\":{\"fill\":{\"color\":\"rgb(237,237,237)\"},\"line\":{\"color\":\"white\"}},\"header\":{\"fill\":{\"color\":\"rgb(217,217,217)\"},\"line\":{\"color\":\"white\"}},\"type\":\"table\"}]},\"layout\":{\"annotationdefaults\":{\"arrowhead\":0,\"arrowwidth\":1},\"autotypenumbers\":\"strict\",\"coloraxis\":{\"colorbar\":{\"outlinewidth\":1,\"tickcolor\":\"rgb(36,36,36)\",\"ticks\":\"outside\"}},\"colorscale\":{\"diverging\":[[0.0,\"rgb(103,0,31)\"],[0.1,\"rgb(178,24,43)\"],[0.2,\"rgb(214,96,77)\"],[0.3,\"rgb(244,165,130)\"],[0.4,\"rgb(253,219,199)\"],[0.5,\"rgb(247,247,247)\"],[0.6,\"rgb(209,229,240)\"],[0.7,\"rgb(146,197,222)\"],[0.8,\"rgb(67,147,195)\"],[0.9,\"rgb(33,102,172)\"],[1.0,\"rgb(5,48,97)\"]],\"sequential\":[[0.0,\"#440154\"],[0.1111111111111111,\"#482878\"],[0.2222222222222222,\"#3e4989\"],[0.3333333333333333,\"#31688e\"],[0.4444444444444444,\"#26828e\"],[0.5555555555555556,\"#1f9e89\"],[0.6666666666666666,\"#35b779\"],[0.7777777777777778,\"#6ece58\"],[0.8888888888888888,\"#b5de2b\"],[1.0,\"#fde725\"]],\"sequentialminus\":[[0.0,\"#440154\"],[0.1111111111111111,\"#482878\"],[0.2222222222222222,\"#3e4989\"],[0.3333333333333333,\"#31688e\"],[0.4444444444444444,\"#26828e\"],[0.5555555555555556,\"#1f9e89\"],[0.6666666666666666,\"#35b779\"],[0.7777777777777778,\"#6ece58\"],[0.8888888888888888,\"#b5de2b\"],[1.0,\"#fde725\"]]},\"colorway\":[\"#1F77B4\",\"#FF7F0E\",\"#2CA02C\",\"#D62728\",\"#9467BD\",\"#8C564B\",\"#E377C2\",\"#7F7F7F\",\"#BCBD22\",\"#17BECF\"],\"font\":{\"color\":\"rgb(36,36,36)\"},\"geo\":{\"bgcolor\":\"white\",\"lakecolor\":\"white\",\"landcolor\":\"white\",\"showlakes\":true,\"showland\":true,\"subunitcolor\":\"white\"},\"hoverlabel\":{\"align\":\"left\"},\"hovermode\":\"closest\",\"mapbox\":{\"style\":\"light\"},\"paper_bgcolor\":\"white\",\"plot_bgcolor\":\"white\",\"polar\":{\"angularaxis\":{\"gridcolor\":\"rgb(232,232,232)\",\"linecolor\":\"rgb(36,36,36)\",\"showgrid\":false,\"showline\":true,\"ticks\":\"outside\"},\"bgcolor\":\"white\",\"radialaxis\":{\"gridcolor\":\"rgb(232,232,232)\",\"linecolor\":\"rgb(36,36,36)\",\"showgrid\":false,\"showline\":true,\"ticks\":\"outside\"}},\"scene\":{\"xaxis\":{\"backgroundcolor\":\"white\",\"gridcolor\":\"rgb(232,232,232)\",\"gridwidth\":2,\"linecolor\":\"rgb(36,36,36)\",\"showbackground\":true,\"showgrid\":false,\"showline\":true,\"ticks\":\"outside\",\"zeroline\":false,\"zerolinecolor\":\"rgb(36,36,36)\"},\"yaxis\":{\"backgroundcolor\":\"white\",\"gridcolor\":\"rgb(232,232,232)\",\"gridwidth\":2,\"linecolor\":\"rgb(36,36,36)\",\"showbackground\":true,\"showgrid\":false,\"showline\":true,\"ticks\":\"outside\",\"zeroline\":false,\"zerolinecolor\":\"rgb(36,36,36)\"},\"zaxis\":{\"backgroundcolor\":\"white\",\"gridcolor\":\"rgb(232,232,232)\",\"gridwidth\":2,\"linecolor\":\"rgb(36,36,36)\",\"showbackground\":true,\"showgrid\":false,\"showline\":true,\"ticks\":\"outside\",\"zeroline\":false,\"zerolinecolor\":\"rgb(36,36,36)\"}},\"shapedefaults\":{\"fillcolor\":\"black\",\"line\":{\"width\":0},\"opacity\":0.3},\"ternary\":{\"aaxis\":{\"gridcolor\":\"rgb(232,232,232)\",\"linecolor\":\"rgb(36,36,36)\",\"showgrid\":false,\"showline\":true,\"ticks\":\"outside\"},\"baxis\":{\"gridcolor\":\"rgb(232,232,232)\",\"linecolor\":\"rgb(36,36,36)\",\"showgrid\":false,\"showline\":true,\"ticks\":\"outside\"},\"bgcolor\":\"white\",\"caxis\":{\"gridcolor\":\"rgb(232,232,232)\",\"linecolor\":\"rgb(36,36,36)\",\"showgrid\":false,\"showline\":true,\"ticks\":\"outside\"}},\"title\":{\"x\":0.05},\"xaxis\":{\"automargin\":true,\"gridcolor\":\"rgb(232,232,232)\",\"linecolor\":\"rgb(36,36,36)\",\"showgrid\":false,\"showline\":true,\"ticks\":\"outside\",\"title\":{\"standoff\":15},\"zeroline\":false,\"zerolinecolor\":\"rgb(36,36,36)\"},\"yaxis\":{\"automargin\":true,\"gridcolor\":\"rgb(232,232,232)\",\"linecolor\":\"rgb(36,36,36)\",\"showgrid\":false,\"showline\":true,\"ticks\":\"outside\",\"title\":{\"standoff\":15},\"zeroline\":false,\"zerolinecolor\":\"rgb(36,36,36)\"}}},\"xaxis\":{\"anchor\":\"y\",\"domain\":[0.0,1.0]},\"yaxis\":{\"anchor\":\"x\",\"domain\":[0.0,1.0],\"title\":{\"text\":\"Text Length\"}},\"legend\":{\"title\":{\"text\":\"label\"},\"tracegroupgap\":0},\"title\":{\"text\":\"Text Length Distribution\"},\"violinmode\":\"group\"},                        {\"responsive\": true}                    ).then(function(){\n",
              "                            \n",
              "var gd = document.getElementById('e7d30d7d-cfe8-485a-92fc-cb11939f8820');\n",
              "var x = new MutationObserver(function (mutations, observer) {{\n",
              "        var display = window.getComputedStyle(gd).display;\n",
              "        if (!display || display === 'none') {{\n",
              "            console.log([gd, 'removed!']);\n",
              "            Plotly.purge(gd);\n",
              "            observer.disconnect();\n",
              "        }}\n",
              "}});\n",
              "\n",
              "// Listen for the removal of the full notebook cells\n",
              "var notebookContainer = gd.closest('#notebook-container');\n",
              "if (notebookContainer) {{\n",
              "    x.observe(notebookContainer, {childList: true});\n",
              "}}\n",
              "\n",
              "// Listen for the clearing of the current output cell\n",
              "var outputEl = gd.closest('.output');\n",
              "if (outputEl) {{\n",
              "    x.observe(outputEl, {childList: true});\n",
              "}}\n",
              "\n",
              "                        })                };                            </script>        </div>\n",
              "</body>\n",
              "</html>"
            ]
          },
          "metadata": {}
        }
      ]
    },
    {
      "cell_type": "code",
      "source": [
        "#Looking at the overall distribution of emotions\n",
        "label_distribution = df['label'].value_counts().reset_index()\n",
        "label_distribution.columns = ['label', 'count']\n",
        "\n",
        "# Plot the distribution\n",
        "fig = px.bar(label_distribution, x='label', y='count', title='Overall Distribution of Fake news')\n",
        "fig.show()"
      ],
      "metadata": {
        "id": "ZGu3utqFK_fD",
        "colab": {
          "base_uri": "https://localhost:8080/",
          "height": 542
        },
        "outputId": "70e60607-f647-4aed-da83-4ce7011ffeb0"
      },
      "execution_count": 12,
      "outputs": [
        {
          "output_type": "display_data",
          "data": {
            "text/html": [
              "<html>\n",
              "<head><meta charset=\"utf-8\" /></head>\n",
              "<body>\n",
              "    <div>            <script src=\"https://cdnjs.cloudflare.com/ajax/libs/mathjax/2.7.5/MathJax.js?config=TeX-AMS-MML_SVG\"></script><script type=\"text/javascript\">if (window.MathJax && window.MathJax.Hub && window.MathJax.Hub.Config) {window.MathJax.Hub.Config({SVG: {font: \"STIX-Web\"}});}</script>                <script type=\"text/javascript\">window.PlotlyConfig = {MathJaxConfig: 'local'};</script>\n",
              "        <script charset=\"utf-8\" src=\"https://cdn.plot.ly/plotly-2.24.1.min.js\"></script>                <div id=\"15cd204f-3796-48e5-be02-e7e5f525b7a3\" class=\"plotly-graph-div\" style=\"height:525px; width:100%;\"></div>            <script type=\"text/javascript\">                                    window.PLOTLYENV=window.PLOTLYENV || {};                                    if (document.getElementById(\"15cd204f-3796-48e5-be02-e7e5f525b7a3\")) {                    Plotly.newPlot(                        \"15cd204f-3796-48e5-be02-e7e5f525b7a3\",                        [{\"alignmentgroup\":\"True\",\"hovertemplate\":\"label=%{x}\\u003cbr\\u003ecount=%{y}\\u003cextra\\u003e\\u003c\\u002fextra\\u003e\",\"legendgroup\":\"\",\"marker\":{\"color\":\"#636efa\",\"pattern\":{\"shape\":\"\"}},\"name\":\"\",\"offsetgroup\":\"\",\"orientation\":\"v\",\"showlegend\":false,\"textposition\":\"auto\",\"x\":[0,1],\"xaxis\":\"x\",\"y\":[10361,7924],\"yaxis\":\"y\",\"type\":\"bar\"}],                        {\"template\":{\"data\":{\"histogram2dcontour\":[{\"type\":\"histogram2dcontour\",\"colorbar\":{\"outlinewidth\":0,\"ticks\":\"\"},\"colorscale\":[[0.0,\"#0d0887\"],[0.1111111111111111,\"#46039f\"],[0.2222222222222222,\"#7201a8\"],[0.3333333333333333,\"#9c179e\"],[0.4444444444444444,\"#bd3786\"],[0.5555555555555556,\"#d8576b\"],[0.6666666666666666,\"#ed7953\"],[0.7777777777777778,\"#fb9f3a\"],[0.8888888888888888,\"#fdca26\"],[1.0,\"#f0f921\"]]}],\"choropleth\":[{\"type\":\"choropleth\",\"colorbar\":{\"outlinewidth\":0,\"ticks\":\"\"}}],\"histogram2d\":[{\"type\":\"histogram2d\",\"colorbar\":{\"outlinewidth\":0,\"ticks\":\"\"},\"colorscale\":[[0.0,\"#0d0887\"],[0.1111111111111111,\"#46039f\"],[0.2222222222222222,\"#7201a8\"],[0.3333333333333333,\"#9c179e\"],[0.4444444444444444,\"#bd3786\"],[0.5555555555555556,\"#d8576b\"],[0.6666666666666666,\"#ed7953\"],[0.7777777777777778,\"#fb9f3a\"],[0.8888888888888888,\"#fdca26\"],[1.0,\"#f0f921\"]]}],\"heatmap\":[{\"type\":\"heatmap\",\"colorbar\":{\"outlinewidth\":0,\"ticks\":\"\"},\"colorscale\":[[0.0,\"#0d0887\"],[0.1111111111111111,\"#46039f\"],[0.2222222222222222,\"#7201a8\"],[0.3333333333333333,\"#9c179e\"],[0.4444444444444444,\"#bd3786\"],[0.5555555555555556,\"#d8576b\"],[0.6666666666666666,\"#ed7953\"],[0.7777777777777778,\"#fb9f3a\"],[0.8888888888888888,\"#fdca26\"],[1.0,\"#f0f921\"]]}],\"heatmapgl\":[{\"type\":\"heatmapgl\",\"colorbar\":{\"outlinewidth\":0,\"ticks\":\"\"},\"colorscale\":[[0.0,\"#0d0887\"],[0.1111111111111111,\"#46039f\"],[0.2222222222222222,\"#7201a8\"],[0.3333333333333333,\"#9c179e\"],[0.4444444444444444,\"#bd3786\"],[0.5555555555555556,\"#d8576b\"],[0.6666666666666666,\"#ed7953\"],[0.7777777777777778,\"#fb9f3a\"],[0.8888888888888888,\"#fdca26\"],[1.0,\"#f0f921\"]]}],\"contourcarpet\":[{\"type\":\"contourcarpet\",\"colorbar\":{\"outlinewidth\":0,\"ticks\":\"\"}}],\"contour\":[{\"type\":\"contour\",\"colorbar\":{\"outlinewidth\":0,\"ticks\":\"\"},\"colorscale\":[[0.0,\"#0d0887\"],[0.1111111111111111,\"#46039f\"],[0.2222222222222222,\"#7201a8\"],[0.3333333333333333,\"#9c179e\"],[0.4444444444444444,\"#bd3786\"],[0.5555555555555556,\"#d8576b\"],[0.6666666666666666,\"#ed7953\"],[0.7777777777777778,\"#fb9f3a\"],[0.8888888888888888,\"#fdca26\"],[1.0,\"#f0f921\"]]}],\"surface\":[{\"type\":\"surface\",\"colorbar\":{\"outlinewidth\":0,\"ticks\":\"\"},\"colorscale\":[[0.0,\"#0d0887\"],[0.1111111111111111,\"#46039f\"],[0.2222222222222222,\"#7201a8\"],[0.3333333333333333,\"#9c179e\"],[0.4444444444444444,\"#bd3786\"],[0.5555555555555556,\"#d8576b\"],[0.6666666666666666,\"#ed7953\"],[0.7777777777777778,\"#fb9f3a\"],[0.8888888888888888,\"#fdca26\"],[1.0,\"#f0f921\"]]}],\"mesh3d\":[{\"type\":\"mesh3d\",\"colorbar\":{\"outlinewidth\":0,\"ticks\":\"\"}}],\"scatter\":[{\"fillpattern\":{\"fillmode\":\"overlay\",\"size\":10,\"solidity\":0.2},\"type\":\"scatter\"}],\"parcoords\":[{\"type\":\"parcoords\",\"line\":{\"colorbar\":{\"outlinewidth\":0,\"ticks\":\"\"}}}],\"scatterpolargl\":[{\"type\":\"scatterpolargl\",\"marker\":{\"colorbar\":{\"outlinewidth\":0,\"ticks\":\"\"}}}],\"bar\":[{\"error_x\":{\"color\":\"#2a3f5f\"},\"error_y\":{\"color\":\"#2a3f5f\"},\"marker\":{\"line\":{\"color\":\"#E5ECF6\",\"width\":0.5},\"pattern\":{\"fillmode\":\"overlay\",\"size\":10,\"solidity\":0.2}},\"type\":\"bar\"}],\"scattergeo\":[{\"type\":\"scattergeo\",\"marker\":{\"colorbar\":{\"outlinewidth\":0,\"ticks\":\"\"}}}],\"scatterpolar\":[{\"type\":\"scatterpolar\",\"marker\":{\"colorbar\":{\"outlinewidth\":0,\"ticks\":\"\"}}}],\"histogram\":[{\"marker\":{\"pattern\":{\"fillmode\":\"overlay\",\"size\":10,\"solidity\":0.2}},\"type\":\"histogram\"}],\"scattergl\":[{\"type\":\"scattergl\",\"marker\":{\"colorbar\":{\"outlinewidth\":0,\"ticks\":\"\"}}}],\"scatter3d\":[{\"type\":\"scatter3d\",\"line\":{\"colorbar\":{\"outlinewidth\":0,\"ticks\":\"\"}},\"marker\":{\"colorbar\":{\"outlinewidth\":0,\"ticks\":\"\"}}}],\"scattermapbox\":[{\"type\":\"scattermapbox\",\"marker\":{\"colorbar\":{\"outlinewidth\":0,\"ticks\":\"\"}}}],\"scatterternary\":[{\"type\":\"scatterternary\",\"marker\":{\"colorbar\":{\"outlinewidth\":0,\"ticks\":\"\"}}}],\"scattercarpet\":[{\"type\":\"scattercarpet\",\"marker\":{\"colorbar\":{\"outlinewidth\":0,\"ticks\":\"\"}}}],\"carpet\":[{\"aaxis\":{\"endlinecolor\":\"#2a3f5f\",\"gridcolor\":\"white\",\"linecolor\":\"white\",\"minorgridcolor\":\"white\",\"startlinecolor\":\"#2a3f5f\"},\"baxis\":{\"endlinecolor\":\"#2a3f5f\",\"gridcolor\":\"white\",\"linecolor\":\"white\",\"minorgridcolor\":\"white\",\"startlinecolor\":\"#2a3f5f\"},\"type\":\"carpet\"}],\"table\":[{\"cells\":{\"fill\":{\"color\":\"#EBF0F8\"},\"line\":{\"color\":\"white\"}},\"header\":{\"fill\":{\"color\":\"#C8D4E3\"},\"line\":{\"color\":\"white\"}},\"type\":\"table\"}],\"barpolar\":[{\"marker\":{\"line\":{\"color\":\"#E5ECF6\",\"width\":0.5},\"pattern\":{\"fillmode\":\"overlay\",\"size\":10,\"solidity\":0.2}},\"type\":\"barpolar\"}],\"pie\":[{\"automargin\":true,\"type\":\"pie\"}]},\"layout\":{\"autotypenumbers\":\"strict\",\"colorway\":[\"#636efa\",\"#EF553B\",\"#00cc96\",\"#ab63fa\",\"#FFA15A\",\"#19d3f3\",\"#FF6692\",\"#B6E880\",\"#FF97FF\",\"#FECB52\"],\"font\":{\"color\":\"#2a3f5f\"},\"hovermode\":\"closest\",\"hoverlabel\":{\"align\":\"left\"},\"paper_bgcolor\":\"white\",\"plot_bgcolor\":\"#E5ECF6\",\"polar\":{\"bgcolor\":\"#E5ECF6\",\"angularaxis\":{\"gridcolor\":\"white\",\"linecolor\":\"white\",\"ticks\":\"\"},\"radialaxis\":{\"gridcolor\":\"white\",\"linecolor\":\"white\",\"ticks\":\"\"}},\"ternary\":{\"bgcolor\":\"#E5ECF6\",\"aaxis\":{\"gridcolor\":\"white\",\"linecolor\":\"white\",\"ticks\":\"\"},\"baxis\":{\"gridcolor\":\"white\",\"linecolor\":\"white\",\"ticks\":\"\"},\"caxis\":{\"gridcolor\":\"white\",\"linecolor\":\"white\",\"ticks\":\"\"}},\"coloraxis\":{\"colorbar\":{\"outlinewidth\":0,\"ticks\":\"\"}},\"colorscale\":{\"sequential\":[[0.0,\"#0d0887\"],[0.1111111111111111,\"#46039f\"],[0.2222222222222222,\"#7201a8\"],[0.3333333333333333,\"#9c179e\"],[0.4444444444444444,\"#bd3786\"],[0.5555555555555556,\"#d8576b\"],[0.6666666666666666,\"#ed7953\"],[0.7777777777777778,\"#fb9f3a\"],[0.8888888888888888,\"#fdca26\"],[1.0,\"#f0f921\"]],\"sequentialminus\":[[0.0,\"#0d0887\"],[0.1111111111111111,\"#46039f\"],[0.2222222222222222,\"#7201a8\"],[0.3333333333333333,\"#9c179e\"],[0.4444444444444444,\"#bd3786\"],[0.5555555555555556,\"#d8576b\"],[0.6666666666666666,\"#ed7953\"],[0.7777777777777778,\"#fb9f3a\"],[0.8888888888888888,\"#fdca26\"],[1.0,\"#f0f921\"]],\"diverging\":[[0,\"#8e0152\"],[0.1,\"#c51b7d\"],[0.2,\"#de77ae\"],[0.3,\"#f1b6da\"],[0.4,\"#fde0ef\"],[0.5,\"#f7f7f7\"],[0.6,\"#e6f5d0\"],[0.7,\"#b8e186\"],[0.8,\"#7fbc41\"],[0.9,\"#4d9221\"],[1,\"#276419\"]]},\"xaxis\":{\"gridcolor\":\"white\",\"linecolor\":\"white\",\"ticks\":\"\",\"title\":{\"standoff\":15},\"zerolinecolor\":\"white\",\"automargin\":true,\"zerolinewidth\":2},\"yaxis\":{\"gridcolor\":\"white\",\"linecolor\":\"white\",\"ticks\":\"\",\"title\":{\"standoff\":15},\"zerolinecolor\":\"white\",\"automargin\":true,\"zerolinewidth\":2},\"scene\":{\"xaxis\":{\"backgroundcolor\":\"#E5ECF6\",\"gridcolor\":\"white\",\"linecolor\":\"white\",\"showbackground\":true,\"ticks\":\"\",\"zerolinecolor\":\"white\",\"gridwidth\":2},\"yaxis\":{\"backgroundcolor\":\"#E5ECF6\",\"gridcolor\":\"white\",\"linecolor\":\"white\",\"showbackground\":true,\"ticks\":\"\",\"zerolinecolor\":\"white\",\"gridwidth\":2},\"zaxis\":{\"backgroundcolor\":\"#E5ECF6\",\"gridcolor\":\"white\",\"linecolor\":\"white\",\"showbackground\":true,\"ticks\":\"\",\"zerolinecolor\":\"white\",\"gridwidth\":2}},\"shapedefaults\":{\"line\":{\"color\":\"#2a3f5f\"}},\"annotationdefaults\":{\"arrowcolor\":\"#2a3f5f\",\"arrowhead\":0,\"arrowwidth\":1},\"geo\":{\"bgcolor\":\"white\",\"landcolor\":\"#E5ECF6\",\"subunitcolor\":\"white\",\"showland\":true,\"showlakes\":true,\"lakecolor\":\"white\"},\"title\":{\"x\":0.05},\"mapbox\":{\"style\":\"light\"}}},\"xaxis\":{\"anchor\":\"y\",\"domain\":[0.0,1.0],\"title\":{\"text\":\"label\"}},\"yaxis\":{\"anchor\":\"x\",\"domain\":[0.0,1.0],\"title\":{\"text\":\"count\"}},\"legend\":{\"tracegroupgap\":0},\"title\":{\"text\":\"Overall Distribution of Fake news\"},\"barmode\":\"relative\"},                        {\"responsive\": true}                    ).then(function(){\n",
              "                            \n",
              "var gd = document.getElementById('15cd204f-3796-48e5-be02-e7e5f525b7a3');\n",
              "var x = new MutationObserver(function (mutations, observer) {{\n",
              "        var display = window.getComputedStyle(gd).display;\n",
              "        if (!display || display === 'none') {{\n",
              "            console.log([gd, 'removed!']);\n",
              "            Plotly.purge(gd);\n",
              "            observer.disconnect();\n",
              "        }}\n",
              "}});\n",
              "\n",
              "// Listen for the removal of the full notebook cells\n",
              "var notebookContainer = gd.closest('#notebook-container');\n",
              "if (notebookContainer) {{\n",
              "    x.observe(notebookContainer, {childList: true});\n",
              "}}\n",
              "\n",
              "// Listen for the clearing of the current output cell\n",
              "var outputEl = gd.closest('.output');\n",
              "if (outputEl) {{\n",
              "    x.observe(outputEl, {childList: true});\n",
              "}}\n",
              "\n",
              "                        })                };                            </script>        </div>\n",
              "</body>\n",
              "</html>"
            ]
          },
          "metadata": {}
        }
      ]
    },
    {
      "cell_type": "code",
      "source": [
        "#Function to extract top n keywords for each emotion\n",
        "def top_keywords_ngrams(df, n=None):\n",
        "    results = {}\n",
        "    vec = CountVectorizer(ngram_range=(1, 1)).fit(df['text'])\n",
        "    bag_of_words = vec.transform(df['text'])\n",
        "    sum_words = bag_of_words.sum(axis=0)\n",
        "\n",
        "    # For each emotion\n",
        "    for label in df['label'].unique():\n",
        "        # Filter by label\n",
        "        label_data = df[df['label'] == label]\n",
        "        label_bow = vec.transform(label_data['text'])\n",
        "        label_sum_words = label_bow.sum(axis=0)\n",
        "        words_freq = [(word, label_sum_words[0, idx]) for word, idx in vec.vocabulary_.items()]\n",
        "        words_freq = sorted(words_freq, key=lambda x: x[1], reverse=True)\n",
        "        top_words = words_freq[:n]\n",
        "        results[label] = top_words\n",
        "\n",
        "    return results\n",
        "\n",
        "top_n = 10  # Number of top words/phrases to extract\n",
        "top_keywords_by_label = top_keywords_ngrams(df, n=top_n)\n",
        "\n",
        "# Converting the results to a DataFrame for easier plotting\n",
        "top_keywords_df = pd.DataFrame([(label, word, freq) for label, keywords in top_keywords_by_label.items() for word, freq in keywords], columns=['Label', 'Word', 'Frequency'])\n",
        "\n",
        "# Plotting\n",
        "fig = px.bar(top_keywords_df, x='Word', y='Frequency', color='Label', title='Top Keywords by Label', facet_row='Label', height=1200)\n",
        "fig.show()"
      ],
      "metadata": {
        "id": "T8fYSiL1LfWw",
        "colab": {
          "base_uri": "https://localhost:8080/",
          "height": 1000
        },
        "outputId": "61ae48a3-97c6-4c87-f746-dac8d5aa96f4"
      },
      "execution_count": 13,
      "outputs": [
        {
          "output_type": "display_data",
          "data": {
            "text/html": [
              "<html>\n",
              "<head><meta charset=\"utf-8\" /></head>\n",
              "<body>\n",
              "    <div>            <script src=\"https://cdnjs.cloudflare.com/ajax/libs/mathjax/2.7.5/MathJax.js?config=TeX-AMS-MML_SVG\"></script><script type=\"text/javascript\">if (window.MathJax && window.MathJax.Hub && window.MathJax.Hub.Config) {window.MathJax.Hub.Config({SVG: {font: \"STIX-Web\"}});}</script>                <script type=\"text/javascript\">window.PlotlyConfig = {MathJaxConfig: 'local'};</script>\n",
              "        <script charset=\"utf-8\" src=\"https://cdn.plot.ly/plotly-2.24.1.min.js\"></script>                <div id=\"9e5b4f8e-dab6-47b5-a3ab-02f5fee48c6e\" class=\"plotly-graph-div\" style=\"height:1200px; width:100%;\"></div>            <script type=\"text/javascript\">                                    window.PLOTLYENV=window.PLOTLYENV || {};                                    if (document.getElementById(\"9e5b4f8e-dab6-47b5-a3ab-02f5fee48c6e\")) {                    Plotly.newPlot(                        \"9e5b4f8e-dab6-47b5-a3ab-02f5fee48c6e\",                        [{\"alignmentgroup\":\"True\",\"hovertemplate\":\"Label=%{marker.color}\\u003cbr\\u003eWord=%{x}\\u003cbr\\u003eFrequency=%{y}\\u003cextra\\u003e\\u003c\\u002fextra\\u003e\",\"legendgroup\":\"\",\"marker\":{\"color\":[1,1,1,1,1,1,1,1,1,1],\"coloraxis\":\"coloraxis\",\"pattern\":{\"shape\":\"\"}},\"name\":\"\",\"offsetgroup\":\"\",\"orientation\":\"v\",\"showlegend\":false,\"textposition\":\"auto\",\"x\":[\"the\",\"to\",\"of\",\"and\",\"in\",\"that\",\"is\",\"for\",\"it\",\"on\"],\"xaxis\":\"x2\",\"y\":[323212,153363,151954,142535,102053,77542,70737,49900,46862,40424],\"yaxis\":\"y2\",\"type\":\"bar\"},{\"alignmentgroup\":\"True\",\"hovertemplate\":\"Label=%{marker.color}\\u003cbr\\u003eWord=%{x}\\u003cbr\\u003eFrequency=%{y}\\u003cextra\\u003e\\u003c\\u002fextra\\u003e\",\"legendgroup\":\"\",\"marker\":{\"color\":[0,0,0,0,0,0,0,0,0,0],\"coloraxis\":\"coloraxis\",\"pattern\":{\"shape\":\"\"}},\"name\":\"\",\"offsetgroup\":\"\",\"orientation\":\"v\",\"showlegend\":false,\"textposition\":\"auto\",\"x\":[\"the\",\"to\",\"of\",\"and\",\"in\",\"that\",\"for\",\"on\",\"he\",\"is\"],\"xaxis\":\"x\",\"y\":[536069,244421,237092,214966,188928,126801,85853,82278,75814,74566],\"yaxis\":\"y\",\"type\":\"bar\"}],                        {\"template\":{\"data\":{\"histogram2dcontour\":[{\"type\":\"histogram2dcontour\",\"colorbar\":{\"outlinewidth\":0,\"ticks\":\"\"},\"colorscale\":[[0.0,\"#0d0887\"],[0.1111111111111111,\"#46039f\"],[0.2222222222222222,\"#7201a8\"],[0.3333333333333333,\"#9c179e\"],[0.4444444444444444,\"#bd3786\"],[0.5555555555555556,\"#d8576b\"],[0.6666666666666666,\"#ed7953\"],[0.7777777777777778,\"#fb9f3a\"],[0.8888888888888888,\"#fdca26\"],[1.0,\"#f0f921\"]]}],\"choropleth\":[{\"type\":\"choropleth\",\"colorbar\":{\"outlinewidth\":0,\"ticks\":\"\"}}],\"histogram2d\":[{\"type\":\"histogram2d\",\"colorbar\":{\"outlinewidth\":0,\"ticks\":\"\"},\"colorscale\":[[0.0,\"#0d0887\"],[0.1111111111111111,\"#46039f\"],[0.2222222222222222,\"#7201a8\"],[0.3333333333333333,\"#9c179e\"],[0.4444444444444444,\"#bd3786\"],[0.5555555555555556,\"#d8576b\"],[0.6666666666666666,\"#ed7953\"],[0.7777777777777778,\"#fb9f3a\"],[0.8888888888888888,\"#fdca26\"],[1.0,\"#f0f921\"]]}],\"heatmap\":[{\"type\":\"heatmap\",\"colorbar\":{\"outlinewidth\":0,\"ticks\":\"\"},\"colorscale\":[[0.0,\"#0d0887\"],[0.1111111111111111,\"#46039f\"],[0.2222222222222222,\"#7201a8\"],[0.3333333333333333,\"#9c179e\"],[0.4444444444444444,\"#bd3786\"],[0.5555555555555556,\"#d8576b\"],[0.6666666666666666,\"#ed7953\"],[0.7777777777777778,\"#fb9f3a\"],[0.8888888888888888,\"#fdca26\"],[1.0,\"#f0f921\"]]}],\"heatmapgl\":[{\"type\":\"heatmapgl\",\"colorbar\":{\"outlinewidth\":0,\"ticks\":\"\"},\"colorscale\":[[0.0,\"#0d0887\"],[0.1111111111111111,\"#46039f\"],[0.2222222222222222,\"#7201a8\"],[0.3333333333333333,\"#9c179e\"],[0.4444444444444444,\"#bd3786\"],[0.5555555555555556,\"#d8576b\"],[0.6666666666666666,\"#ed7953\"],[0.7777777777777778,\"#fb9f3a\"],[0.8888888888888888,\"#fdca26\"],[1.0,\"#f0f921\"]]}],\"contourcarpet\":[{\"type\":\"contourcarpet\",\"colorbar\":{\"outlinewidth\":0,\"ticks\":\"\"}}],\"contour\":[{\"type\":\"contour\",\"colorbar\":{\"outlinewidth\":0,\"ticks\":\"\"},\"colorscale\":[[0.0,\"#0d0887\"],[0.1111111111111111,\"#46039f\"],[0.2222222222222222,\"#7201a8\"],[0.3333333333333333,\"#9c179e\"],[0.4444444444444444,\"#bd3786\"],[0.5555555555555556,\"#d8576b\"],[0.6666666666666666,\"#ed7953\"],[0.7777777777777778,\"#fb9f3a\"],[0.8888888888888888,\"#fdca26\"],[1.0,\"#f0f921\"]]}],\"surface\":[{\"type\":\"surface\",\"colorbar\":{\"outlinewidth\":0,\"ticks\":\"\"},\"colorscale\":[[0.0,\"#0d0887\"],[0.1111111111111111,\"#46039f\"],[0.2222222222222222,\"#7201a8\"],[0.3333333333333333,\"#9c179e\"],[0.4444444444444444,\"#bd3786\"],[0.5555555555555556,\"#d8576b\"],[0.6666666666666666,\"#ed7953\"],[0.7777777777777778,\"#fb9f3a\"],[0.8888888888888888,\"#fdca26\"],[1.0,\"#f0f921\"]]}],\"mesh3d\":[{\"type\":\"mesh3d\",\"colorbar\":{\"outlinewidth\":0,\"ticks\":\"\"}}],\"scatter\":[{\"fillpattern\":{\"fillmode\":\"overlay\",\"size\":10,\"solidity\":0.2},\"type\":\"scatter\"}],\"parcoords\":[{\"type\":\"parcoords\",\"line\":{\"colorbar\":{\"outlinewidth\":0,\"ticks\":\"\"}}}],\"scatterpolargl\":[{\"type\":\"scatterpolargl\",\"marker\":{\"colorbar\":{\"outlinewidth\":0,\"ticks\":\"\"}}}],\"bar\":[{\"error_x\":{\"color\":\"#2a3f5f\"},\"error_y\":{\"color\":\"#2a3f5f\"},\"marker\":{\"line\":{\"color\":\"#E5ECF6\",\"width\":0.5},\"pattern\":{\"fillmode\":\"overlay\",\"size\":10,\"solidity\":0.2}},\"type\":\"bar\"}],\"scattergeo\":[{\"type\":\"scattergeo\",\"marker\":{\"colorbar\":{\"outlinewidth\":0,\"ticks\":\"\"}}}],\"scatterpolar\":[{\"type\":\"scatterpolar\",\"marker\":{\"colorbar\":{\"outlinewidth\":0,\"ticks\":\"\"}}}],\"histogram\":[{\"marker\":{\"pattern\":{\"fillmode\":\"overlay\",\"size\":10,\"solidity\":0.2}},\"type\":\"histogram\"}],\"scattergl\":[{\"type\":\"scattergl\",\"marker\":{\"colorbar\":{\"outlinewidth\":0,\"ticks\":\"\"}}}],\"scatter3d\":[{\"type\":\"scatter3d\",\"line\":{\"colorbar\":{\"outlinewidth\":0,\"ticks\":\"\"}},\"marker\":{\"colorbar\":{\"outlinewidth\":0,\"ticks\":\"\"}}}],\"scattermapbox\":[{\"type\":\"scattermapbox\",\"marker\":{\"colorbar\":{\"outlinewidth\":0,\"ticks\":\"\"}}}],\"scatterternary\":[{\"type\":\"scatterternary\",\"marker\":{\"colorbar\":{\"outlinewidth\":0,\"ticks\":\"\"}}}],\"scattercarpet\":[{\"type\":\"scattercarpet\",\"marker\":{\"colorbar\":{\"outlinewidth\":0,\"ticks\":\"\"}}}],\"carpet\":[{\"aaxis\":{\"endlinecolor\":\"#2a3f5f\",\"gridcolor\":\"white\",\"linecolor\":\"white\",\"minorgridcolor\":\"white\",\"startlinecolor\":\"#2a3f5f\"},\"baxis\":{\"endlinecolor\":\"#2a3f5f\",\"gridcolor\":\"white\",\"linecolor\":\"white\",\"minorgridcolor\":\"white\",\"startlinecolor\":\"#2a3f5f\"},\"type\":\"carpet\"}],\"table\":[{\"cells\":{\"fill\":{\"color\":\"#EBF0F8\"},\"line\":{\"color\":\"white\"}},\"header\":{\"fill\":{\"color\":\"#C8D4E3\"},\"line\":{\"color\":\"white\"}},\"type\":\"table\"}],\"barpolar\":[{\"marker\":{\"line\":{\"color\":\"#E5ECF6\",\"width\":0.5},\"pattern\":{\"fillmode\":\"overlay\",\"size\":10,\"solidity\":0.2}},\"type\":\"barpolar\"}],\"pie\":[{\"automargin\":true,\"type\":\"pie\"}]},\"layout\":{\"autotypenumbers\":\"strict\",\"colorway\":[\"#636efa\",\"#EF553B\",\"#00cc96\",\"#ab63fa\",\"#FFA15A\",\"#19d3f3\",\"#FF6692\",\"#B6E880\",\"#FF97FF\",\"#FECB52\"],\"font\":{\"color\":\"#2a3f5f\"},\"hovermode\":\"closest\",\"hoverlabel\":{\"align\":\"left\"},\"paper_bgcolor\":\"white\",\"plot_bgcolor\":\"#E5ECF6\",\"polar\":{\"bgcolor\":\"#E5ECF6\",\"angularaxis\":{\"gridcolor\":\"white\",\"linecolor\":\"white\",\"ticks\":\"\"},\"radialaxis\":{\"gridcolor\":\"white\",\"linecolor\":\"white\",\"ticks\":\"\"}},\"ternary\":{\"bgcolor\":\"#E5ECF6\",\"aaxis\":{\"gridcolor\":\"white\",\"linecolor\":\"white\",\"ticks\":\"\"},\"baxis\":{\"gridcolor\":\"white\",\"linecolor\":\"white\",\"ticks\":\"\"},\"caxis\":{\"gridcolor\":\"white\",\"linecolor\":\"white\",\"ticks\":\"\"}},\"coloraxis\":{\"colorbar\":{\"outlinewidth\":0,\"ticks\":\"\"}},\"colorscale\":{\"sequential\":[[0.0,\"#0d0887\"],[0.1111111111111111,\"#46039f\"],[0.2222222222222222,\"#7201a8\"],[0.3333333333333333,\"#9c179e\"],[0.4444444444444444,\"#bd3786\"],[0.5555555555555556,\"#d8576b\"],[0.6666666666666666,\"#ed7953\"],[0.7777777777777778,\"#fb9f3a\"],[0.8888888888888888,\"#fdca26\"],[1.0,\"#f0f921\"]],\"sequentialminus\":[[0.0,\"#0d0887\"],[0.1111111111111111,\"#46039f\"],[0.2222222222222222,\"#7201a8\"],[0.3333333333333333,\"#9c179e\"],[0.4444444444444444,\"#bd3786\"],[0.5555555555555556,\"#d8576b\"],[0.6666666666666666,\"#ed7953\"],[0.7777777777777778,\"#fb9f3a\"],[0.8888888888888888,\"#fdca26\"],[1.0,\"#f0f921\"]],\"diverging\":[[0,\"#8e0152\"],[0.1,\"#c51b7d\"],[0.2,\"#de77ae\"],[0.3,\"#f1b6da\"],[0.4,\"#fde0ef\"],[0.5,\"#f7f7f7\"],[0.6,\"#e6f5d0\"],[0.7,\"#b8e186\"],[0.8,\"#7fbc41\"],[0.9,\"#4d9221\"],[1,\"#276419\"]]},\"xaxis\":{\"gridcolor\":\"white\",\"linecolor\":\"white\",\"ticks\":\"\",\"title\":{\"standoff\":15},\"zerolinecolor\":\"white\",\"automargin\":true,\"zerolinewidth\":2},\"yaxis\":{\"gridcolor\":\"white\",\"linecolor\":\"white\",\"ticks\":\"\",\"title\":{\"standoff\":15},\"zerolinecolor\":\"white\",\"automargin\":true,\"zerolinewidth\":2},\"scene\":{\"xaxis\":{\"backgroundcolor\":\"#E5ECF6\",\"gridcolor\":\"white\",\"linecolor\":\"white\",\"showbackground\":true,\"ticks\":\"\",\"zerolinecolor\":\"white\",\"gridwidth\":2},\"yaxis\":{\"backgroundcolor\":\"#E5ECF6\",\"gridcolor\":\"white\",\"linecolor\":\"white\",\"showbackground\":true,\"ticks\":\"\",\"zerolinecolor\":\"white\",\"gridwidth\":2},\"zaxis\":{\"backgroundcolor\":\"#E5ECF6\",\"gridcolor\":\"white\",\"linecolor\":\"white\",\"showbackground\":true,\"ticks\":\"\",\"zerolinecolor\":\"white\",\"gridwidth\":2}},\"shapedefaults\":{\"line\":{\"color\":\"#2a3f5f\"}},\"annotationdefaults\":{\"arrowcolor\":\"#2a3f5f\",\"arrowhead\":0,\"arrowwidth\":1},\"geo\":{\"bgcolor\":\"white\",\"landcolor\":\"#E5ECF6\",\"subunitcolor\":\"white\",\"showland\":true,\"showlakes\":true,\"lakecolor\":\"white\"},\"title\":{\"x\":0.05},\"mapbox\":{\"style\":\"light\"}}},\"xaxis\":{\"anchor\":\"y\",\"domain\":[0.0,0.98],\"title\":{\"text\":\"Word\"}},\"yaxis\":{\"anchor\":\"x\",\"domain\":[0.0,0.485],\"title\":{\"text\":\"Frequency\"}},\"xaxis2\":{\"anchor\":\"y2\",\"domain\":[0.0,0.98],\"matches\":\"x\",\"showticklabels\":false},\"yaxis2\":{\"anchor\":\"x2\",\"domain\":[0.515,1.0],\"matches\":\"y\",\"title\":{\"text\":\"Frequency\"}},\"annotations\":[{\"font\":{},\"showarrow\":false,\"text\":\"Label=0\",\"textangle\":90,\"x\":0.98,\"xanchor\":\"left\",\"xref\":\"paper\",\"y\":0.2425,\"yanchor\":\"middle\",\"yref\":\"paper\"},{\"font\":{},\"showarrow\":false,\"text\":\"Label=1\",\"textangle\":90,\"x\":0.98,\"xanchor\":\"left\",\"xref\":\"paper\",\"y\":0.7575000000000001,\"yanchor\":\"middle\",\"yref\":\"paper\"}],\"coloraxis\":{\"colorbar\":{\"title\":{\"text\":\"Label\"}},\"colorscale\":[[0.0,\"#0d0887\"],[0.1111111111111111,\"#46039f\"],[0.2222222222222222,\"#7201a8\"],[0.3333333333333333,\"#9c179e\"],[0.4444444444444444,\"#bd3786\"],[0.5555555555555556,\"#d8576b\"],[0.6666666666666666,\"#ed7953\"],[0.7777777777777778,\"#fb9f3a\"],[0.8888888888888888,\"#fdca26\"],[1.0,\"#f0f921\"]]},\"legend\":{\"tracegroupgap\":0},\"title\":{\"text\":\"Top Keywords by Label\"},\"barmode\":\"relative\",\"height\":1200},                        {\"responsive\": true}                    ).then(function(){\n",
              "                            \n",
              "var gd = document.getElementById('9e5b4f8e-dab6-47b5-a3ab-02f5fee48c6e');\n",
              "var x = new MutationObserver(function (mutations, observer) {{\n",
              "        var display = window.getComputedStyle(gd).display;\n",
              "        if (!display || display === 'none') {{\n",
              "            console.log([gd, 'removed!']);\n",
              "            Plotly.purge(gd);\n",
              "            observer.disconnect();\n",
              "        }}\n",
              "}});\n",
              "\n",
              "// Listen for the removal of the full notebook cells\n",
              "var notebookContainer = gd.closest('#notebook-container');\n",
              "if (notebookContainer) {{\n",
              "    x.observe(notebookContainer, {childList: true});\n",
              "}}\n",
              "\n",
              "// Listen for the clearing of the current output cell\n",
              "var outputEl = gd.closest('.output');\n",
              "if (outputEl) {{\n",
              "    x.observe(outputEl, {childList: true});\n",
              "}}\n",
              "\n",
              "                        })                };                            </script>        </div>\n",
              "</body>\n",
              "</html>"
            ]
          },
          "metadata": {}
        }
      ]
    },
    {
      "cell_type": "code",
      "source": [
        "spacy.prefer_gpu() # only if you have yur GPU enabled.\n",
        "nlp = spacy.load(\"en_core_web_sm\", exclude=[\"tok2vec\", \"tagger\", \"parser\", \"senter\", \"attribute_ruler\", \"lemmatizer\", \"ner\"])\n",
        "doc = nlp(\"text goes here\")"
      ],
      "metadata": {
        "id": "KnGD329BTk8t"
      },
      "execution_count": 14,
      "outputs": []
    },
    {
      "cell_type": "code",
      "source": [
        "df.loc[:, \"tokens\"] = df[\"text\"].apply(lambda d: [t.text.lower() for t in nlp(d)])"
      ],
      "metadata": {
        "id": "6fwwqHUEMMoI",
        "colab": {
          "base_uri": "https://localhost:8080/"
        },
        "outputId": "66f94abb-ee0f-4692-f7d9-f9f9071e7211"
      },
      "execution_count": 15,
      "outputs": [
        {
          "output_type": "stream",
          "name": "stderr",
          "text": [
            "<ipython-input-15-4030610566bf>:1: SettingWithCopyWarning:\n",
            "\n",
            "\n",
            "A value is trying to be set on a copy of a slice from a DataFrame.\n",
            "Try using .loc[row_indexer,col_indexer] = value instead\n",
            "\n",
            "See the caveats in the documentation: https://pandas.pydata.org/pandas-docs/stable/user_guide/indexing.html#returning-a-view-versus-a-copy\n",
            "\n"
          ]
        }
      ]
    },
    {
      "cell_type": "code",
      "source": [
        "df.head()"
      ],
      "metadata": {
        "id": "Bko-_izITX0D",
        "colab": {
          "base_uri": "https://localhost:8080/",
          "height": 293
        },
        "outputId": "329d2a2f-8072-4b22-9ad8-3fc39bb6a881"
      },
      "execution_count": 16,
      "outputs": [
        {
          "output_type": "execute_result",
          "data": {
            "text/plain": [
              "   id                                              title              author  \\\n",
              "0   0  House Dem Aide: We Didn’t Even See Comey’s Let...       Darrell Lucus   \n",
              "1   1  FLYNN: Hillary Clinton, Big Woman on Campus - ...     Daniel J. Flynn   \n",
              "2   2                  Why the Truth Might Get You Fired  Consortiumnews.com   \n",
              "3   3  15 Civilians Killed In Single US Airstrike Hav...     Jessica Purkiss   \n",
              "4   4  Iranian woman jailed for fictional unpublished...      Howard Portnoy   \n",
              "\n",
              "                                                text label  \\\n",
              "0  House Dem Aide: We Didn’t Even See Comey’s Let...     1   \n",
              "1  Ever get the feeling your life circles the rou...     0   \n",
              "2  Why the Truth Might Get You Fired October 29, ...     1   \n",
              "3  Videos 15 Civilians Killed In Single US Airstr...     1   \n",
              "4  Print \n",
              "An Iranian woman has been sentenced to ...     1   \n",
              "\n",
              "                                              tokens  \n",
              "0  [house, dem, aide, :, we, did, n’t, even, see,...  \n",
              "1  [ever, get, the, feeling, your, life, circles,...  \n",
              "2  [why, the, truth, might, get, you, fired, octo...  \n",
              "3  [videos, 15, civilians, killed, in, single, us...  \n",
              "4  [print, \\n, an, iranian, woman, has, been, sen...  "
            ],
            "text/html": [
              "\n",
              "  <div id=\"df-c41c384a-6a5b-4a5d-a9d7-55dcd7898806\" class=\"colab-df-container\">\n",
              "    <div>\n",
              "<style scoped>\n",
              "    .dataframe tbody tr th:only-of-type {\n",
              "        vertical-align: middle;\n",
              "    }\n",
              "\n",
              "    .dataframe tbody tr th {\n",
              "        vertical-align: top;\n",
              "    }\n",
              "\n",
              "    .dataframe thead th {\n",
              "        text-align: right;\n",
              "    }\n",
              "</style>\n",
              "<table border=\"1\" class=\"dataframe\">\n",
              "  <thead>\n",
              "    <tr style=\"text-align: right;\">\n",
              "      <th></th>\n",
              "      <th>id</th>\n",
              "      <th>title</th>\n",
              "      <th>author</th>\n",
              "      <th>text</th>\n",
              "      <th>label</th>\n",
              "      <th>tokens</th>\n",
              "    </tr>\n",
              "  </thead>\n",
              "  <tbody>\n",
              "    <tr>\n",
              "      <th>0</th>\n",
              "      <td>0</td>\n",
              "      <td>House Dem Aide: We Didn’t Even See Comey’s Let...</td>\n",
              "      <td>Darrell Lucus</td>\n",
              "      <td>House Dem Aide: We Didn’t Even See Comey’s Let...</td>\n",
              "      <td>1</td>\n",
              "      <td>[house, dem, aide, :, we, did, n’t, even, see,...</td>\n",
              "    </tr>\n",
              "    <tr>\n",
              "      <th>1</th>\n",
              "      <td>1</td>\n",
              "      <td>FLYNN: Hillary Clinton, Big Woman on Campus - ...</td>\n",
              "      <td>Daniel J. Flynn</td>\n",
              "      <td>Ever get the feeling your life circles the rou...</td>\n",
              "      <td>0</td>\n",
              "      <td>[ever, get, the, feeling, your, life, circles,...</td>\n",
              "    </tr>\n",
              "    <tr>\n",
              "      <th>2</th>\n",
              "      <td>2</td>\n",
              "      <td>Why the Truth Might Get You Fired</td>\n",
              "      <td>Consortiumnews.com</td>\n",
              "      <td>Why the Truth Might Get You Fired October 29, ...</td>\n",
              "      <td>1</td>\n",
              "      <td>[why, the, truth, might, get, you, fired, octo...</td>\n",
              "    </tr>\n",
              "    <tr>\n",
              "      <th>3</th>\n",
              "      <td>3</td>\n",
              "      <td>15 Civilians Killed In Single US Airstrike Hav...</td>\n",
              "      <td>Jessica Purkiss</td>\n",
              "      <td>Videos 15 Civilians Killed In Single US Airstr...</td>\n",
              "      <td>1</td>\n",
              "      <td>[videos, 15, civilians, killed, in, single, us...</td>\n",
              "    </tr>\n",
              "    <tr>\n",
              "      <th>4</th>\n",
              "      <td>4</td>\n",
              "      <td>Iranian woman jailed for fictional unpublished...</td>\n",
              "      <td>Howard Portnoy</td>\n",
              "      <td>Print \n",
              "An Iranian woman has been sentenced to ...</td>\n",
              "      <td>1</td>\n",
              "      <td>[print, \\n, an, iranian, woman, has, been, sen...</td>\n",
              "    </tr>\n",
              "  </tbody>\n",
              "</table>\n",
              "</div>\n",
              "    <div class=\"colab-df-buttons\">\n",
              "\n",
              "  <div class=\"colab-df-container\">\n",
              "    <button class=\"colab-df-convert\" onclick=\"convertToInteractive('df-c41c384a-6a5b-4a5d-a9d7-55dcd7898806')\"\n",
              "            title=\"Convert this dataframe to an interactive table.\"\n",
              "            style=\"display:none;\">\n",
              "\n",
              "  <svg xmlns=\"http://www.w3.org/2000/svg\" height=\"24px\" viewBox=\"0 -960 960 960\">\n",
              "    <path d=\"M120-120v-720h720v720H120Zm60-500h600v-160H180v160Zm220 220h160v-160H400v160Zm0 220h160v-160H400v160ZM180-400h160v-160H180v160Zm440 0h160v-160H620v160ZM180-180h160v-160H180v160Zm440 0h160v-160H620v160Z\"/>\n",
              "  </svg>\n",
              "    </button>\n",
              "\n",
              "  <style>\n",
              "    .colab-df-container {\n",
              "      display:flex;\n",
              "      gap: 12px;\n",
              "    }\n",
              "\n",
              "    .colab-df-convert {\n",
              "      background-color: #E8F0FE;\n",
              "      border: none;\n",
              "      border-radius: 50%;\n",
              "      cursor: pointer;\n",
              "      display: none;\n",
              "      fill: #1967D2;\n",
              "      height: 32px;\n",
              "      padding: 0 0 0 0;\n",
              "      width: 32px;\n",
              "    }\n",
              "\n",
              "    .colab-df-convert:hover {\n",
              "      background-color: #E2EBFA;\n",
              "      box-shadow: 0px 1px 2px rgba(60, 64, 67, 0.3), 0px 1px 3px 1px rgba(60, 64, 67, 0.15);\n",
              "      fill: #174EA6;\n",
              "    }\n",
              "\n",
              "    .colab-df-buttons div {\n",
              "      margin-bottom: 4px;\n",
              "    }\n",
              "\n",
              "    [theme=dark] .colab-df-convert {\n",
              "      background-color: #3B4455;\n",
              "      fill: #D2E3FC;\n",
              "    }\n",
              "\n",
              "    [theme=dark] .colab-df-convert:hover {\n",
              "      background-color: #434B5C;\n",
              "      box-shadow: 0px 1px 3px 1px rgba(0, 0, 0, 0.15);\n",
              "      filter: drop-shadow(0px 1px 2px rgba(0, 0, 0, 0.3));\n",
              "      fill: #FFFFFF;\n",
              "    }\n",
              "  </style>\n",
              "\n",
              "    <script>\n",
              "      const buttonEl =\n",
              "        document.querySelector('#df-c41c384a-6a5b-4a5d-a9d7-55dcd7898806 button.colab-df-convert');\n",
              "      buttonEl.style.display =\n",
              "        google.colab.kernel.accessAllowed ? 'block' : 'none';\n",
              "\n",
              "      async function convertToInteractive(key) {\n",
              "        const element = document.querySelector('#df-c41c384a-6a5b-4a5d-a9d7-55dcd7898806');\n",
              "        const dataTable =\n",
              "          await google.colab.kernel.invokeFunction('convertToInteractive',\n",
              "                                                    [key], {});\n",
              "        if (!dataTable) return;\n",
              "\n",
              "        const docLinkHtml = 'Like what you see? Visit the ' +\n",
              "          '<a target=\"_blank\" href=https://colab.research.google.com/notebooks/data_table.ipynb>data table notebook</a>'\n",
              "          + ' to learn more about interactive tables.';\n",
              "        element.innerHTML = '';\n",
              "        dataTable['output_type'] = 'display_data';\n",
              "        await google.colab.output.renderOutput(dataTable, element);\n",
              "        const docLink = document.createElement('div');\n",
              "        docLink.innerHTML = docLinkHtml;\n",
              "        element.appendChild(docLink);\n",
              "      }\n",
              "    </script>\n",
              "  </div>\n",
              "\n",
              "\n",
              "<div id=\"df-09577fd3-d749-4710-acb6-b889ff70ed2b\">\n",
              "  <button class=\"colab-df-quickchart\" onclick=\"quickchart('df-09577fd3-d749-4710-acb6-b889ff70ed2b')\"\n",
              "            title=\"Suggest charts\"\n",
              "            style=\"display:none;\">\n",
              "\n",
              "<svg xmlns=\"http://www.w3.org/2000/svg\" height=\"24px\"viewBox=\"0 0 24 24\"\n",
              "     width=\"24px\">\n",
              "    <g>\n",
              "        <path d=\"M19 3H5c-1.1 0-2 .9-2 2v14c0 1.1.9 2 2 2h14c1.1 0 2-.9 2-2V5c0-1.1-.9-2-2-2zM9 17H7v-7h2v7zm4 0h-2V7h2v10zm4 0h-2v-4h2v4z\"/>\n",
              "    </g>\n",
              "</svg>\n",
              "  </button>\n",
              "\n",
              "<style>\n",
              "  .colab-df-quickchart {\n",
              "      --bg-color: #E8F0FE;\n",
              "      --fill-color: #1967D2;\n",
              "      --hover-bg-color: #E2EBFA;\n",
              "      --hover-fill-color: #174EA6;\n",
              "      --disabled-fill-color: #AAA;\n",
              "      --disabled-bg-color: #DDD;\n",
              "  }\n",
              "\n",
              "  [theme=dark] .colab-df-quickchart {\n",
              "      --bg-color: #3B4455;\n",
              "      --fill-color: #D2E3FC;\n",
              "      --hover-bg-color: #434B5C;\n",
              "      --hover-fill-color: #FFFFFF;\n",
              "      --disabled-bg-color: #3B4455;\n",
              "      --disabled-fill-color: #666;\n",
              "  }\n",
              "\n",
              "  .colab-df-quickchart {\n",
              "    background-color: var(--bg-color);\n",
              "    border: none;\n",
              "    border-radius: 50%;\n",
              "    cursor: pointer;\n",
              "    display: none;\n",
              "    fill: var(--fill-color);\n",
              "    height: 32px;\n",
              "    padding: 0;\n",
              "    width: 32px;\n",
              "  }\n",
              "\n",
              "  .colab-df-quickchart:hover {\n",
              "    background-color: var(--hover-bg-color);\n",
              "    box-shadow: 0 1px 2px rgba(60, 64, 67, 0.3), 0 1px 3px 1px rgba(60, 64, 67, 0.15);\n",
              "    fill: var(--button-hover-fill-color);\n",
              "  }\n",
              "\n",
              "  .colab-df-quickchart-complete:disabled,\n",
              "  .colab-df-quickchart-complete:disabled:hover {\n",
              "    background-color: var(--disabled-bg-color);\n",
              "    fill: var(--disabled-fill-color);\n",
              "    box-shadow: none;\n",
              "  }\n",
              "\n",
              "  .colab-df-spinner {\n",
              "    border: 2px solid var(--fill-color);\n",
              "    border-color: transparent;\n",
              "    border-bottom-color: var(--fill-color);\n",
              "    animation:\n",
              "      spin 1s steps(1) infinite;\n",
              "  }\n",
              "\n",
              "  @keyframes spin {\n",
              "    0% {\n",
              "      border-color: transparent;\n",
              "      border-bottom-color: var(--fill-color);\n",
              "      border-left-color: var(--fill-color);\n",
              "    }\n",
              "    20% {\n",
              "      border-color: transparent;\n",
              "      border-left-color: var(--fill-color);\n",
              "      border-top-color: var(--fill-color);\n",
              "    }\n",
              "    30% {\n",
              "      border-color: transparent;\n",
              "      border-left-color: var(--fill-color);\n",
              "      border-top-color: var(--fill-color);\n",
              "      border-right-color: var(--fill-color);\n",
              "    }\n",
              "    40% {\n",
              "      border-color: transparent;\n",
              "      border-right-color: var(--fill-color);\n",
              "      border-top-color: var(--fill-color);\n",
              "    }\n",
              "    60% {\n",
              "      border-color: transparent;\n",
              "      border-right-color: var(--fill-color);\n",
              "    }\n",
              "    80% {\n",
              "      border-color: transparent;\n",
              "      border-right-color: var(--fill-color);\n",
              "      border-bottom-color: var(--fill-color);\n",
              "    }\n",
              "    90% {\n",
              "      border-color: transparent;\n",
              "      border-bottom-color: var(--fill-color);\n",
              "    }\n",
              "  }\n",
              "</style>\n",
              "\n",
              "  <script>\n",
              "    async function quickchart(key) {\n",
              "      const quickchartButtonEl =\n",
              "        document.querySelector('#' + key + ' button');\n",
              "      quickchartButtonEl.disabled = true;  // To prevent multiple clicks.\n",
              "      quickchartButtonEl.classList.add('colab-df-spinner');\n",
              "      try {\n",
              "        const charts = await google.colab.kernel.invokeFunction(\n",
              "            'suggestCharts', [key], {});\n",
              "      } catch (error) {\n",
              "        console.error('Error during call to suggestCharts:', error);\n",
              "      }\n",
              "      quickchartButtonEl.classList.remove('colab-df-spinner');\n",
              "      quickchartButtonEl.classList.add('colab-df-quickchart-complete');\n",
              "    }\n",
              "    (() => {\n",
              "      let quickchartButtonEl =\n",
              "        document.querySelector('#df-09577fd3-d749-4710-acb6-b889ff70ed2b button');\n",
              "      quickchartButtonEl.style.display =\n",
              "        google.colab.kernel.accessAllowed ? 'block' : 'none';\n",
              "    })();\n",
              "  </script>\n",
              "</div>\n",
              "    </div>\n",
              "  </div>\n"
            ],
            "application/vnd.google.colaboratory.intrinsic+json": {
              "type": "dataframe",
              "variable_name": "df",
              "summary": "{\n  \"name\": \"df\",\n  \"rows\": 18285,\n  \"fields\": [\n    {\n      \"column\": \"id\",\n      \"properties\": {\n        \"dtype\": \"number\",\n        \"std\": 5998,\n        \"min\": 0,\n        \"max\": 20799,\n        \"num_unique_values\": 18285,\n        \"samples\": [\n          11784,\n          6997,\n          14903\n        ],\n        \"semantic_type\": \"\",\n        \"description\": \"\"\n      }\n    },\n    {\n      \"column\": \"title\",\n      \"properties\": {\n        \"dtype\": \"string\",\n        \"num_unique_values\": 17931,\n        \"samples\": [\n          \"Open Borders Lobby Blasts Sheriff\\u2019s Deportation Deal\",\n          \"Obama's Victory Lap?\",\n          \"Fighting in Aleppo Leaves 2 Million Without Water, U.N. Says - The New York Times\"\n        ],\n        \"semantic_type\": \"\",\n        \"description\": \"\"\n      }\n    },\n    {\n      \"column\": \"author\",\n      \"properties\": {\n        \"dtype\": \"category\",\n        \"num_unique_values\": 3838,\n        \"samples\": [\n          \"Ellen Brodsky\",\n          \"Helene Cooper and David E. Sanger\",\n          \"Richard Fausset, Alan Blinder and John Eligon\"\n        ],\n        \"semantic_type\": \"\",\n        \"description\": \"\"\n      }\n    },\n    {\n      \"column\": \"text\",\n      \"properties\": {\n        \"dtype\": \"string\",\n        \"num_unique_values\": 18017,\n        \"samples\": [\n          \"We Are Change \\nA plane carrying U.S. Vice Presidential candidate Mike Pence and his campaign crew has slid off the runway in New York\\u2019s LaGuardia Airport approximately 5 p.m. eastern today according to WPIX-TV .\\n\\nThere were 37 people on the plane, including Pence. No injuries have been declared or deaths at the time of this writing.\\nThe flight was initially delayted because of unknown problems at LaGuardia, giving Pence time to toss the football around while stranded on the tarmac in Iowa, and tweet this photo reported Fox6. \\n(THIS IS A BREAKING, DEVELOPING STORY AND UPDATES WILL BE ADDED AS MORE INFORMATION BECOMES AVAILABLE.)\\nThe post BREAKING: Plane Carrying U.S. VP Candidate MIKE PENCE Slides Off The Runway appeared first on We Are Change .\\n\",\n          \"The Drought That Was Prophesied To Hit The Southern United States Is Now Here   15th, 2016 \\nA record-setting drought has gripped the southern United States, but most people have no idea that this drought is the fulfillment of a prophecy that was given four years ago. Back in 2008, John Paul Jackson released a DVD entitled \\u201c The Perfect Storm \\u201d in which he detailed many of the prophetic events that God showed him would soon come to America. In 2012, he released a video update to \\u201cThe Perfect Storm\\u201d that you can view on YouTube right here . In that update, he shared a list of future headlines that God had revealed to him over the years. Some of these headlines have already happened since that time, and now we are watching another be fulfilled right in front of our eyes. \\nSpecifically, I am referring to this headline: \\u201cRecord High Temps Accompany Record Drought Swept South\\u201d . \\nIn an article entitled \\u201c July\\u2019s Extreme Heat Breaks Records Across South \\u201c, weather.com detailed many of the high temperature records that have been broken in the South in recent months, but in this article I am going to focus on the crippling drought that is plaguing the region. \\nIn addition to the headline above, John Paul Jackson was shown several other headlines regarding drought and famine coming to America\\u2026 \\n\\u201cDrought Continues to Cause Prayer to Rise\\u201d \\n\\u201cDemand for Classic Seeds Skyrockets\\u201d \\n\\u201cFood Prices Lead Nation\\u2019s Escalating Inflation Woes\\u201d \\n\\u201cSysco and Kraft Consider Guards on Delivery Trucks as Food Nears 40% of the Family Budget\\u201d \\nAnd of course John Paul Jackson is not the only one that has been shown that these things are coming to this nation. \\nThe following is a very small portion of what Terry Bennett was shown in April 2011 \\u2026 \\nI was also warned, by the appearing of the black horse and its rider, about famine. The angel said, \\u201cThere will be a famine of food in your nation!\\u201d Not only this, but also the prices of food, particularly grains, will dramatically rise. We will see not only shortages and high prices, but I was shown significant starvation occurring during this time. Death followed this black horse! \\nDr. Patricia Green correctly prophesied the election victories of Barack Obama and Donald Trump in advance, and she was also shown that famine is going to hit America \\u2026 \\n\\u201cI\\u2019m instructing my children to begin to fill up their storehouses before the famine strikes just as I instructed Joseph while he was in Egypt.\\u201d \\nWith those prophecies in mind, it is extremely alarming to see what is happening all across the southern portion of the United States right now. According to the U.S. Drought Monitor , most of the southern half of the country is experiencing some level of drought at this moment\\u2026 \\nThe drought in California has been raging for quite some time, but what has surprised the experts is how dry it has been in the Southeast lately. The following is from an EcoWatch article entitled \\u201c Record-Breaking Drought and Wildfires Plague Southeast \\u201c\\u2026 \\nThe atmospheric spigots have been turned off across most of the U.S. over the last several weeks. According to the weekly U.S. Drought Monitor report from Nov. 10, more than 27 percent of the contiguous U.S. has been enveloped by at least moderate drought (categories D1 through D4). This is the largest percentage value in more than a year, since late October 2015 . \\nThe upward trend of the last month is worrisome given the outlook for the coming winter: Drier-than-average conditions are projected by the National Oceanic and Atmospheric Administration across the southern half of the contiguous U.S., a frequent outcome during La Ni\\u00f1a winters. \\nTo say that the drought in the Southeast is severe would be a tremendous understatement. At this point, some cities in the Southeast haven\\u2019t seen any measurable rain in about 50 days \\u2026 \\nNo measurable rain (at least .01 inches) has been tallied at Birmingham\\u2019s Shuttlesworth International Airport since Sept. 18, approaching a two-month-long dry streak, topping their previous longest dry streak on record \\u2013 52 straight days \\u2013 from fall 1924. \\nNine minutes of sprinkles Nov. 4 and another bout of sprinkles on Oct. 16 has been the entirety of Birmingham\\u2019s rainfall so far this fall. \\nAnniston, Alabama, and Rome, Georgia, have dry streaks now approaching 50 days. \\nAnd unfortunately, it appears that there is not going to be any substantial rain for the region any time soon \\u2026 \\nThere are no signs of any significant rainfall through the end of the month across the Southeast, AccuWeather Senior Meteorologist Henry Margusity said. \\nThe region needs days and weeks of a steady, soaking rain to completely eliminate the drought. \\n\\u201cThings will only get worse before they get better,\\u201d Margusity explained. \\nWhenever conditions are this dry, it is inevitable that there will be wildfires. \\nRight now more than 100 major wildfires are raging across the Southeast, and some of the worst are in the mountains of North Carolina. \\nAs you read this article, more than 1,000 firefighters are battling dozens of large wildfires in the North Carolina mountains. Governor Pat McCrory is referring to these fires as \\u201c California wildfires in North Carolina \\u201c, and he is not exaggerating one bit. \\nIf what we are witnessing is truly the beginning of the fulfillment of what God showed John Paul Jackson, Terry Bennett and Patricia Green, then we should expect drought conditions to continue to intensify in the months ahead. \\nAnd as you can see above, they are saying that things will eventually get so bad that famine will strike America. \\nMost of us couldn\\u2019t imagine something like that ever happening in this nation. But these are men and women of God with very long track records. As I noted above, Dr. Patricia Green correctly prophesied the election victories by Barack Obama and Donald Trump in advance, and John Paul Jackson has a track record of correctly fulfilled prophecies that is exceedingly long. \\nAs I end this article, I also want to remind everyone of what God showed Heidi Baker regarding the future of America not too long ago \\u2026 \\nI saw bread lines, soup kitchens, and I saw people wearing beautiful clothing. Their clothing was not worn out. Now in my nation when people are hungry you can tell. I mean they are in shredded rags. They don\\u2019t have shoes or they have flip flops. Most of them [have] no shoes. They are hungry and they know they are hungry. They come for food, not because they are beggars, but because they are hungry. \\nThese days a lot of Americans have become complacent and are feeling pretty good about things. \\nBut the events that are warned about in this article are coming, and I would encourage everyone to get prepared while they still can.\",\n          \"Two migrants have been given sentences of three and     years for beating a young man almost to death before violently raping his female friend. The government will try to deport only one of them, temporarily. [The Freie Zeiten reports that three teenage girls and one male friend met for a party at an apartment in Kista, near Stockholm, citing Solna District Court documents.  One of the girls invited a    migrant from Liberia, Richelieu Jarara, with whom she was acquainted. This man brought another African migrant, a Kenyan named Fayed Mwangi, with him. Before long, the migrants began sexually harassing the girls. Matters quickly escalated from there, with the pair conferring briefly before spraying their friend in the face with pepper spray. The Freie Zeiten describes how they then beat and kicked the man with \\u201cbrutal force\\u201d  leaving him with \\u201cmultiple cerebral haemorrhages, severe swelling and bruises all over his body, as well as bone fractures and open wounds\\u201d. The three girls, as well as the attackers, thought the young man had been beaten to death, with Jarara actually uploading a video to Snapchat in which he made light of having \\u201ckilled a guy\\u201d. He was, in fact, still alive, but unconscious and permanently brain damaged. Jarara\\u2019s younger companion,    Mwangi, is said to have \\u201cstrangled\\u201d one of the girls when she tried to intervene, slamming her into a wall and \\u201churling\\u201d her to the floor. The Kenyan then grabbed another of the girls by the hair, dragged her into the bedroom and raped her. She was also strangled, with the Kenyan threatening to strike her if she screamed. The ordeal was finally brought to an end when a neighbour burst into the apartment, allowing the girls to flee. According to the Fria Tider, the court sentenced Mwangi to just     years for his crimes, despite his having raped another woman in May 2016. The government will attempt to deport him afterwards  \\u2014   although he will be allowed to return to the country after ten years, and judges have prevented other European countries, such as the United Kingdom, from following through on deporting criminal migrants after their sentences in the past. Jarara, who has a string of previous convictions for crimes including theft, serious bodily injury, and resisting arrest, was given a slightly longer sentence  \\u2014   three years  \\u2014   but he will not be deported.\"\n        ],\n        \"semantic_type\": \"\",\n        \"description\": \"\"\n      }\n    },\n    {\n      \"column\": \"label\",\n      \"properties\": {\n        \"dtype\": \"category\",\n        \"num_unique_values\": 2,\n        \"samples\": [\n          0,\n          1\n        ],\n        \"semantic_type\": \"\",\n        \"description\": \"\"\n      }\n    },\n    {\n      \"column\": \"tokens\",\n      \"properties\": {\n        \"dtype\": \"object\",\n        \"semantic_type\": \"\",\n        \"description\": \"\"\n      }\n    }\n  ]\n}"
            }
          },
          "metadata": {},
          "execution_count": 16
        }
      ]
    },
    {
      "cell_type": "code",
      "source": [
        "# Get English stopwords from nltk\n",
        "nltk_stopwords = nltk_stopwords.words('english')\n",
        "\n",
        "# Get a list of punctuation characters, but remove '#' from the list\n",
        "punctuation_characters = list(string.punctuation)\n",
        "punctuation_characters.remove('#')\n",
        "\n",
        "# Define your custom stopwords, including double quotes\n",
        "your_custom_stopwords = [\"'s\", \"...\", '\"', \"-\", \"``\", \"''\", \"mr.\", \"\\u2014\", ]  # Add more custom stopwords as needed\n",
        "\n",
        "# Combine all stopwords into one list\n",
        "my_stopwords = set(punctuation_characters + your_custom_stopwords + nltk_stopwords)\n",
        "\n",
        "# Sample text to remove stopwords from\n",
        "sample_text = \"This is an example of a sentence with 's and other stopwords...\"\n",
        "\n",
        "# Tokenize the sample text. For simplicity, we split on whitespace.\n",
        "# In practice, you'd use a proper tokenizer.\n",
        "tokens = sample_text.split()\n",
        "\n",
        "# Remove stopwords from the token list\n",
        "filtered_tokens = [token for token in tokens if token.lower() not in my_stopwords]\n",
        "\n",
        "# Join the tokens back into a string\n",
        "filtered_text = ' '.join(filtered_tokens)\n",
        "\n",
        "print(filtered_text)"
      ],
      "metadata": {
        "colab": {
          "base_uri": "https://localhost:8080/"
        },
        "id": "P5UeP-miC9du",
        "outputId": "3d7ad311-9d50-4605-a44b-90653a1973c0"
      },
      "execution_count": 17,
      "outputs": [
        {
          "output_type": "stream",
          "name": "stdout",
          "text": [
            "example sentence stopwords...\n"
          ]
        }
      ]
    },
    {
      "cell_type": "code",
      "source": [
        "#nltk_stopwords = nltk_stopwords.words(\"english\")\n",
        "\n",
        "\n",
        "#punctuation_characters = list(string.punctuation)\n",
        "#punctuation_characters.remove(\"#\")\n",
        "\n",
        "#YOUR_CUSTOM_STOPWORDS = [\"'s\", \",\", \".\", \"-\", \"--\", \"´s\",]\n",
        "#YOUR_CUSTOM_STOPWORDS = punctuation_characters + YOUR_CUSTOM_STOPWORDS\n",
        "#my_stopwords = YOUR_CUSTOM_STOPWORDS + nltk_stopwords"
      ],
      "metadata": {
        "id": "4j7xK2oiU-vG"
      },
      "execution_count": 18,
      "outputs": []
    },
    {
      "cell_type": "code",
      "source": [
        "tfidf = TfidfVectorizer(\n",
        "    tokenizer=lambda tokens: [token for token in tokens if token.lower() not in my_stopwords],\n",
        "    lowercase=False,  # No lowercase conversion by TfidfVectorizer since we handle it in the tokenizer\n",
        "    max_df=.9,  # Adjust based on your dataset\n",
        "    min_df=10  # Adjust based on your dataset\n",
        ")\n",
        "\n",
        "tfidf_matrix = tfidf.fit_transform(df[\"tokens\"])"
      ],
      "metadata": {
        "id": "aev6SHmoVMEM",
        "colab": {
          "base_uri": "https://localhost:8080/"
        },
        "outputId": "d7ba5212-9472-496b-bb90-6afa81b565ac"
      },
      "execution_count": 19,
      "outputs": [
        {
          "output_type": "stream",
          "name": "stderr",
          "text": [
            "/usr/local/lib/python3.10/dist-packages/sklearn/feature_extraction/text.py:528: UserWarning:\n",
            "\n",
            "The parameter 'token_pattern' will not be used since 'tokenizer' is not None'\n",
            "\n"
          ]
        }
      ]
    },
    {
      "cell_type": "code",
      "source": [
        "tfidf_matrix"
      ],
      "metadata": {
        "id": "s2PHjh19XdBM",
        "colab": {
          "base_uri": "https://localhost:8080/"
        },
        "outputId": "23cd9c05-ce8a-45fa-8cf9-675ddfe08207"
      },
      "execution_count": 20,
      "outputs": [
        {
          "output_type": "execute_result",
          "data": {
            "text/plain": [
              "<18285x31179 sparse matrix of type '<class 'numpy.float64'>'\n",
              "\twith 5201265 stored elements in Compressed Sparse Row format>"
            ]
          },
          "metadata": {},
          "execution_count": 20
        }
      ]
    },
    {
      "cell_type": "code",
      "source": [
        "from collections import Counter\n",
        "\n",
        "# Convert the tfidf_matrix to a dense format\n",
        "dense_tfidf = tfidf_matrix.todense()\n",
        "\n",
        "# Get feature names to use as DataFrame column headers\n",
        "feature_names = tfidf.get_feature_names_out()\n",
        "\n",
        "# Create a DataFrame with the dense TF-IDF data\n",
        "df_tfidf = pd.DataFrame(dense_tfidf, columns=feature_names)\n",
        "\n",
        "# Add the label column to this DataFrame\n",
        "df_tfidf['label'] = df['label'].values\n",
        "\n",
        "# Now, sum the TF-IDF scores for each term by label\n",
        "top_tfidf_by_label = df_tfidf.groupby('label').sum().transpose()\n",
        "\n",
        "# Find the top n terms for each label based on their summed TF-IDF scores\n",
        "top_n = 10\n",
        "top_terms = {}\n",
        "for label in top_tfidf_by_label.columns:\n",
        "    top_terms[label] = top_tfidf_by_label[label].sort_values(ascending=False).head(top_n)\n",
        "\n",
        "# Prepare the data for plotting\n",
        "plot_data = []\n",
        "for label, terms in top_terms.items():\n",
        "    for term in terms.index:\n",
        "        plot_data.append((label, term, terms[term]))\n",
        "\n",
        "# Convert to a DataFrame\n",
        "plot_df = pd.DataFrame(plot_data, columns=['Label', 'Word', 'TF-IDF'])\n",
        "\n",
        "# Plot using Plotly Express\n",
        "fig = px.bar(plot_df, x='Word', y='TF-IDF', color='Label', title='Top TF-IDF Terms by Label', facet_row='Label', height=1200)\n",
        "fig.show()"
      ],
      "metadata": {
        "id": "MJeQ_lsYXvzW",
        "colab": {
          "base_uri": "https://localhost:8080/",
          "height": 1000
        },
        "outputId": "8d9e607b-83ed-4ac2-8c00-25f4006b1b6f"
      },
      "execution_count": 21,
      "outputs": [
        {
          "output_type": "display_data",
          "data": {
            "text/html": [
              "<html>\n",
              "<head><meta charset=\"utf-8\" /></head>\n",
              "<body>\n",
              "    <div>            <script src=\"https://cdnjs.cloudflare.com/ajax/libs/mathjax/2.7.5/MathJax.js?config=TeX-AMS-MML_SVG\"></script><script type=\"text/javascript\">if (window.MathJax && window.MathJax.Hub && window.MathJax.Hub.Config) {window.MathJax.Hub.Config({SVG: {font: \"STIX-Web\"}});}</script>                <script type=\"text/javascript\">window.PlotlyConfig = {MathJaxConfig: 'local'};</script>\n",
              "        <script charset=\"utf-8\" src=\"https://cdn.plot.ly/plotly-2.24.1.min.js\"></script>                <div id=\"5e3d21fd-5476-4b35-8536-a0a74bd55eaa\" class=\"plotly-graph-div\" style=\"height:1200px; width:100%;\"></div>            <script type=\"text/javascript\">                                    window.PLOTLYENV=window.PLOTLYENV || {};                                    if (document.getElementById(\"5e3d21fd-5476-4b35-8536-a0a74bd55eaa\")) {                    Plotly.newPlot(                        \"5e3d21fd-5476-4b35-8536-a0a74bd55eaa\",                        [{\"alignmentgroup\":\"True\",\"hovertemplate\":\"Label=%{marker.color}\\u003cbr\\u003eWord=%{x}\\u003cbr\\u003eTF-IDF=%{y}\\u003cextra\\u003e\\u003c\\u002fextra\\u003e\",\"legendgroup\":\"\",\"marker\":{\"color\":[0,0,0,0,0,0,0,0,0,0],\"coloraxis\":\"coloraxis\",\"pattern\":{\"shape\":\"\"}},\"name\":\"\",\"offsetgroup\":\"\",\"orientation\":\"v\",\"showlegend\":false,\"textposition\":\"auto\",\"x\":[\"\\u201d\",\"  \",\"\\u201c\",\"\\u2019s\",\"said\",\" \",\"trump\",\"president\",\"would\",\"n\\u2019t\"],\"xaxis\":\"x2\",\"y\":[940.6543095554506,936.3386150645838,936.0450299425132,736.007149967274,586.612322692516,565.6914160627999,477.73350831491075,232.72852678994204,212.9523034526486,202.8423492154203],\"yaxis\":\"y2\",\"type\":\"bar\"},{\"alignmentgroup\":\"True\",\"hovertemplate\":\"Label=%{marker.color}\\u003cbr\\u003eWord=%{x}\\u003cbr\\u003eTF-IDF=%{y}\\u003cextra\\u003e\\u003c\\u002fextra\\u003e\",\"legendgroup\":\"\",\"marker\":{\"color\":[1,1,1,1,1,1,1,1,1,1],\"coloraxis\":\"coloraxis\",\"pattern\":{\"shape\":\"\"}},\"name\":\"\",\"offsetgroup\":\"\",\"orientation\":\"v\",\"showlegend\":false,\"textposition\":\"auto\",\"x\":[\"\\n\",\"\\u2019s\",\"\\u201c\",\"\\u201d\",\"clinton\",\"trump\",\"hillary\",\"\\u2013\",\"us\",\"2016\"],\"xaxis\":\"x\",\"y\":[1322.8863048504215,329.0975594640468,324.13385577527583,316.2814292055261,298.64006744595554,267.615259265231,227.3209662243126,184.2086795323766,171.77118241200793,144.95742322371515],\"yaxis\":\"y\",\"type\":\"bar\"}],                        {\"template\":{\"data\":{\"histogram2dcontour\":[{\"type\":\"histogram2dcontour\",\"colorbar\":{\"outlinewidth\":0,\"ticks\":\"\"},\"colorscale\":[[0.0,\"#0d0887\"],[0.1111111111111111,\"#46039f\"],[0.2222222222222222,\"#7201a8\"],[0.3333333333333333,\"#9c179e\"],[0.4444444444444444,\"#bd3786\"],[0.5555555555555556,\"#d8576b\"],[0.6666666666666666,\"#ed7953\"],[0.7777777777777778,\"#fb9f3a\"],[0.8888888888888888,\"#fdca26\"],[1.0,\"#f0f921\"]]}],\"choropleth\":[{\"type\":\"choropleth\",\"colorbar\":{\"outlinewidth\":0,\"ticks\":\"\"}}],\"histogram2d\":[{\"type\":\"histogram2d\",\"colorbar\":{\"outlinewidth\":0,\"ticks\":\"\"},\"colorscale\":[[0.0,\"#0d0887\"],[0.1111111111111111,\"#46039f\"],[0.2222222222222222,\"#7201a8\"],[0.3333333333333333,\"#9c179e\"],[0.4444444444444444,\"#bd3786\"],[0.5555555555555556,\"#d8576b\"],[0.6666666666666666,\"#ed7953\"],[0.7777777777777778,\"#fb9f3a\"],[0.8888888888888888,\"#fdca26\"],[1.0,\"#f0f921\"]]}],\"heatmap\":[{\"type\":\"heatmap\",\"colorbar\":{\"outlinewidth\":0,\"ticks\":\"\"},\"colorscale\":[[0.0,\"#0d0887\"],[0.1111111111111111,\"#46039f\"],[0.2222222222222222,\"#7201a8\"],[0.3333333333333333,\"#9c179e\"],[0.4444444444444444,\"#bd3786\"],[0.5555555555555556,\"#d8576b\"],[0.6666666666666666,\"#ed7953\"],[0.7777777777777778,\"#fb9f3a\"],[0.8888888888888888,\"#fdca26\"],[1.0,\"#f0f921\"]]}],\"heatmapgl\":[{\"type\":\"heatmapgl\",\"colorbar\":{\"outlinewidth\":0,\"ticks\":\"\"},\"colorscale\":[[0.0,\"#0d0887\"],[0.1111111111111111,\"#46039f\"],[0.2222222222222222,\"#7201a8\"],[0.3333333333333333,\"#9c179e\"],[0.4444444444444444,\"#bd3786\"],[0.5555555555555556,\"#d8576b\"],[0.6666666666666666,\"#ed7953\"],[0.7777777777777778,\"#fb9f3a\"],[0.8888888888888888,\"#fdca26\"],[1.0,\"#f0f921\"]]}],\"contourcarpet\":[{\"type\":\"contourcarpet\",\"colorbar\":{\"outlinewidth\":0,\"ticks\":\"\"}}],\"contour\":[{\"type\":\"contour\",\"colorbar\":{\"outlinewidth\":0,\"ticks\":\"\"},\"colorscale\":[[0.0,\"#0d0887\"],[0.1111111111111111,\"#46039f\"],[0.2222222222222222,\"#7201a8\"],[0.3333333333333333,\"#9c179e\"],[0.4444444444444444,\"#bd3786\"],[0.5555555555555556,\"#d8576b\"],[0.6666666666666666,\"#ed7953\"],[0.7777777777777778,\"#fb9f3a\"],[0.8888888888888888,\"#fdca26\"],[1.0,\"#f0f921\"]]}],\"surface\":[{\"type\":\"surface\",\"colorbar\":{\"outlinewidth\":0,\"ticks\":\"\"},\"colorscale\":[[0.0,\"#0d0887\"],[0.1111111111111111,\"#46039f\"],[0.2222222222222222,\"#7201a8\"],[0.3333333333333333,\"#9c179e\"],[0.4444444444444444,\"#bd3786\"],[0.5555555555555556,\"#d8576b\"],[0.6666666666666666,\"#ed7953\"],[0.7777777777777778,\"#fb9f3a\"],[0.8888888888888888,\"#fdca26\"],[1.0,\"#f0f921\"]]}],\"mesh3d\":[{\"type\":\"mesh3d\",\"colorbar\":{\"outlinewidth\":0,\"ticks\":\"\"}}],\"scatter\":[{\"fillpattern\":{\"fillmode\":\"overlay\",\"size\":10,\"solidity\":0.2},\"type\":\"scatter\"}],\"parcoords\":[{\"type\":\"parcoords\",\"line\":{\"colorbar\":{\"outlinewidth\":0,\"ticks\":\"\"}}}],\"scatterpolargl\":[{\"type\":\"scatterpolargl\",\"marker\":{\"colorbar\":{\"outlinewidth\":0,\"ticks\":\"\"}}}],\"bar\":[{\"error_x\":{\"color\":\"#2a3f5f\"},\"error_y\":{\"color\":\"#2a3f5f\"},\"marker\":{\"line\":{\"color\":\"#E5ECF6\",\"width\":0.5},\"pattern\":{\"fillmode\":\"overlay\",\"size\":10,\"solidity\":0.2}},\"type\":\"bar\"}],\"scattergeo\":[{\"type\":\"scattergeo\",\"marker\":{\"colorbar\":{\"outlinewidth\":0,\"ticks\":\"\"}}}],\"scatterpolar\":[{\"type\":\"scatterpolar\",\"marker\":{\"colorbar\":{\"outlinewidth\":0,\"ticks\":\"\"}}}],\"histogram\":[{\"marker\":{\"pattern\":{\"fillmode\":\"overlay\",\"size\":10,\"solidity\":0.2}},\"type\":\"histogram\"}],\"scattergl\":[{\"type\":\"scattergl\",\"marker\":{\"colorbar\":{\"outlinewidth\":0,\"ticks\":\"\"}}}],\"scatter3d\":[{\"type\":\"scatter3d\",\"line\":{\"colorbar\":{\"outlinewidth\":0,\"ticks\":\"\"}},\"marker\":{\"colorbar\":{\"outlinewidth\":0,\"ticks\":\"\"}}}],\"scattermapbox\":[{\"type\":\"scattermapbox\",\"marker\":{\"colorbar\":{\"outlinewidth\":0,\"ticks\":\"\"}}}],\"scatterternary\":[{\"type\":\"scatterternary\",\"marker\":{\"colorbar\":{\"outlinewidth\":0,\"ticks\":\"\"}}}],\"scattercarpet\":[{\"type\":\"scattercarpet\",\"marker\":{\"colorbar\":{\"outlinewidth\":0,\"ticks\":\"\"}}}],\"carpet\":[{\"aaxis\":{\"endlinecolor\":\"#2a3f5f\",\"gridcolor\":\"white\",\"linecolor\":\"white\",\"minorgridcolor\":\"white\",\"startlinecolor\":\"#2a3f5f\"},\"baxis\":{\"endlinecolor\":\"#2a3f5f\",\"gridcolor\":\"white\",\"linecolor\":\"white\",\"minorgridcolor\":\"white\",\"startlinecolor\":\"#2a3f5f\"},\"type\":\"carpet\"}],\"table\":[{\"cells\":{\"fill\":{\"color\":\"#EBF0F8\"},\"line\":{\"color\":\"white\"}},\"header\":{\"fill\":{\"color\":\"#C8D4E3\"},\"line\":{\"color\":\"white\"}},\"type\":\"table\"}],\"barpolar\":[{\"marker\":{\"line\":{\"color\":\"#E5ECF6\",\"width\":0.5},\"pattern\":{\"fillmode\":\"overlay\",\"size\":10,\"solidity\":0.2}},\"type\":\"barpolar\"}],\"pie\":[{\"automargin\":true,\"type\":\"pie\"}]},\"layout\":{\"autotypenumbers\":\"strict\",\"colorway\":[\"#636efa\",\"#EF553B\",\"#00cc96\",\"#ab63fa\",\"#FFA15A\",\"#19d3f3\",\"#FF6692\",\"#B6E880\",\"#FF97FF\",\"#FECB52\"],\"font\":{\"color\":\"#2a3f5f\"},\"hovermode\":\"closest\",\"hoverlabel\":{\"align\":\"left\"},\"paper_bgcolor\":\"white\",\"plot_bgcolor\":\"#E5ECF6\",\"polar\":{\"bgcolor\":\"#E5ECF6\",\"angularaxis\":{\"gridcolor\":\"white\",\"linecolor\":\"white\",\"ticks\":\"\"},\"radialaxis\":{\"gridcolor\":\"white\",\"linecolor\":\"white\",\"ticks\":\"\"}},\"ternary\":{\"bgcolor\":\"#E5ECF6\",\"aaxis\":{\"gridcolor\":\"white\",\"linecolor\":\"white\",\"ticks\":\"\"},\"baxis\":{\"gridcolor\":\"white\",\"linecolor\":\"white\",\"ticks\":\"\"},\"caxis\":{\"gridcolor\":\"white\",\"linecolor\":\"white\",\"ticks\":\"\"}},\"coloraxis\":{\"colorbar\":{\"outlinewidth\":0,\"ticks\":\"\"}},\"colorscale\":{\"sequential\":[[0.0,\"#0d0887\"],[0.1111111111111111,\"#46039f\"],[0.2222222222222222,\"#7201a8\"],[0.3333333333333333,\"#9c179e\"],[0.4444444444444444,\"#bd3786\"],[0.5555555555555556,\"#d8576b\"],[0.6666666666666666,\"#ed7953\"],[0.7777777777777778,\"#fb9f3a\"],[0.8888888888888888,\"#fdca26\"],[1.0,\"#f0f921\"]],\"sequentialminus\":[[0.0,\"#0d0887\"],[0.1111111111111111,\"#46039f\"],[0.2222222222222222,\"#7201a8\"],[0.3333333333333333,\"#9c179e\"],[0.4444444444444444,\"#bd3786\"],[0.5555555555555556,\"#d8576b\"],[0.6666666666666666,\"#ed7953\"],[0.7777777777777778,\"#fb9f3a\"],[0.8888888888888888,\"#fdca26\"],[1.0,\"#f0f921\"]],\"diverging\":[[0,\"#8e0152\"],[0.1,\"#c51b7d\"],[0.2,\"#de77ae\"],[0.3,\"#f1b6da\"],[0.4,\"#fde0ef\"],[0.5,\"#f7f7f7\"],[0.6,\"#e6f5d0\"],[0.7,\"#b8e186\"],[0.8,\"#7fbc41\"],[0.9,\"#4d9221\"],[1,\"#276419\"]]},\"xaxis\":{\"gridcolor\":\"white\",\"linecolor\":\"white\",\"ticks\":\"\",\"title\":{\"standoff\":15},\"zerolinecolor\":\"white\",\"automargin\":true,\"zerolinewidth\":2},\"yaxis\":{\"gridcolor\":\"white\",\"linecolor\":\"white\",\"ticks\":\"\",\"title\":{\"standoff\":15},\"zerolinecolor\":\"white\",\"automargin\":true,\"zerolinewidth\":2},\"scene\":{\"xaxis\":{\"backgroundcolor\":\"#E5ECF6\",\"gridcolor\":\"white\",\"linecolor\":\"white\",\"showbackground\":true,\"ticks\":\"\",\"zerolinecolor\":\"white\",\"gridwidth\":2},\"yaxis\":{\"backgroundcolor\":\"#E5ECF6\",\"gridcolor\":\"white\",\"linecolor\":\"white\",\"showbackground\":true,\"ticks\":\"\",\"zerolinecolor\":\"white\",\"gridwidth\":2},\"zaxis\":{\"backgroundcolor\":\"#E5ECF6\",\"gridcolor\":\"white\",\"linecolor\":\"white\",\"showbackground\":true,\"ticks\":\"\",\"zerolinecolor\":\"white\",\"gridwidth\":2}},\"shapedefaults\":{\"line\":{\"color\":\"#2a3f5f\"}},\"annotationdefaults\":{\"arrowcolor\":\"#2a3f5f\",\"arrowhead\":0,\"arrowwidth\":1},\"geo\":{\"bgcolor\":\"white\",\"landcolor\":\"#E5ECF6\",\"subunitcolor\":\"white\",\"showland\":true,\"showlakes\":true,\"lakecolor\":\"white\"},\"title\":{\"x\":0.05},\"mapbox\":{\"style\":\"light\"}}},\"xaxis\":{\"anchor\":\"y\",\"domain\":[0.0,0.98],\"title\":{\"text\":\"Word\"}},\"yaxis\":{\"anchor\":\"x\",\"domain\":[0.0,0.485],\"title\":{\"text\":\"TF-IDF\"}},\"xaxis2\":{\"anchor\":\"y2\",\"domain\":[0.0,0.98],\"matches\":\"x\",\"showticklabels\":false},\"yaxis2\":{\"anchor\":\"x2\",\"domain\":[0.515,1.0],\"matches\":\"y\",\"title\":{\"text\":\"TF-IDF\"}},\"annotations\":[{\"font\":{},\"showarrow\":false,\"text\":\"Label=1\",\"textangle\":90,\"x\":0.98,\"xanchor\":\"left\",\"xref\":\"paper\",\"y\":0.2425,\"yanchor\":\"middle\",\"yref\":\"paper\"},{\"font\":{},\"showarrow\":false,\"text\":\"Label=0\",\"textangle\":90,\"x\":0.98,\"xanchor\":\"left\",\"xref\":\"paper\",\"y\":0.7575000000000001,\"yanchor\":\"middle\",\"yref\":\"paper\"}],\"coloraxis\":{\"colorbar\":{\"title\":{\"text\":\"Label\"}},\"colorscale\":[[0.0,\"#0d0887\"],[0.1111111111111111,\"#46039f\"],[0.2222222222222222,\"#7201a8\"],[0.3333333333333333,\"#9c179e\"],[0.4444444444444444,\"#bd3786\"],[0.5555555555555556,\"#d8576b\"],[0.6666666666666666,\"#ed7953\"],[0.7777777777777778,\"#fb9f3a\"],[0.8888888888888888,\"#fdca26\"],[1.0,\"#f0f921\"]]},\"legend\":{\"tracegroupgap\":0},\"title\":{\"text\":\"Top TF-IDF Terms by Label\"},\"barmode\":\"relative\",\"height\":1200},                        {\"responsive\": true}                    ).then(function(){\n",
              "                            \n",
              "var gd = document.getElementById('5e3d21fd-5476-4b35-8536-a0a74bd55eaa');\n",
              "var x = new MutationObserver(function (mutations, observer) {{\n",
              "        var display = window.getComputedStyle(gd).display;\n",
              "        if (!display || display === 'none') {{\n",
              "            console.log([gd, 'removed!']);\n",
              "            Plotly.purge(gd);\n",
              "            observer.disconnect();\n",
              "        }}\n",
              "}});\n",
              "\n",
              "// Listen for the removal of the full notebook cells\n",
              "var notebookContainer = gd.closest('#notebook-container');\n",
              "if (notebookContainer) {{\n",
              "    x.observe(notebookContainer, {childList: true});\n",
              "}}\n",
              "\n",
              "// Listen for the clearing of the current output cell\n",
              "var outputEl = gd.closest('.output');\n",
              "if (outputEl) {{\n",
              "    x.observe(outputEl, {childList: true});\n",
              "}}\n",
              "\n",
              "                        })                };                            </script>        </div>\n",
              "</body>\n",
              "</html>"
            ]
          },
          "metadata": {}
        }
      ]
    },
    {
      "cell_type": "code",
      "source": [],
      "metadata": {
        "id": "vlZPXQoRZd-R"
      },
      "execution_count": 21,
      "outputs": []
    }
  ]
}